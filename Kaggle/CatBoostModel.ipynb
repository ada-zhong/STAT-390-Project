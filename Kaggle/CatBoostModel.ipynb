{
 "cells": [
  {
   "cell_type": "code",
   "execution_count": 1,
   "id": "c0b6f558",
   "metadata": {},
   "outputs": [],
   "source": [
    "import os\n",
    "os.getcwd()\n",
    "os.chdir(\"C:\\\\Users\\cathy\\OneDrive\\Documents\")"
   ]
  },
  {
   "cell_type": "code",
   "execution_count": 2,
   "id": "80422969",
   "metadata": {},
   "outputs": [],
   "source": [
    "import pandas as pd\n",
    "import numpy as np\n",
    "import random\n",
    "from sklearn.model_selection import train_test_split, KFold\n",
    "from sklearn.impute import KNNImputer\n",
    "from sklearn.preprocessing import StandardScaler\n",
    "from sklearn.ensemble import RandomForestRegressor, BaggingRegressor, VotingRegressor\n",
    "from sklearn.feature_selection import RFE\n",
    "from sklearn import impute\n",
    "from catboost import CatBoostRegressor\n",
    "from xgboost import XGBRegressor\n",
    "from sklearn.ensemble import VotingRegressor\n",
    "import lightgbm as lgb\n",
    "from sklearn.metrics import mean_squared_error"
   ]
  },
  {
   "cell_type": "code",
   "execution_count": 3,
   "id": "d2cda4f8",
   "metadata": {},
   "outputs": [],
   "source": [
    "# Set the random seed for reproducibility\n",
    "seed_value = 42\n",
    "np.random.seed(seed_value)\n",
    "random.seed(seed_value)"
   ]
  },
  {
   "cell_type": "code",
   "execution_count": 4,
   "id": "0435e80b",
   "metadata": {},
   "outputs": [],
   "source": [
    "# Load the data\n",
    "train = pd.read_csv(\"train.csv\")\n",
    "test = pd.read_csv(\"test.csv\")"
   ]
  },
  {
   "cell_type": "markdown",
   "id": "762066ee",
   "metadata": {},
   "source": [
    "## Data Cleaning"
   ]
  },
  {
   "cell_type": "code",
   "execution_count": 5,
   "id": "25bea729",
   "metadata": {},
   "outputs": [],
   "source": [
    "# Split data into target and features\n",
    "y_train = train['y']\n",
    "X_train = train.drop(['id', 'y'], axis=1) \n",
    "X_test = test.drop('id', axis=1)"
   ]
  },
  {
   "cell_type": "code",
   "execution_count": 6,
   "id": "6f8ed63c",
   "metadata": {},
   "outputs": [],
   "source": [
    "# Impute missing values\n",
    "KNN = impute.KNNImputer(n_neighbors = 8)\n",
    "X_train_i = pd.DataFrame(KNN.fit_transform(X_train))\n",
    "X_test_i = pd.DataFrame(KNN.transform(X_test))"
   ]
  },
  {
   "cell_type": "code",
   "execution_count": 7,
   "id": "66dd2412",
   "metadata": {},
   "outputs": [],
   "source": [
    "X_train_i.columns = X_train.columns\n",
    "X_test_i.columns = X_test.columns"
   ]
  },
  {
   "cell_type": "code",
   "execution_count": 8,
   "id": "7f16fdde",
   "metadata": {},
   "outputs": [],
   "source": [
    "# Scale data\n",
    "scaler = StandardScaler().fit(X_train_i)\n",
    "X_train_cleaned = pd.DataFrame(scaler.transform(X_train_i))\n",
    "X_test_cleaned = pd.DataFrame(scaler.transform(X_test_i))"
   ]
  },
  {
   "cell_type": "code",
   "execution_count": 9,
   "id": "03119c77",
   "metadata": {},
   "outputs": [],
   "source": [
    "X_train_cleaned.columns = X_train.columns\n",
    "X_test_cleaned.columns = X_test.columns"
   ]
  },
  {
   "cell_type": "code",
   "execution_count": 10,
   "id": "22caa03a",
   "metadata": {},
   "outputs": [],
   "source": [
    "# Rows with all the same value\n",
    "drop_rows = []\n",
    "\n",
    "for col in X_train_cleaned.columns:\n",
    "    if X_train_cleaned[col].nunique() == 1:\n",
    "        drop_rows.append(col)\n",
    "        \n",
    "# Drop\n",
    "X_train_cleaned.drop(drop_rows, axis = 1, inplace = True)\n",
    "X_test_cleaned.drop(drop_rows, axis = 1, inplace = True)"
   ]
  },
  {
   "cell_type": "code",
   "execution_count": 11,
   "id": "d7f5b681",
   "metadata": {},
   "outputs": [],
   "source": [
    "# Drop duplicates\n",
    "X_train_cleaned = X_train_cleaned.T.drop_duplicates().T\n",
    "X_test_cleaned = X_test_cleaned.T.drop_duplicates().T"
   ]
  },
  {
   "cell_type": "markdown",
   "id": "f95f5219",
   "metadata": {},
   "source": [
    "## Feature Selection"
   ]
  },
  {
   "cell_type": "code",
   "execution_count": 12,
   "id": "043362e2",
   "metadata": {},
   "outputs": [],
   "source": [
    "# Create a RandomForestRegressor model\n",
    "rf_model = RandomForestRegressor(n_jobs = -1)\n",
    "\n",
    "# Fit the model to the training data\n",
    "rf_model.fit(X_train_cleaned, y_train)\n",
    "\n",
    "# Get the feature importances\n",
    "importances = rf_model.feature_importances_\n",
    "\n",
    "# Get the indices of features with non-zero importances\n",
    "selected_indices = np.where(importances != 0)[0]\n",
    "\n",
    "# Filter the datasets for the important features\n",
    "X_train_feat = X_train_cleaned.iloc[:, selected_indices]\n",
    "X_test_feat = X_test_cleaned.iloc[:, selected_indices]"
   ]
  },
  {
   "cell_type": "markdown",
   "id": "2128a758",
   "metadata": {},
   "source": [
    "## CatBoost model (BaggingRegressor)"
   ]
  },
  {
   "cell_type": "code",
   "execution_count": 13,
   "id": "52806cd5",
   "metadata": {},
   "outputs": [
    {
     "name": "stderr",
     "output_type": "stream",
     "text": [
      "C:\\Users\\cathy\\anaconda3\\lib\\site-packages\\sklearn\\ensemble\\_base.py:166: FutureWarning: `base_estimator` was renamed to `estimator` in version 1.2 and will be removed in 1.4.\n",
      "  warnings.warn(\n"
     ]
    },
    {
     "data": {
      "text/html": [
       "<style>#sk-container-id-1 {color: black;background-color: white;}#sk-container-id-1 pre{padding: 0;}#sk-container-id-1 div.sk-toggleable {background-color: white;}#sk-container-id-1 label.sk-toggleable__label {cursor: pointer;display: block;width: 100%;margin-bottom: 0;padding: 0.3em;box-sizing: border-box;text-align: center;}#sk-container-id-1 label.sk-toggleable__label-arrow:before {content: \"▸\";float: left;margin-right: 0.25em;color: #696969;}#sk-container-id-1 label.sk-toggleable__label-arrow:hover:before {color: black;}#sk-container-id-1 div.sk-estimator:hover label.sk-toggleable__label-arrow:before {color: black;}#sk-container-id-1 div.sk-toggleable__content {max-height: 0;max-width: 0;overflow: hidden;text-align: left;background-color: #f0f8ff;}#sk-container-id-1 div.sk-toggleable__content pre {margin: 0.2em;color: black;border-radius: 0.25em;background-color: #f0f8ff;}#sk-container-id-1 input.sk-toggleable__control:checked~div.sk-toggleable__content {max-height: 200px;max-width: 100%;overflow: auto;}#sk-container-id-1 input.sk-toggleable__control:checked~label.sk-toggleable__label-arrow:before {content: \"▾\";}#sk-container-id-1 div.sk-estimator input.sk-toggleable__control:checked~label.sk-toggleable__label {background-color: #d4ebff;}#sk-container-id-1 div.sk-label input.sk-toggleable__control:checked~label.sk-toggleable__label {background-color: #d4ebff;}#sk-container-id-1 input.sk-hidden--visually {border: 0;clip: rect(1px 1px 1px 1px);clip: rect(1px, 1px, 1px, 1px);height: 1px;margin: -1px;overflow: hidden;padding: 0;position: absolute;width: 1px;}#sk-container-id-1 div.sk-estimator {font-family: monospace;background-color: #f0f8ff;border: 1px dotted black;border-radius: 0.25em;box-sizing: border-box;margin-bottom: 0.5em;}#sk-container-id-1 div.sk-estimator:hover {background-color: #d4ebff;}#sk-container-id-1 div.sk-parallel-item::after {content: \"\";width: 100%;border-bottom: 1px solid gray;flex-grow: 1;}#sk-container-id-1 div.sk-label:hover label.sk-toggleable__label {background-color: #d4ebff;}#sk-container-id-1 div.sk-serial::before {content: \"\";position: absolute;border-left: 1px solid gray;box-sizing: border-box;top: 0;bottom: 0;left: 50%;z-index: 0;}#sk-container-id-1 div.sk-serial {display: flex;flex-direction: column;align-items: center;background-color: white;padding-right: 0.2em;padding-left: 0.2em;position: relative;}#sk-container-id-1 div.sk-item {position: relative;z-index: 1;}#sk-container-id-1 div.sk-parallel {display: flex;align-items: stretch;justify-content: center;background-color: white;position: relative;}#sk-container-id-1 div.sk-item::before, #sk-container-id-1 div.sk-parallel-item::before {content: \"\";position: absolute;border-left: 1px solid gray;box-sizing: border-box;top: 0;bottom: 0;left: 50%;z-index: -1;}#sk-container-id-1 div.sk-parallel-item {display: flex;flex-direction: column;z-index: 1;position: relative;background-color: white;}#sk-container-id-1 div.sk-parallel-item:first-child::after {align-self: flex-end;width: 50%;}#sk-container-id-1 div.sk-parallel-item:last-child::after {align-self: flex-start;width: 50%;}#sk-container-id-1 div.sk-parallel-item:only-child::after {width: 0;}#sk-container-id-1 div.sk-dashed-wrapped {border: 1px dashed gray;margin: 0 0.4em 0.5em 0.4em;box-sizing: border-box;padding-bottom: 0.4em;background-color: white;}#sk-container-id-1 div.sk-label label {font-family: monospace;font-weight: bold;display: inline-block;line-height: 1.2em;}#sk-container-id-1 div.sk-label-container {text-align: center;}#sk-container-id-1 div.sk-container {/* jupyter's `normalize.less` sets `[hidden] { display: none; }` but bootstrap.min.css set `[hidden] { display: none !important; }` so we also need the `!important` here to be able to override the default hidden behavior on the sphinx rendered scikit-learn.org. See: https://github.com/scikit-learn/scikit-learn/issues/21755 */display: inline-block !important;position: relative;}#sk-container-id-1 div.sk-text-repr-fallback {display: none;}</style><div id=\"sk-container-id-1\" class=\"sk-top-container\"><div class=\"sk-text-repr-fallback\"><pre>BaggingRegressor(base_estimator=&lt;catboost.core.CatBoostRegressor object at 0x000002492E80E100&gt;,\n",
       "                 n_estimators=20, random_state=1)</pre><b>In a Jupyter environment, please rerun this cell to show the HTML representation or trust the notebook. <br />On GitHub, the HTML representation is unable to render, please try loading this page with nbviewer.org.</b></div><div class=\"sk-container\" hidden><div class=\"sk-item sk-dashed-wrapped\"><div class=\"sk-label-container\"><div class=\"sk-label sk-toggleable\"><input class=\"sk-toggleable__control sk-hidden--visually\" id=\"sk-estimator-id-1\" type=\"checkbox\" ><label for=\"sk-estimator-id-1\" class=\"sk-toggleable__label sk-toggleable__label-arrow\">BaggingRegressor</label><div class=\"sk-toggleable__content\"><pre>BaggingRegressor(base_estimator=&lt;catboost.core.CatBoostRegressor object at 0x000002492E80E100&gt;,\n",
       "                 n_estimators=20, random_state=1)</pre></div></div></div><div class=\"sk-parallel\"><div class=\"sk-parallel-item\"><div class=\"sk-item\"><div class=\"sk-label-container\"><div class=\"sk-label sk-toggleable\"><input class=\"sk-toggleable__control sk-hidden--visually\" id=\"sk-estimator-id-2\" type=\"checkbox\" ><label for=\"sk-estimator-id-2\" class=\"sk-toggleable__label sk-toggleable__label-arrow\">base_estimator: CatBoostRegressor</label><div class=\"sk-toggleable__content\"><pre>&lt;catboost.core.CatBoostRegressor object at 0x000002492E80E100&gt;</pre></div></div></div><div class=\"sk-serial\"><div class=\"sk-item\"><div class=\"sk-estimator sk-toggleable\"><input class=\"sk-toggleable__control sk-hidden--visually\" id=\"sk-estimator-id-3\" type=\"checkbox\" ><label for=\"sk-estimator-id-3\" class=\"sk-toggleable__label sk-toggleable__label-arrow\">CatBoostRegressor</label><div class=\"sk-toggleable__content\"><pre>&lt;catboost.core.CatBoostRegressor object at 0x000002492E80E100&gt;</pre></div></div></div></div></div></div></div></div></div></div>"
      ],
      "text/plain": [
       "BaggingRegressor(base_estimator=<catboost.core.CatBoostRegressor object at 0x000002492E80E100>,\n",
       "                 n_estimators=20, random_state=1)"
      ]
     },
     "execution_count": 13,
     "metadata": {},
     "output_type": "execute_result"
    }
   ],
   "source": [
    "# Base CatBoostRegressor model\n",
    "base_model = CatBoostRegressor(verbose=False)\n",
    "\n",
    "# BaggingRegressor model\n",
    "bagged_model = BaggingRegressor(base_estimator=base_model, n_estimators=20, random_state=1)\n",
    "\n",
    "# Fit Bagged model\n",
    "bagged_model.fit(X_train_feat, np.log(y_train))\n"
   ]
  },
  {
   "cell_type": "code",
   "execution_count": 14,
   "id": "afe7bc10",
   "metadata": {},
   "outputs": [],
   "source": [
    "# Make predictions\n",
    "y_pred = np.exp(bagged_model.predict(X_train_feat))\n",
    "test_predict = bagged_model.predict(X_test_feat)\n",
    "\n",
    "catboost_pred = np.exp(test_predict) + np.mean(y_train - y_pred)"
   ]
  },
  {
   "cell_type": "code",
   "execution_count": 15,
   "id": "f7eb6f1a",
   "metadata": {},
   "outputs": [
    {
     "data": {
      "text/plain": [
       "array([5.51075704, 7.45518683, 4.4238378 , ..., 8.71784289, 9.22645249,\n",
       "       7.61973604])"
      ]
     },
     "execution_count": 15,
     "metadata": {},
     "output_type": "execute_result"
    }
   ],
   "source": [
    "catboost_pred"
   ]
  },
  {
   "cell_type": "code",
   "execution_count": 16,
   "id": "8f6e0413",
   "metadata": {},
   "outputs": [],
   "source": [
    "# Create predictions df\n",
    "predictions = pd.DataFrame({\"id\":test.iloc[:, 0], \"y\":catboost_pred})\n",
    "\n",
    "# Clip the predicted y-values in case they are out of range\n",
    "predictions['y'] = predictions['y'].clip(lower=1, upper=100)\n",
    "\n",
    "# Export the predictions as a csv file for Kaggle submission\n",
    "predictions.to_csv(\"6_2_2.csv\", index=False)"
   ]
  },
  {
   "cell_type": "code",
   "execution_count": null,
   "id": "aeaa6409",
   "metadata": {},
   "outputs": [],
   "source": []
  },
  {
   "cell_type": "code",
   "execution_count": null,
   "id": "2c176e51",
   "metadata": {},
   "outputs": [],
   "source": []
  }
 ],
 "metadata": {
  "kernelspec": {
   "display_name": "Python 3 (ipykernel)",
   "language": "python",
   "name": "python3"
  },
  "language_info": {
   "codemirror_mode": {
    "name": "ipython",
    "version": 3
   },
   "file_extension": ".py",
   "mimetype": "text/x-python",
   "name": "python",
   "nbconvert_exporter": "python",
   "pygments_lexer": "ipython3",
   "version": "3.8.8"
  }
 },
 "nbformat": 4,
 "nbformat_minor": 5
}
