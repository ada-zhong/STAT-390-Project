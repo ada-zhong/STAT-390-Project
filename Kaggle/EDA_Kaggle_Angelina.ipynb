{
 "cells": [
  {
   "attachments": {},
   "cell_type": "markdown",
   "metadata": {},
   "source": [
    "# EDA for Kaggle Data"
   ]
  },
  {
   "cell_type": "code",
   "execution_count": 1,
   "metadata": {},
   "outputs": [],
   "source": [
    "import pandas as pd\n",
    "import numpy as np\n",
    "import seaborn as sns\n",
    "import matplotlib.pyplot as plt\n",
    "\n",
    "from sklearn.decomposition import PCA\n",
    "from sklearn.linear_model import LinearRegression\n",
    "from sklearn.metrics import mean_squared_error\n",
    "from sklearn.preprocessing import StandardScaler\n",
    "from sklearn.model_selection import GridSearchCV, train_test_split\n",
    "from sklearn import linear_model\n",
    "from sklearn.pipeline import Pipeline\n",
    "from sklearn.preprocessing import PolynomialFeatures\n",
    "\n",
    "import tensorflow as tf\n",
    "tf.config.run_functions_eagerly(True)\n",
    "\n",
    "from keras.utils import set_random_seed\n",
    "from keras.models import Sequential\n",
    "from keras.layers import Dense, InputLayer, Dropout\n",
    "from keras.utils import to_categorical\n",
    "from keras.callbacks import EarlyStopping\n",
    "from sklearn import metrics"
   ]
  },
  {
   "cell_type": "code",
   "execution_count": 2,
   "metadata": {},
   "outputs": [],
   "source": [
    "data = pd.read_csv('train.csv')"
   ]
  },
  {
   "cell_type": "code",
   "execution_count": 3,
   "metadata": {},
   "outputs": [],
   "source": [
    "data.T.drop_duplicates().T\n",
    "data = data.interpolate()\n",
    "data = data.dropna()\n",
    "X = data.drop([\"id\", \"y\"], axis = 1)\n",
    "y = data[\"y\"]\n"
   ]
  },
  {
   "attachments": {},
   "cell_type": "markdown",
   "metadata": {},
   "source": [
    "# Basic Information"
   ]
  },
  {
   "cell_type": "code",
   "execution_count": null,
   "metadata": {},
   "outputs": [
    {
     "data": {
      "text/html": [
       "<div>\n",
       "<style scoped>\n",
       "    .dataframe tbody tr th:only-of-type {\n",
       "        vertical-align: middle;\n",
       "    }\n",
       "\n",
       "    .dataframe tbody tr th {\n",
       "        vertical-align: top;\n",
       "    }\n",
       "\n",
       "    .dataframe thead th {\n",
       "        text-align: right;\n",
       "    }\n",
       "</style>\n",
       "<table border=\"1\" class=\"dataframe\">\n",
       "  <thead>\n",
       "    <tr style=\"text-align: right;\">\n",
       "      <th></th>\n",
       "      <th>id</th>\n",
       "      <th>x001</th>\n",
       "      <th>x002</th>\n",
       "      <th>x003</th>\n",
       "      <th>x004</th>\n",
       "      <th>x005</th>\n",
       "      <th>x006</th>\n",
       "      <th>x007</th>\n",
       "      <th>x008</th>\n",
       "      <th>x009</th>\n",
       "      <th>...</th>\n",
       "      <th>x757</th>\n",
       "      <th>x758</th>\n",
       "      <th>x759</th>\n",
       "      <th>x760</th>\n",
       "      <th>x761</th>\n",
       "      <th>x762</th>\n",
       "      <th>x763</th>\n",
       "      <th>x764</th>\n",
       "      <th>x765</th>\n",
       "      <th>y</th>\n",
       "    </tr>\n",
       "  </thead>\n",
       "  <tbody>\n",
       "    <tr>\n",
       "      <th>0</th>\n",
       "      <td>0</td>\n",
       "      <td>9.681860e+10</td>\n",
       "      <td>6991.15</td>\n",
       "      <td>7.76</td>\n",
       "      <td>0.00380</td>\n",
       "      <td>5.378811e+09</td>\n",
       "      <td>0.31</td>\n",
       "      <td>266117.20</td>\n",
       "      <td>934577.0</td>\n",
       "      <td>14539.0</td>\n",
       "      <td>...</td>\n",
       "      <td>0.0007</td>\n",
       "      <td>297281012</td>\n",
       "      <td>0.13</td>\n",
       "      <td>5.0</td>\n",
       "      <td>5</td>\n",
       "      <td>2.0</td>\n",
       "      <td>8.5127</td>\n",
       "      <td>14.28</td>\n",
       "      <td>-0.75</td>\n",
       "      <td>5</td>\n",
       "    </tr>\n",
       "    <tr>\n",
       "      <th>2</th>\n",
       "      <td>2</td>\n",
       "      <td>3.218944e+10</td>\n",
       "      <td>3991.98</td>\n",
       "      <td>5.77</td>\n",
       "      <td>0.00010</td>\n",
       "      <td>2.476111e+09</td>\n",
       "      <td>0.00</td>\n",
       "      <td>774385.01</td>\n",
       "      <td>375738.0</td>\n",
       "      <td>144143.0</td>\n",
       "      <td>...</td>\n",
       "      <td>0.0029</td>\n",
       "      <td>100474819</td>\n",
       "      <td>0.39</td>\n",
       "      <td>39.0</td>\n",
       "      <td>2</td>\n",
       "      <td>18.0</td>\n",
       "      <td>9.6800</td>\n",
       "      <td>25.06</td>\n",
       "      <td>-0.49</td>\n",
       "      <td>11</td>\n",
       "    </tr>\n",
       "    <tr>\n",
       "      <th>4</th>\n",
       "      <td>4</td>\n",
       "      <td>3.063412e+10</td>\n",
       "      <td>3621.00</td>\n",
       "      <td>7.52</td>\n",
       "      <td>0.00060</td>\n",
       "      <td>1.392460e+09</td>\n",
       "      <td>0.21</td>\n",
       "      <td>169860.29</td>\n",
       "      <td>474253.0</td>\n",
       "      <td>17914.0</td>\n",
       "      <td>...</td>\n",
       "      <td>0.0005</td>\n",
       "      <td>109546590</td>\n",
       "      <td>0.11</td>\n",
       "      <td>11.0</td>\n",
       "      <td>1</td>\n",
       "      <td>3.0</td>\n",
       "      <td>16.2717</td>\n",
       "      <td>5.81</td>\n",
       "      <td>-0.42</td>\n",
       "      <td>5</td>\n",
       "    </tr>\n",
       "    <tr>\n",
       "      <th>5</th>\n",
       "      <td>5</td>\n",
       "      <td>4.377769e+10</td>\n",
       "      <td>27776.26</td>\n",
       "      <td>6.02</td>\n",
       "      <td>0.00505</td>\n",
       "      <td>5.472212e+09</td>\n",
       "      <td>0.50</td>\n",
       "      <td>10797026.17</td>\n",
       "      <td>4501083.0</td>\n",
       "      <td>7538720.0</td>\n",
       "      <td>...</td>\n",
       "      <td>0.6223</td>\n",
       "      <td>154000000000000</td>\n",
       "      <td>0.52</td>\n",
       "      <td>1883.0</td>\n",
       "      <td>1</td>\n",
       "      <td>1055.0</td>\n",
       "      <td>4.5550</td>\n",
       "      <td>271.84</td>\n",
       "      <td>0.62</td>\n",
       "      <td>1</td>\n",
       "    </tr>\n",
       "    <tr>\n",
       "      <th>7</th>\n",
       "      <td>7</td>\n",
       "      <td>1.583740e+10</td>\n",
       "      <td>17060.72</td>\n",
       "      <td>5.73</td>\n",
       "      <td>0.00275</td>\n",
       "      <td>2.262486e+09</td>\n",
       "      <td>0.49</td>\n",
       "      <td>10151935.50</td>\n",
       "      <td>2262318.0</td>\n",
       "      <td>4887848.0</td>\n",
       "      <td>...</td>\n",
       "      <td>0.4630</td>\n",
       "      <td>7170000000000</td>\n",
       "      <td>0.86</td>\n",
       "      <td>2007.0</td>\n",
       "      <td>1</td>\n",
       "      <td>1113.0</td>\n",
       "      <td>5.5842</td>\n",
       "      <td>137.96</td>\n",
       "      <td>-0.94</td>\n",
       "      <td>3</td>\n",
       "    </tr>\n",
       "  </tbody>\n",
       "</table>\n",
       "<p>5 rows × 767 columns</p>\n",
       "</div>"
      ],
      "text/plain": [
       "   id          x001      x002  x003     x004          x005  x006         x007  \\\n",
       "0   0  9.681860e+10   6991.15  7.76  0.00380  5.378811e+09  0.31    266117.20   \n",
       "2   2  3.218944e+10   3991.98  5.77  0.00010  2.476111e+09  0.00    774385.01   \n",
       "4   4  3.063412e+10   3621.00  7.52  0.00060  1.392460e+09  0.21    169860.29   \n",
       "5   5  4.377769e+10  27776.26  6.02  0.00505  5.472212e+09  0.50  10797026.17   \n",
       "7   7  1.583740e+10  17060.72  5.73  0.00275  2.262486e+09  0.49  10151935.50   \n",
       "\n",
       "        x008       x009  ...    x757             x758  x759    x760  x761  \\\n",
       "0   934577.0    14539.0  ...  0.0007        297281012  0.13     5.0     5   \n",
       "2   375738.0   144143.0  ...  0.0029        100474819  0.39    39.0     2   \n",
       "4   474253.0    17914.0  ...  0.0005        109546590  0.11    11.0     1   \n",
       "5  4501083.0  7538720.0  ...  0.6223  154000000000000  0.52  1883.0     1   \n",
       "7  2262318.0  4887848.0  ...  0.4630    7170000000000  0.86  2007.0     1   \n",
       "\n",
       "     x762     x763    x764  x765   y  \n",
       "0     2.0   8.5127   14.28 -0.75   5  \n",
       "2    18.0   9.6800   25.06 -0.49  11  \n",
       "4     3.0  16.2717    5.81 -0.42   5  \n",
       "5  1055.0   4.5550  271.84  0.62   1  \n",
       "7  1113.0   5.5842  137.96 -0.94   3  \n",
       "\n",
       "[5 rows x 767 columns]"
      ]
     },
     "execution_count": 31,
     "metadata": {},
     "output_type": "execute_result"
    }
   ],
   "source": [
    "data.head()"
   ]
  },
  {
   "cell_type": "code",
   "execution_count": null,
   "metadata": {},
   "outputs": [
    {
     "data": {
      "text/plain": [
       "(2857, 765)"
      ]
     },
     "execution_count": 32,
     "metadata": {},
     "output_type": "execute_result"
    }
   ],
   "source": [
    "X.shape"
   ]
  },
  {
   "cell_type": "code",
   "execution_count": null,
   "metadata": {},
   "outputs": [
    {
     "data": {
      "text/plain": [
       "id      0\n",
       "x001    0\n",
       "x002    0\n",
       "x003    0\n",
       "x004    0\n",
       "       ..\n",
       "x762    0\n",
       "x763    0\n",
       "x764    0\n",
       "x765    0\n",
       "y       0\n",
       "Length: 767, dtype: int64"
      ]
     },
     "execution_count": 33,
     "metadata": {},
     "output_type": "execute_result"
    }
   ],
   "source": [
    "data.isnull().sum()"
   ]
  },
  {
   "cell_type": "code",
   "execution_count": null,
   "metadata": {},
   "outputs": [
    {
     "data": {
      "text/plain": [
       "float64    657\n",
       "int64       99\n",
       "object      11\n",
       "dtype: int64"
      ]
     },
     "execution_count": 42,
     "metadata": {},
     "output_type": "execute_result"
    }
   ],
   "source": [
    "data.dtypes.value_counts()"
   ]
  },
  {
   "cell_type": "code",
   "execution_count": null,
   "metadata": {},
   "outputs": [
    {
     "data": {
      "text/plain": [
       "x376    0.000454\n",
       "x054    0.000863\n",
       "x536    0.000868\n",
       "x132    0.001202\n",
       "x681    0.001357\n",
       "          ...   \n",
       "x465         NaN\n",
       "x518         NaN\n",
       "x594         NaN\n",
       "x643         NaN\n",
       "x703         NaN\n",
       "Length: 756, dtype: float64"
      ]
     },
     "execution_count": 81,
     "metadata": {},
     "output_type": "execute_result"
    }
   ],
   "source": [
    "np.abs(data.corrwith(y)).sort_values()"
   ]
  },
  {
   "attachments": {},
   "cell_type": "markdown",
   "metadata": {},
   "source": [
    "# PCA"
   ]
  },
  {
   "cell_type": "code",
   "execution_count": 4,
   "metadata": {},
   "outputs": [],
   "source": [
    "X = X.dropna()"
   ]
  },
  {
   "cell_type": "code",
   "execution_count": 5,
   "metadata": {},
   "outputs": [],
   "source": [
    "test = pd.read_csv(\"test.csv\")\n"
   ]
  },
  {
   "cell_type": "code",
   "execution_count": 6,
   "metadata": {},
   "outputs": [],
   "source": [
    "test = test.astype(\"float\")"
   ]
  },
  {
   "cell_type": "code",
   "execution_count": 7,
   "metadata": {},
   "outputs": [],
   "source": [
    "test.T.drop_duplicates().T\n",
    "test = test.interpolate()\n",
    "\n"
   ]
  },
  {
   "cell_type": "code",
   "execution_count": 8,
   "metadata": {},
   "outputs": [],
   "source": [
    "test = test.fillna(0)"
   ]
  },
  {
   "cell_type": "code",
   "execution_count": 9,
   "metadata": {},
   "outputs": [],
   "source": [
    "X_test = test.drop([\"id\"], axis = 1)"
   ]
  },
  {
   "cell_type": "code",
   "execution_count": 10,
   "metadata": {},
   "outputs": [],
   "source": [
    "sc = StandardScaler()\n",
    "sc.fit(X)\n",
    "X_scaled = sc.transform(X)\n",
    "X_test_scaled = sc.transform(X_test)\n",
    "\n",
    "pca = PCA(n_components=0.99, svd_solver=\"full\")\n",
    "X_transformed = pca.fit_transform(X_scaled)\n",
    "\n",
    "X_test_transformed = pca.transform(X_test_scaled)"
   ]
  },
  {
   "cell_type": "code",
   "execution_count": null,
   "metadata": {},
   "outputs": [],
   "source": [
    "\n",
    "linreg = LinearRegression().fit(X_transformed, y)\n",
    "\n",
    "y_pred = linreg.predict(X_test_transformed)"
   ]
  },
  {
   "cell_type": "code",
   "execution_count": null,
   "metadata": {},
   "outputs": [],
   "source": [
    "from sklearn import linear_model\n",
    "clf = linear_model.Lasso()\n",
    "clf.fit(X_transformed, y)\n",
    "y_pred = clf.predict(X_test_transformed)"
   ]
  },
  {
   "cell_type": "code",
   "execution_count": null,
   "metadata": {},
   "outputs": [],
   "source": [
    "from sklearn.neighbors import KNeighborsRegressor\n",
    "neigh = KNeighborsRegressor(n_neighbors=5)\n",
    "neigh.fit(X_transformed, y)\n",
    "y_pred = neigh.predict(X_test_transformed)"
   ]
  },
  {
   "attachments": {},
   "cell_type": "markdown",
   "metadata": {},
   "source": [
    "## Lasso"
   ]
  },
  {
   "cell_type": "code",
   "execution_count": 11,
   "metadata": {},
   "outputs": [],
   "source": [
    "models = {'OLS': linear_model.LinearRegression(),\n",
    "         'Lasso': linear_model.Lasso(),\n",
    "         'Ridge': linear_model.Ridge(),}"
   ]
  },
  {
   "cell_type": "code",
   "execution_count": 34,
   "metadata": {},
   "outputs": [],
   "source": [
    "lasso_params = {'alpha':[0.001, 0.01, 0.1, 1, 10, 100, 1000]}\n",
    "ridge_params = {'alpha':[200, 300, 400, 500]}\n",
    "\n",
    "models2 = {'OLS': linear_model.LinearRegression(),\n",
    "           'Lasso': GridSearchCV(linear_model.Lasso(), \n",
    "                               param_grid=lasso_params).fit(X_transformed, y).best_estimator_,\n",
    "           'Ridge': GridSearchCV(linear_model.Ridge(), \n",
    "                               param_grid=ridge_params).fit(X_transformed, y).best_estimator_,}"
   ]
  },
  {
   "cell_type": "code",
   "execution_count": 37,
   "metadata": {},
   "outputs": [],
   "source": [
    "lassoreg = models2[\"Lasso\"]\n",
    "y_pred = lassoreg.predict(X_test_transformed)"
   ]
  },
  {
   "attachments": {},
   "cell_type": "markdown",
   "metadata": {},
   "source": [
    "## NN"
   ]
  },
  {
   "cell_type": "code",
   "execution_count": 11,
   "metadata": {},
   "outputs": [
    {
     "data": {
      "text/plain": [
       "(5370, 227)"
      ]
     },
     "execution_count": 11,
     "metadata": {},
     "output_type": "execute_result"
    }
   ],
   "source": [
    "X_transformed.shape"
   ]
  },
  {
   "cell_type": "code",
   "execution_count": 23,
   "metadata": {},
   "outputs": [],
   "source": [
    "network = Sequential() \n",
    "\n",
    "network.add(InputLayer(input_shape=(227,))) # input layer\n",
    "network.add(Dropout(0.3))\n",
    "network.add(Dense(500, activation='relu', kernel_initializer='HeNormal')) \n",
    "network.add(Dropout(0.3))\n",
    "network.add(Dense(200, activation='relu', kernel_initializer='HeNormal')) \n",
    "network.add(Dropout(0.3))\n",
    "network.add(Dense(100, activation='relu', kernel_initializer='HeNormal'))\n",
    "network.add(Dropout(0.3))\n",
    "network.add(Dense(50, activation='relu', kernel_initializer='HeNormal'))\n",
    "network.add(Dropout(0.3))\n",
    "network.add(Dense(20, activation='relu', kernel_initializer='HeNormal')) \n",
    "network.add(Dense(1, activation='linear', kernel_initializer='HeNormal')) # output layer"
   ]
  },
  {
   "cell_type": "code",
   "execution_count": 24,
   "metadata": {},
   "outputs": [
    {
     "name": "stdout",
     "output_type": "stream",
     "text": [
      "Epoch 1/20\n",
      "168/168 [==============================] - 4s 21ms/step - loss: 140.1779\n",
      "Epoch 2/20\n",
      "168/168 [==============================] - 4s 21ms/step - loss: 122.5563\n",
      "Epoch 3/20\n",
      "168/168 [==============================] - 3s 20ms/step - loss: 115.2844\n",
      "Epoch 4/20\n",
      "168/168 [==============================] - 3s 20ms/step - loss: 111.6740\n",
      "Epoch 5/20\n",
      "168/168 [==============================] - 3s 20ms/step - loss: 107.8311\n",
      "Epoch 6/20\n",
      "168/168 [==============================] - 5s 29ms/step - loss: 107.0433\n",
      "Epoch 7/20\n",
      "168/168 [==============================] - 5s 28ms/step - loss: 101.8549\n",
      "Epoch 8/20\n",
      "168/168 [==============================] - 4s 21ms/step - loss: 94.3645\n",
      "Epoch 9/20\n",
      "168/168 [==============================] - 4s 21ms/step - loss: 96.1739\n",
      "Epoch 10/20\n",
      "168/168 [==============================] - 3s 19ms/step - loss: 97.2604\n",
      "Epoch 11/20\n",
      "168/168 [==============================] - 3s 19ms/step - loss: 87.7227\n",
      "Epoch 12/20\n",
      "168/168 [==============================] - 6s 34ms/step - loss: 90.8862\n",
      "Epoch 13/20\n",
      "168/168 [==============================] - 4s 26ms/step - loss: 87.0264\n",
      "Epoch 14/20\n",
      " 34/168 [=====>........................] - ETA: 2s - loss: 76.1895"
     ]
    }
   ],
   "source": [
    "network.compile(loss='mean_squared_error')\n",
    "# categorical_crossentropy for classification\n",
    "\n",
    "history = network.fit(X_transformed, y, epochs=20)\n",
    "\n",
    "y_pred = network.predict(X_test_transformed)"
   ]
  },
  {
   "cell_type": "code",
   "execution_count": 20,
   "metadata": {},
   "outputs": [
    {
     "data": {
      "text/plain": [
       "array([4.0365524, 4.0737514, 3.4777052, ..., 5.0569086, 9.273565 ,\n",
       "       3.9625456], dtype=float32)"
      ]
     },
     "execution_count": 20,
     "metadata": {},
     "output_type": "execute_result"
    }
   ],
   "source": [
    "y_pred.flatten()"
   ]
  },
  {
   "cell_type": "code",
   "execution_count": 21,
   "metadata": {},
   "outputs": [],
   "source": [
    "d = {'id': range(5380, 9783), 'y': y_pred.flatten()}\n",
    "df = pd.DataFrame(data=d)"
   ]
  },
  {
   "cell_type": "code",
   "execution_count": 22,
   "metadata": {},
   "outputs": [],
   "source": [
    "df.to_csv(\"test_submission.csv\", index=False)"
   ]
  },
  {
   "cell_type": "code",
   "execution_count": null,
   "metadata": {},
   "outputs": [],
   "source": [
    "variances = pca.explained_variance_ratio_"
   ]
  },
  {
   "cell_type": "code",
   "execution_count": null,
   "metadata": {},
   "outputs": [
    {
     "ename": "ValueError",
     "evalue": "shape mismatch: objects cannot be broadcast to a single shape.  Mismatch is between arg 0 with shape (227,) and arg 1 with shape (84,).",
     "output_type": "error",
     "traceback": [
      "\u001b[1;31m---------------------------------------------------------------------------\u001b[0m",
      "\u001b[1;31mValueError\u001b[0m                                Traceback (most recent call last)",
      "\u001b[1;32mc:\\Users\\jagli\\OneDrive\\Desktop\\Stat390\\EDA-Angelina\\EDA_Kaggle.ipynb Cell 23\u001b[0m in \u001b[0;36m<cell line: 1>\u001b[1;34m()\u001b[0m\n\u001b[1;32m----> <a href='vscode-notebook-cell:/c%3A/Users/jagli/OneDrive/Desktop/Stat390/EDA-Angelina/EDA_Kaggle.ipynb#X34sZmlsZQ%3D%3D?line=0'>1</a>\u001b[0m plt\u001b[39m.\u001b[39;49mbar(\u001b[39mrange\u001b[39;49m(\u001b[39m227\u001b[39;49m), variances)\n\u001b[0;32m      <a href='vscode-notebook-cell:/c%3A/Users/jagli/OneDrive/Desktop/Stat390/EDA-Angelina/EDA_Kaggle.ipynb#X34sZmlsZQ%3D%3D?line=1'>2</a>\u001b[0m plt\u001b[39m.\u001b[39mxlabel(\u001b[39m'\u001b[39m\u001b[39mPC Number\u001b[39m\u001b[39m'\u001b[39m)\n\u001b[0;32m      <a href='vscode-notebook-cell:/c%3A/Users/jagli/OneDrive/Desktop/Stat390/EDA-Angelina/EDA_Kaggle.ipynb#X34sZmlsZQ%3D%3D?line=2'>3</a>\u001b[0m plt\u001b[39m.\u001b[39mylabel(\u001b[39m'\u001b[39m\u001b[39mPortion of Variance Explained\u001b[39m\u001b[39m'\u001b[39m)\n",
      "File \u001b[1;32mc:\\Users\\jagli\\anaconda3\\lib\\site-packages\\matplotlib\\pyplot.py:2387\u001b[0m, in \u001b[0;36mbar\u001b[1;34m(x, height, width, bottom, align, data, **kwargs)\u001b[0m\n\u001b[0;32m   2383\u001b[0m \u001b[39m@_copy_docstring_and_deprecators\u001b[39m(Axes\u001b[39m.\u001b[39mbar)\n\u001b[0;32m   2384\u001b[0m \u001b[39mdef\u001b[39;00m \u001b[39mbar\u001b[39m(\n\u001b[0;32m   2385\u001b[0m         x, height, width\u001b[39m=\u001b[39m\u001b[39m0.8\u001b[39m, bottom\u001b[39m=\u001b[39m\u001b[39mNone\u001b[39;00m, \u001b[39m*\u001b[39m, align\u001b[39m=\u001b[39m\u001b[39m'\u001b[39m\u001b[39mcenter\u001b[39m\u001b[39m'\u001b[39m,\n\u001b[0;32m   2386\u001b[0m         data\u001b[39m=\u001b[39m\u001b[39mNone\u001b[39;00m, \u001b[39m*\u001b[39m\u001b[39m*\u001b[39mkwargs):\n\u001b[1;32m-> 2387\u001b[0m     \u001b[39mreturn\u001b[39;00m gca()\u001b[39m.\u001b[39mbar(\n\u001b[0;32m   2388\u001b[0m         x, height, width\u001b[39m=\u001b[39mwidth, bottom\u001b[39m=\u001b[39mbottom, align\u001b[39m=\u001b[39malign,\n\u001b[0;32m   2389\u001b[0m         \u001b[39m*\u001b[39m\u001b[39m*\u001b[39m({\u001b[39m\"\u001b[39m\u001b[39mdata\u001b[39m\u001b[39m\"\u001b[39m: data} \u001b[39mif\u001b[39;00m data \u001b[39mis\u001b[39;00m \u001b[39mnot\u001b[39;00m \u001b[39mNone\u001b[39;00m \u001b[39melse\u001b[39;00m {}), \u001b[39m*\u001b[39m\u001b[39m*\u001b[39mkwargs)\n",
      "File \u001b[1;32mc:\\Users\\jagli\\anaconda3\\lib\\site-packages\\matplotlib\\__init__.py:1412\u001b[0m, in \u001b[0;36m_preprocess_data.<locals>.inner\u001b[1;34m(ax, data, *args, **kwargs)\u001b[0m\n\u001b[0;32m   1409\u001b[0m \u001b[39m@functools\u001b[39m\u001b[39m.\u001b[39mwraps(func)\n\u001b[0;32m   1410\u001b[0m \u001b[39mdef\u001b[39;00m \u001b[39minner\u001b[39m(ax, \u001b[39m*\u001b[39margs, data\u001b[39m=\u001b[39m\u001b[39mNone\u001b[39;00m, \u001b[39m*\u001b[39m\u001b[39m*\u001b[39mkwargs):\n\u001b[0;32m   1411\u001b[0m     \u001b[39mif\u001b[39;00m data \u001b[39mis\u001b[39;00m \u001b[39mNone\u001b[39;00m:\n\u001b[1;32m-> 1412\u001b[0m         \u001b[39mreturn\u001b[39;00m func(ax, \u001b[39m*\u001b[39m\u001b[39mmap\u001b[39m(sanitize_sequence, args), \u001b[39m*\u001b[39m\u001b[39m*\u001b[39mkwargs)\n\u001b[0;32m   1414\u001b[0m     bound \u001b[39m=\u001b[39m new_sig\u001b[39m.\u001b[39mbind(ax, \u001b[39m*\u001b[39margs, \u001b[39m*\u001b[39m\u001b[39m*\u001b[39mkwargs)\n\u001b[0;32m   1415\u001b[0m     auto_label \u001b[39m=\u001b[39m (bound\u001b[39m.\u001b[39marguments\u001b[39m.\u001b[39mget(label_namer)\n\u001b[0;32m   1416\u001b[0m                   \u001b[39mor\u001b[39;00m bound\u001b[39m.\u001b[39mkwargs\u001b[39m.\u001b[39mget(label_namer))\n",
      "File \u001b[1;32mc:\\Users\\jagli\\anaconda3\\lib\\site-packages\\matplotlib\\axes\\_axes.py:2342\u001b[0m, in \u001b[0;36mAxes.bar\u001b[1;34m(self, x, height, width, bottom, align, **kwargs)\u001b[0m\n\u001b[0;32m   2339\u001b[0m     \u001b[39mif\u001b[39;00m yerr \u001b[39mis\u001b[39;00m \u001b[39mnot\u001b[39;00m \u001b[39mNone\u001b[39;00m:\n\u001b[0;32m   2340\u001b[0m         yerr \u001b[39m=\u001b[39m \u001b[39mself\u001b[39m\u001b[39m.\u001b[39m_convert_dx(yerr, y0, y, \u001b[39mself\u001b[39m\u001b[39m.\u001b[39mconvert_yunits)\n\u001b[1;32m-> 2342\u001b[0m x, height, width, y, linewidth, hatch \u001b[39m=\u001b[39m np\u001b[39m.\u001b[39;49mbroadcast_arrays(\n\u001b[0;32m   2343\u001b[0m     \u001b[39m# Make args iterable too.\u001b[39;49;00m\n\u001b[0;32m   2344\u001b[0m     np\u001b[39m.\u001b[39;49matleast_1d(x), height, width, y, linewidth, hatch)\n\u001b[0;32m   2346\u001b[0m \u001b[39m# Now that units have been converted, set the tick locations.\u001b[39;00m\n\u001b[0;32m   2347\u001b[0m \u001b[39mif\u001b[39;00m orientation \u001b[39m==\u001b[39m \u001b[39m'\u001b[39m\u001b[39mvertical\u001b[39m\u001b[39m'\u001b[39m:\n",
      "File \u001b[1;32m<__array_function__ internals>:180\u001b[0m, in \u001b[0;36mbroadcast_arrays\u001b[1;34m(*args, **kwargs)\u001b[0m\n",
      "File \u001b[1;32mc:\\Users\\jagli\\anaconda3\\lib\\site-packages\\numpy\\lib\\stride_tricks.py:539\u001b[0m, in \u001b[0;36mbroadcast_arrays\u001b[1;34m(subok, *args)\u001b[0m\n\u001b[0;32m    532\u001b[0m \u001b[39m# nditer is not used here to avoid the limit of 32 arrays.\u001b[39;00m\n\u001b[0;32m    533\u001b[0m \u001b[39m# Otherwise, something like the following one-liner would suffice:\u001b[39;00m\n\u001b[0;32m    534\u001b[0m \u001b[39m# return np.nditer(args, flags=['multi_index', 'zerosize_ok'],\u001b[39;00m\n\u001b[0;32m    535\u001b[0m \u001b[39m#                  order='C').itviews\u001b[39;00m\n\u001b[0;32m    537\u001b[0m args \u001b[39m=\u001b[39m [np\u001b[39m.\u001b[39marray(_m, copy\u001b[39m=\u001b[39m\u001b[39mFalse\u001b[39;00m, subok\u001b[39m=\u001b[39msubok) \u001b[39mfor\u001b[39;00m _m \u001b[39min\u001b[39;00m args]\n\u001b[1;32m--> 539\u001b[0m shape \u001b[39m=\u001b[39m _broadcast_shape(\u001b[39m*\u001b[39;49margs)\n\u001b[0;32m    541\u001b[0m \u001b[39mif\u001b[39;00m \u001b[39mall\u001b[39m(array\u001b[39m.\u001b[39mshape \u001b[39m==\u001b[39m shape \u001b[39mfor\u001b[39;00m array \u001b[39min\u001b[39;00m args):\n\u001b[0;32m    542\u001b[0m     \u001b[39m# Common case where nothing needs to be broadcasted.\u001b[39;00m\n\u001b[0;32m    543\u001b[0m     \u001b[39mreturn\u001b[39;00m args\n",
      "File \u001b[1;32mc:\\Users\\jagli\\anaconda3\\lib\\site-packages\\numpy\\lib\\stride_tricks.py:421\u001b[0m, in \u001b[0;36m_broadcast_shape\u001b[1;34m(*args)\u001b[0m\n\u001b[0;32m    416\u001b[0m \u001b[39m\"\"\"Returns the shape of the arrays that would result from broadcasting the\u001b[39;00m\n\u001b[0;32m    417\u001b[0m \u001b[39msupplied arrays against each other.\u001b[39;00m\n\u001b[0;32m    418\u001b[0m \u001b[39m\"\"\"\u001b[39;00m\n\u001b[0;32m    419\u001b[0m \u001b[39m# use the old-iterator because np.nditer does not handle size 0 arrays\u001b[39;00m\n\u001b[0;32m    420\u001b[0m \u001b[39m# consistently\u001b[39;00m\n\u001b[1;32m--> 421\u001b[0m b \u001b[39m=\u001b[39m np\u001b[39m.\u001b[39;49mbroadcast(\u001b[39m*\u001b[39;49margs[:\u001b[39m32\u001b[39;49m])\n\u001b[0;32m    422\u001b[0m \u001b[39m# unfortunately, it cannot handle 32 or more arguments directly\u001b[39;00m\n\u001b[0;32m    423\u001b[0m \u001b[39mfor\u001b[39;00m pos \u001b[39min\u001b[39;00m \u001b[39mrange\u001b[39m(\u001b[39m32\u001b[39m, \u001b[39mlen\u001b[39m(args), \u001b[39m31\u001b[39m):\n\u001b[0;32m    424\u001b[0m     \u001b[39m# ironically, np.broadcast does not properly handle np.broadcast\u001b[39;00m\n\u001b[0;32m    425\u001b[0m     \u001b[39m# objects (it treats them as scalars)\u001b[39;00m\n\u001b[0;32m    426\u001b[0m     \u001b[39m# use broadcasting to avoid allocating the full array\u001b[39;00m\n",
      "\u001b[1;31mValueError\u001b[0m: shape mismatch: objects cannot be broadcast to a single shape.  Mismatch is between arg 0 with shape (227,) and arg 1 with shape (84,)."
     ]
    },
    {
     "data": {
      "image/png": "[encoded data removed]",
      "text/plain": [
       "<Figure size 432x288 with 1 Axes>"
      ]
     },
     "metadata": {
      "needs_background": "light"
     },
     "output_type": "display_data"
    }
   ],
   "source": [
    "plt.bar(range(227), variances)\n",
    "plt.xlabel('PC Number')\n",
    "plt.ylabel('Portion of Variance Explained')\n",
    "plt.title(\"PCA\")\n",
    "plt.show()"
   ]
  },
  {
   "attachments": {},
   "cell_type": "markdown",
   "metadata": {},
   "source": [
    "# Lasso then PCA"
   ]
  },
  {
   "cell_type": "code",
   "execution_count": 12,
   "metadata": {},
   "outputs": [],
   "source": [
    "from sklearn.feature_selection import SelectFromModel\n",
    "from sklearn.linear_model import Lasso, LogisticRegression\n",
    "from sklearn.model_selection import train_test_split\n",
    "from sklearn.preprocessing import StandardScaler"
   ]
  },
  {
   "cell_type": "code",
   "execution_count": 13,
   "metadata": {},
   "outputs": [],
   "source": [
    "sc = StandardScaler()\n",
    "sc.fit(X)\n",
    "X_scaled = sc.transform(X)\n",
    "X_test_scaled = sc.transform(X_test)"
   ]
  },
  {
   "cell_type": "code",
   "execution_count": 14,
   "metadata": {},
   "outputs": [
    {
     "data": {
      "text/plain": [
       "SelectFromModel(estimator=LogisticRegression(C=0.5, penalty='l1',\n",
       "                                             random_state=10,\n",
       "                                             solver='liblinear'))"
      ]
     },
     "execution_count": 14,
     "metadata": {},
     "output_type": "execute_result"
    }
   ],
   "source": [
    "sel_ = SelectFromModel(\n",
    "    LogisticRegression(C=0.5, penalty='l1', solver='liblinear', random_state=10))\n",
    "sel_.fit(X_scaled, y)"
   ]
  },
  {
   "cell_type": "code",
   "execution_count": 20,
   "metadata": {},
   "outputs": [],
   "source": [
    "X_train_selected = sel_.transform(X_scaled)\n",
    "X_test_selected = sel_.transform(X_test_scaled)"
   ]
  },
  {
   "cell_type": "code",
   "execution_count": 21,
   "metadata": {},
   "outputs": [
    {
     "data": {
      "text/plain": [
       "(4403, 588)"
      ]
     },
     "execution_count": 21,
     "metadata": {},
     "output_type": "execute_result"
    }
   ],
   "source": [
    "X_test_selected.shape"
   ]
  },
  {
   "attachments": {},
   "cell_type": "markdown",
   "metadata": {},
   "source": [
    "# Feature selection"
   ]
  },
  {
   "cell_type": "code",
   "execution_count": 149,
   "metadata": {},
   "outputs": [],
   "source": [
    "data = pd.read_csv('train.csv')\n",
    "data = data.dropna()\n",
    "X = data.drop([\"id\", \"y\"], axis = 1)\n",
    "y = data[\"y\"]"
   ]
  },
  {
   "cell_type": "code",
   "execution_count": 150,
   "metadata": {},
   "outputs": [],
   "source": [
    "from sklearn.datasets import make_friedman1\n",
    "from sklearn.feature_selection import RFE\n",
    "from sklearn.svm import SVR\n",
    "estimator = LinearRegression()\n",
    "selector = RFE(estimator, n_features_to_select=100, step=1)\n",
    "selector = selector.fit(X, y)"
   ]
  },
  {
   "cell_type": "code",
   "execution_count": 151,
   "metadata": {},
   "outputs": [
    {
     "data": {
      "text/html": [
       "<div>\n",
       "<style scoped>\n",
       "    .dataframe tbody tr th:only-of-type {\n",
       "        vertical-align: middle;\n",
       "    }\n",
       "\n",
       "    .dataframe tbody tr th {\n",
       "        vertical-align: top;\n",
       "    }\n",
       "\n",
       "    .dataframe thead th {\n",
       "        text-align: right;\n",
       "    }\n",
       "</style>\n",
       "<table border=\"1\" class=\"dataframe\">\n",
       "  <thead>\n",
       "    <tr style=\"text-align: right;\">\n",
       "      <th></th>\n",
       "      <th>x002</th>\n",
       "      <th>x003</th>\n",
       "      <th>x004</th>\n",
       "      <th>x005</th>\n",
       "      <th>x006</th>\n",
       "      <th>x014</th>\n",
       "      <th>x015</th>\n",
       "      <th>x017</th>\n",
       "      <th>x018</th>\n",
       "      <th>x019</th>\n",
       "      <th>...</th>\n",
       "      <th>x649</th>\n",
       "      <th>x653</th>\n",
       "      <th>x659</th>\n",
       "      <th>x662</th>\n",
       "      <th>x663</th>\n",
       "      <th>x674</th>\n",
       "      <th>x713</th>\n",
       "      <th>x719</th>\n",
       "      <th>x720</th>\n",
       "      <th>x736</th>\n",
       "    </tr>\n",
       "  </thead>\n",
       "  <tbody>\n",
       "    <tr>\n",
       "      <th>0</th>\n",
       "      <td>6991.15</td>\n",
       "      <td>7.76</td>\n",
       "      <td>0.00380</td>\n",
       "      <td>5.378811e+09</td>\n",
       "      <td>0.31</td>\n",
       "      <td>4.82</td>\n",
       "      <td>0.607650</td>\n",
       "      <td>1.31</td>\n",
       "      <td>0.39125</td>\n",
       "      <td>2</td>\n",
       "      <td>...</td>\n",
       "      <td>1727.85</td>\n",
       "      <td>116958</td>\n",
       "      <td>585.0</td>\n",
       "      <td>444675.0</td>\n",
       "      <td>586</td>\n",
       "      <td>1890.83</td>\n",
       "      <td>57779.64</td>\n",
       "      <td>1336.88</td>\n",
       "      <td>7.468810e+05</td>\n",
       "      <td>64976.93</td>\n",
       "    </tr>\n",
       "    <tr>\n",
       "      <th>2</th>\n",
       "      <td>3991.98</td>\n",
       "      <td>5.77</td>\n",
       "      <td>0.00010</td>\n",
       "      <td>2.476111e+09</td>\n",
       "      <td>0.00</td>\n",
       "      <td>6.62</td>\n",
       "      <td>0.813915</td>\n",
       "      <td>1.11</td>\n",
       "      <td>0.84540</td>\n",
       "      <td>0</td>\n",
       "      <td>...</td>\n",
       "      <td>1168.00</td>\n",
       "      <td>40359</td>\n",
       "      <td>338.0</td>\n",
       "      <td>1012500.0</td>\n",
       "      <td>339</td>\n",
       "      <td>1462.54</td>\n",
       "      <td>74727.38</td>\n",
       "      <td>5267.48</td>\n",
       "      <td>1.384719e+06</td>\n",
       "      <td>66839.94</td>\n",
       "    </tr>\n",
       "    <tr>\n",
       "      <th>4</th>\n",
       "      <td>3621.00</td>\n",
       "      <td>7.52</td>\n",
       "      <td>0.00060</td>\n",
       "      <td>1.392460e+09</td>\n",
       "      <td>0.21</td>\n",
       "      <td>2.43</td>\n",
       "      <td>0.803614</td>\n",
       "      <td>1.04</td>\n",
       "      <td>0.85910</td>\n",
       "      <td>1</td>\n",
       "      <td>...</td>\n",
       "      <td>1935.00</td>\n",
       "      <td>55277</td>\n",
       "      <td>290.0</td>\n",
       "      <td>1254723.0</td>\n",
       "      <td>291</td>\n",
       "      <td>1954.77</td>\n",
       "      <td>617018.29</td>\n",
       "      <td>1291.61</td>\n",
       "      <td>3.594290e+05</td>\n",
       "      <td>139096.39</td>\n",
       "    </tr>\n",
       "    <tr>\n",
       "      <th>5</th>\n",
       "      <td>27776.26</td>\n",
       "      <td>6.02</td>\n",
       "      <td>0.00505</td>\n",
       "      <td>5.472212e+09</td>\n",
       "      <td>0.50</td>\n",
       "      <td>3.65</td>\n",
       "      <td>0.630500</td>\n",
       "      <td>1.00</td>\n",
       "      <td>0.40000</td>\n",
       "      <td>4</td>\n",
       "      <td>...</td>\n",
       "      <td>803.87</td>\n",
       "      <td>114650</td>\n",
       "      <td>7776.0</td>\n",
       "      <td>1227755.0</td>\n",
       "      <td>7777</td>\n",
       "      <td>883.81</td>\n",
       "      <td>1445.62</td>\n",
       "      <td>6962.15</td>\n",
       "      <td>1.012291e+09</td>\n",
       "      <td>6309319.01</td>\n",
       "    </tr>\n",
       "    <tr>\n",
       "      <th>7</th>\n",
       "      <td>17060.72</td>\n",
       "      <td>5.73</td>\n",
       "      <td>0.00275</td>\n",
       "      <td>2.262486e+09</td>\n",
       "      <td>0.49</td>\n",
       "      <td>7.82</td>\n",
       "      <td>0.845814</td>\n",
       "      <td>1.02</td>\n",
       "      <td>0.77660</td>\n",
       "      <td>4</td>\n",
       "      <td>...</td>\n",
       "      <td>678.00</td>\n",
       "      <td>56722</td>\n",
       "      <td>4380.0</td>\n",
       "      <td>813564.0</td>\n",
       "      <td>4381</td>\n",
       "      <td>820.47</td>\n",
       "      <td>140.07</td>\n",
       "      <td>29622.49</td>\n",
       "      <td>2.678211e+08</td>\n",
       "      <td>6021341.44</td>\n",
       "    </tr>\n",
       "    <tr>\n",
       "      <th>...</th>\n",
       "      <td>...</td>\n",
       "      <td>...</td>\n",
       "      <td>...</td>\n",
       "      <td>...</td>\n",
       "      <td>...</td>\n",
       "      <td>...</td>\n",
       "      <td>...</td>\n",
       "      <td>...</td>\n",
       "      <td>...</td>\n",
       "      <td>...</td>\n",
       "      <td>...</td>\n",
       "      <td>...</td>\n",
       "      <td>...</td>\n",
       "      <td>...</td>\n",
       "      <td>...</td>\n",
       "      <td>...</td>\n",
       "      <td>...</td>\n",
       "      <td>...</td>\n",
       "      <td>...</td>\n",
       "      <td>...</td>\n",
       "      <td>...</td>\n",
       "    </tr>\n",
       "    <tr>\n",
       "      <th>5365</th>\n",
       "      <td>6976.24</td>\n",
       "      <td>7.54</td>\n",
       "      <td>0.00110</td>\n",
       "      <td>2.001056e+09</td>\n",
       "      <td>0.36</td>\n",
       "      <td>6.12</td>\n",
       "      <td>0.850860</td>\n",
       "      <td>1.24</td>\n",
       "      <td>0.86305</td>\n",
       "      <td>3</td>\n",
       "      <td>...</td>\n",
       "      <td>1892.00</td>\n",
       "      <td>75574</td>\n",
       "      <td>155.0</td>\n",
       "      <td>1213761.0</td>\n",
       "      <td>156</td>\n",
       "      <td>2319.45</td>\n",
       "      <td>20339.99</td>\n",
       "      <td>9415.01</td>\n",
       "      <td>2.285527e+06</td>\n",
       "      <td>14307.17</td>\n",
       "    </tr>\n",
       "    <tr>\n",
       "      <th>5367</th>\n",
       "      <td>36011.48</td>\n",
       "      <td>5.52</td>\n",
       "      <td>0.00070</td>\n",
       "      <td>1.513157e+09</td>\n",
       "      <td>0.40</td>\n",
       "      <td>2.69</td>\n",
       "      <td>0.798900</td>\n",
       "      <td>1.21</td>\n",
       "      <td>0.77350</td>\n",
       "      <td>1</td>\n",
       "      <td>...</td>\n",
       "      <td>446.00</td>\n",
       "      <td>30674</td>\n",
       "      <td>4543.0</td>\n",
       "      <td>1049536.0</td>\n",
       "      <td>4544</td>\n",
       "      <td>446.00</td>\n",
       "      <td>1333.27</td>\n",
       "      <td>73947.56</td>\n",
       "      <td>3.360874e+09</td>\n",
       "      <td>1392203.96</td>\n",
       "    </tr>\n",
       "    <tr>\n",
       "      <th>5370</th>\n",
       "      <td>17683.59</td>\n",
       "      <td>6.88</td>\n",
       "      <td>0.00080</td>\n",
       "      <td>1.998125e+09</td>\n",
       "      <td>0.29</td>\n",
       "      <td>2.95</td>\n",
       "      <td>0.810286</td>\n",
       "      <td>1.31</td>\n",
       "      <td>0.85200</td>\n",
       "      <td>2</td>\n",
       "      <td>...</td>\n",
       "      <td>1815.00</td>\n",
       "      <td>41850</td>\n",
       "      <td>1319.0</td>\n",
       "      <td>1032608.0</td>\n",
       "      <td>1320</td>\n",
       "      <td>2145.25</td>\n",
       "      <td>35973.69</td>\n",
       "      <td>1646.35</td>\n",
       "      <td>7.834512e+07</td>\n",
       "      <td>225819.23</td>\n",
       "    </tr>\n",
       "    <tr>\n",
       "      <th>5376</th>\n",
       "      <td>21572.94</td>\n",
       "      <td>6.96</td>\n",
       "      <td>0.00120</td>\n",
       "      <td>3.093006e+09</td>\n",
       "      <td>0.30</td>\n",
       "      <td>5.40</td>\n",
       "      <td>0.855833</td>\n",
       "      <td>1.28</td>\n",
       "      <td>0.89455</td>\n",
       "      <td>3</td>\n",
       "      <td>...</td>\n",
       "      <td>2744.00</td>\n",
       "      <td>69682</td>\n",
       "      <td>330.0</td>\n",
       "      <td>1180000.0</td>\n",
       "      <td>331</td>\n",
       "      <td>3745.78</td>\n",
       "      <td>742576.67</td>\n",
       "      <td>819.77</td>\n",
       "      <td>8.283120e+07</td>\n",
       "      <td>46539.19</td>\n",
       "    </tr>\n",
       "    <tr>\n",
       "      <th>5378</th>\n",
       "      <td>5739.04</td>\n",
       "      <td>7.80</td>\n",
       "      <td>0.00065</td>\n",
       "      <td>1.318517e+09</td>\n",
       "      <td>0.29</td>\n",
       "      <td>5.68</td>\n",
       "      <td>0.804439</td>\n",
       "      <td>1.27</td>\n",
       "      <td>0.91535</td>\n",
       "      <td>3</td>\n",
       "      <td>...</td>\n",
       "      <td>2919.00</td>\n",
       "      <td>67959</td>\n",
       "      <td>2810.0</td>\n",
       "      <td>1300500.0</td>\n",
       "      <td>2811</td>\n",
       "      <td>3290.71</td>\n",
       "      <td>125294.18</td>\n",
       "      <td>891.79</td>\n",
       "      <td>1.780880e+05</td>\n",
       "      <td>620109.56</td>\n",
       "    </tr>\n",
       "  </tbody>\n",
       "</table>\n",
       "<p>2857 rows × 100 columns</p>\n",
       "</div>"
      ],
      "text/plain": [
       "          x002  x003     x004          x005  x006  x014      x015  x017  \\\n",
       "0      6991.15  7.76  0.00380  5.378811e+09  0.31  4.82  0.607650  1.31   \n",
       "2      3991.98  5.77  0.00010  2.476111e+09  0.00  6.62  0.813915  1.11   \n",
       "4      3621.00  7.52  0.00060  1.392460e+09  0.21  2.43  0.803614  1.04   \n",
       "5     27776.26  6.02  0.00505  5.472212e+09  0.50  3.65  0.630500  1.00   \n",
       "7     17060.72  5.73  0.00275  2.262486e+09  0.49  7.82  0.845814  1.02   \n",
       "...        ...   ...      ...           ...   ...   ...       ...   ...   \n",
       "5365   6976.24  7.54  0.00110  2.001056e+09  0.36  6.12  0.850860  1.24   \n",
       "5367  36011.48  5.52  0.00070  1.513157e+09  0.40  2.69  0.798900  1.21   \n",
       "5370  17683.59  6.88  0.00080  1.998125e+09  0.29  2.95  0.810286  1.31   \n",
       "5376  21572.94  6.96  0.00120  3.093006e+09  0.30  5.40  0.855833  1.28   \n",
       "5378   5739.04  7.80  0.00065  1.318517e+09  0.29  5.68  0.804439  1.27   \n",
       "\n",
       "         x018  x019  ...     x649    x653    x659       x662  x663     x674  \\\n",
       "0     0.39125     2  ...  1727.85  116958   585.0   444675.0   586  1890.83   \n",
       "2     0.84540     0  ...  1168.00   40359   338.0  1012500.0   339  1462.54   \n",
       "4     0.85910     1  ...  1935.00   55277   290.0  1254723.0   291  1954.77   \n",
       "5     0.40000     4  ...   803.87  114650  7776.0  1227755.0  7777   883.81   \n",
       "7     0.77660     4  ...   678.00   56722  4380.0   813564.0  4381   820.47   \n",
       "...       ...   ...  ...      ...     ...     ...        ...   ...      ...   \n",
       "5365  0.86305     3  ...  1892.00   75574   155.0  1213761.0   156  2319.45   \n",
       "5367  0.77350     1  ...   446.00   30674  4543.0  1049536.0  4544   446.00   \n",
       "5370  0.85200     2  ...  1815.00   41850  1319.0  1032608.0  1320  2145.25   \n",
       "5376  0.89455     3  ...  2744.00   69682   330.0  1180000.0   331  3745.78   \n",
       "5378  0.91535     3  ...  2919.00   67959  2810.0  1300500.0  2811  3290.71   \n",
       "\n",
       "           x713      x719          x720        x736  \n",
       "0      57779.64   1336.88  7.468810e+05    64976.93  \n",
       "2      74727.38   5267.48  1.384719e+06    66839.94  \n",
       "4     617018.29   1291.61  3.594290e+05   139096.39  \n",
       "5       1445.62   6962.15  1.012291e+09  6309319.01  \n",
       "7        140.07  29622.49  2.678211e+08  6021341.44  \n",
       "...         ...       ...           ...         ...  \n",
       "5365   20339.99   9415.01  2.285527e+06    14307.17  \n",
       "5367    1333.27  73947.56  3.360874e+09  1392203.96  \n",
       "5370   35973.69   1646.35  7.834512e+07   225819.23  \n",
       "5376  742576.67    819.77  8.283120e+07    46539.19  \n",
       "5378  125294.18    891.79  1.780880e+05   620109.56  \n",
       "\n",
       "[2857 rows x 100 columns]"
      ]
     },
     "execution_count": 151,
     "metadata": {},
     "output_type": "execute_result"
    }
   ],
   "source": [
    "cols_OK = selector.support_\n",
    "X.loc[:, cols_OK]\n"
   ]
  },
  {
   "cell_type": "code",
   "execution_count": 152,
   "metadata": {},
   "outputs": [],
   "source": [
    "cols_OK = selector.support_\n",
    "X = X.loc[:, cols_OK]\n"
   ]
  },
  {
   "cell_type": "code",
   "execution_count": 143,
   "metadata": {},
   "outputs": [
    {
     "data": {
      "text/plain": [
       "0.2472654161838348"
      ]
     },
     "execution_count": 143,
     "metadata": {},
     "output_type": "execute_result"
    }
   ],
   "source": [
    "linreg = LinearRegression().fit(X, y)\n",
    "linreg.score(X, y)"
   ]
  },
  {
   "cell_type": "code",
   "execution_count": 144,
   "metadata": {},
   "outputs": [
    {
     "data": {
      "text/plain": [
       "83.65143806949324"
      ]
     },
     "execution_count": 144,
     "metadata": {},
     "output_type": "execute_result"
    }
   ],
   "source": [
    "y_pred = linreg.predict(X)\n",
    "mean_squared_error(y, y_pred, squared=\"false\")"
   ]
  },
  {
   "cell_type": "code",
   "execution_count": null,
   "metadata": {},
   "outputs": [],
   "source": []
  }
 ],
 "metadata": {
  "kernelspec": {
   "display_name": "base",
   "language": "python",
   "name": "python3"
  },
  "language_info": {
   "codemirror_mode": {
    "name": "ipython",
    "version": 3
   },
   "file_extension": ".py",
   "mimetype": "text/x-python",
   "name": "python",
   "nbconvert_exporter": "python",
   "pygments_lexer": "ipython3",
   "version": "3.9.12"
  },
  "orig_nbformat": 4
 },
 "nbformat": 4,
 "nbformat_minor": 2
}
