{
 "cells": [
  {
   "cell_type": "code",
   "execution_count": 16,
   "id": "f82360e3",
   "metadata": {},
   "outputs": [],
   "source": [
    "import pandas as pd\n",
    "from haversine import haversine, Unit"
   ]
  },
  {
   "cell_type": "code",
   "execution_count": 11,
   "id": "fb476568",
   "metadata": {},
   "outputs": [
    {
     "name": "stderr",
     "output_type": "stream",
     "text": [
      "/var/folders/tx/ccgvwwd562sfhw5ybj094vxc0000gn/T/ipykernel_10719/2349858161.py:2: DtypeWarning: Columns (14,28,37,38) have mixed types. Specify dtype option on import or set low_memory=False.\n",
      "  mcmf = pd.read_csv('data_cleaned.csv')\n"
     ]
    }
   ],
   "source": [
    "bus = pd.read_csv('CTA_BusStops_Cleaned.csv')\n",
    "mcmf = pd.read_csv('data_cleaned.csv')"
   ]
  },
  {
   "cell_type": "code",
   "execution_count": 12,
   "id": "bdad3a1c",
   "metadata": {},
   "outputs": [],
   "source": [
    "bus = bus.drop('Unnamed: 0', axis=1)\n",
    "mcmf = mcmf.drop('Unnamed: 0', axis=1)"
   ]
  },
  {
   "cell_type": "code",
   "execution_count": 13,
   "id": "16e29556",
   "metadata": {},
   "outputs": [],
   "source": [
    "mcmf['distance_to_bus_stop'] = None"
   ]
  },
  {
   "cell_type": "code",
   "execution_count": null,
   "id": "02456ff9",
   "metadata": {},
   "outputs": [],
   "source": [
    "# Loop through each program in the 'mcmf' dataset\n",
    "for index, program in mcmf.iterrows():\n",
    "\n",
    "    # Initialize the minimum distance and nearest bus stop to None\n",
    "    min_distance = None\n",
    "    nearest_bus_stop = None\n",
    "\n",
    "    # Loop through each bus stop in the 'bus' dataset\n",
    "    for _, bus_stop in bus.iterrows():\n",
    "\n",
    "        # Calculate the distance between the program and the bus stop using the Haversine formula\n",
    "        distance = haversine((program['latitude'], program['longitude']), (bus_stop['latitude'], bus_stop['longitude']), unit=Unit.MILES)\n",
    "\n",
    "        # If the minimum distance is None or the current distance is less than the minimum distance, update the minimum distance and nearest bus stop\n",
    "        if min_distance is None or distance < min_distance:\n",
    "            min_distance = distance\n",
    "            nearest_bus_stop = bus_stop\n",
    "\n",
    "    # Set the distance to the nearest bus stop for the current program in the 'mcmf' dataset\n",
    "    mcmf.at[index, 'distance_to_bus_stop'] = min_distance"
   ]
  },
  {
   "cell_type": "code",
   "execution_count": null,
   "id": "860993b2",
   "metadata": {},
   "outputs": [],
   "source": [
    "mcmf"
   ]
  }
 ],
 "metadata": {
  "kernelspec": {
   "display_name": "Python 3 (ipykernel)",
   "language": "python",
   "name": "python3"
  },
  "language_info": {
   "codemirror_mode": {
    "name": "ipython",
    "version": 3
   },
   "file_extension": ".py",
   "mimetype": "text/x-python",
   "name": "python",
   "nbconvert_exporter": "python",
   "pygments_lexer": "ipython3",
   "version": "3.9.12"
  }
 },
 "nbformat": 4,
 "nbformat_minor": 5
}
