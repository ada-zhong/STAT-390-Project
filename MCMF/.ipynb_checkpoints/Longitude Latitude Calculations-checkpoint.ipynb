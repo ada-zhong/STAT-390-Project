{
 "cells": [
  {
   "cell_type": "code",
   "execution_count": 1,
   "id": "f82360e3",
   "metadata": {},
   "outputs": [],
   "source": [
    "import pandas as pd\n",
    "from haversine import haversine, Unit"
   ]
  },
  {
   "cell_type": "code",
   "execution_count": 2,
   "id": "fb476568",
   "metadata": {},
   "outputs": [
    {
     "name": "stderr",
     "output_type": "stream",
     "text": [
      "/var/folders/tx/ccgvwwd562sfhw5ybj094vxc0000gn/T/ipykernel_25557/2349858161.py:2: DtypeWarning: Columns (14,28,37,38) have mixed types. Specify dtype option on import or set low_memory=False.\n",
      "  mcmf = pd.read_csv('data_cleaned.csv')\n"
     ]
    }
   ],
   "source": [
    "bus = pd.read_csv('CTA_BusStops_Cleaned.csv')\n",
    "mcmf = pd.read_csv('data_cleaned.csv')"
   ]
  },
  {
   "cell_type": "code",
   "execution_count": 3,
   "id": "bdad3a1c",
   "metadata": {},
   "outputs": [],
   "source": [
    "bus = bus.drop('Unnamed: 0', axis=1)\n",
    "mcmf = mcmf.drop('Unnamed: 0', axis=1)"
   ]
  },
  {
   "cell_type": "code",
   "execution_count": 4,
   "id": "16e29556",
   "metadata": {},
   "outputs": [],
   "source": [
    "mcmf['distance_to_bus_stop'] = None"
   ]
  },
  {
   "cell_type": "code",
   "execution_count": 5,
   "id": "02456ff9",
   "metadata": {},
   "outputs": [
    {
     "ename": "KeyboardInterrupt",
     "evalue": "",
     "output_type": "error",
     "traceback": [
      "\u001b[0;31m---------------------------------------------------------------------------\u001b[0m",
      "\u001b[0;31mKeyboardInterrupt\u001b[0m                         Traceback (most recent call last)",
      "Input \u001b[0;32mIn [5]\u001b[0m, in \u001b[0;36m<cell line: 2>\u001b[0;34m()\u001b[0m\n\u001b[1;32m      6\u001b[0m nearest_bus_stop \u001b[38;5;241m=\u001b[39m \u001b[38;5;28;01mNone\u001b[39;00m\n\u001b[1;32m      8\u001b[0m \u001b[38;5;66;03m# Loop through each bus stop in the 'bus' dataset\u001b[39;00m\n\u001b[0;32m----> 9\u001b[0m \u001b[38;5;28;01mfor\u001b[39;00m _, bus_stop \u001b[38;5;129;01min\u001b[39;00m bus\u001b[38;5;241m.\u001b[39miterrows():\n\u001b[1;32m     10\u001b[0m \n\u001b[1;32m     11\u001b[0m     \u001b[38;5;66;03m# Calculate the distance between the program and the bus stop using the Haversine formula\u001b[39;00m\n\u001b[1;32m     12\u001b[0m     distance \u001b[38;5;241m=\u001b[39m haversine((program[\u001b[38;5;124m'\u001b[39m\u001b[38;5;124mlatitude\u001b[39m\u001b[38;5;124m'\u001b[39m], program[\u001b[38;5;124m'\u001b[39m\u001b[38;5;124mlongitude\u001b[39m\u001b[38;5;124m'\u001b[39m]), (bus_stop[\u001b[38;5;124m'\u001b[39m\u001b[38;5;124mlatitude\u001b[39m\u001b[38;5;124m'\u001b[39m], bus_stop[\u001b[38;5;124m'\u001b[39m\u001b[38;5;124mlongitude\u001b[39m\u001b[38;5;124m'\u001b[39m]), unit\u001b[38;5;241m=\u001b[39mUnit\u001b[38;5;241m.\u001b[39mMILES)\n\u001b[1;32m     14\u001b[0m     \u001b[38;5;66;03m# If the minimum distance is None or the current distance is less than the minimum distance, update the minimum distance and nearest bus stop\u001b[39;00m\n",
      "File \u001b[0;32m~/opt/anaconda3/lib/python3.9/site-packages/pandas/core/frame.py:1324\u001b[0m, in \u001b[0;36mDataFrame.iterrows\u001b[0;34m(self)\u001b[0m\n\u001b[1;32m   1322\u001b[0m klass \u001b[38;5;241m=\u001b[39m \u001b[38;5;28mself\u001b[39m\u001b[38;5;241m.\u001b[39m_constructor_sliced\n\u001b[1;32m   1323\u001b[0m \u001b[38;5;28;01mfor\u001b[39;00m k, v \u001b[38;5;129;01min\u001b[39;00m \u001b[38;5;28mzip\u001b[39m(\u001b[38;5;28mself\u001b[39m\u001b[38;5;241m.\u001b[39mindex, \u001b[38;5;28mself\u001b[39m\u001b[38;5;241m.\u001b[39mvalues):\n\u001b[0;32m-> 1324\u001b[0m     s \u001b[38;5;241m=\u001b[39m \u001b[43mklass\u001b[49m\u001b[43m(\u001b[49m\u001b[43mv\u001b[49m\u001b[43m,\u001b[49m\u001b[43m \u001b[49m\u001b[43mindex\u001b[49m\u001b[38;5;241;43m=\u001b[39;49m\u001b[43mcolumns\u001b[49m\u001b[43m,\u001b[49m\u001b[43m \u001b[49m\u001b[43mname\u001b[49m\u001b[38;5;241;43m=\u001b[39;49m\u001b[43mk\u001b[49m\u001b[43m)\u001b[49m\n\u001b[1;32m   1325\u001b[0m     \u001b[38;5;28;01myield\u001b[39;00m k, s\n",
      "File \u001b[0;32m~/opt/anaconda3/lib/python3.9/site-packages/pandas/core/series.py:460\u001b[0m, in \u001b[0;36mSeries.__init__\u001b[0;34m(self, data, index, dtype, name, copy, fastpath)\u001b[0m\n\u001b[1;32m    457\u001b[0m             data \u001b[38;5;241m=\u001b[39m SingleArrayManager\u001b[38;5;241m.\u001b[39mfrom_array(data, index)\n\u001b[1;32m    459\u001b[0m NDFrame\u001b[38;5;241m.\u001b[39m\u001b[38;5;21m__init__\u001b[39m(\u001b[38;5;28mself\u001b[39m, data)\n\u001b[0;32m--> 460\u001b[0m \u001b[38;5;28mself\u001b[39m\u001b[38;5;241m.\u001b[39mname \u001b[38;5;241m=\u001b[39m name\n\u001b[1;32m    461\u001b[0m \u001b[38;5;28mself\u001b[39m\u001b[38;5;241m.\u001b[39m_set_axis(\u001b[38;5;241m0\u001b[39m, index, fastpath\u001b[38;5;241m=\u001b[39m\u001b[38;5;28;01mTrue\u001b[39;00m)\n",
      "File \u001b[0;32m~/opt/anaconda3/lib/python3.9/site-packages/pandas/core/generic.py:5586\u001b[0m, in \u001b[0;36mNDFrame.__setattr__\u001b[0;34m(self, name, value)\u001b[0m\n\u001b[1;32m   5578\u001b[0m \u001b[38;5;124;03m\"\"\"\u001b[39;00m\n\u001b[1;32m   5579\u001b[0m \u001b[38;5;124;03mAfter regular attribute access, try setting the name\u001b[39;00m\n\u001b[1;32m   5580\u001b[0m \u001b[38;5;124;03mThis allows simpler access to columns for interactive use.\u001b[39;00m\n\u001b[1;32m   5581\u001b[0m \u001b[38;5;124;03m\"\"\"\u001b[39;00m\n\u001b[1;32m   5582\u001b[0m \u001b[38;5;66;03m# first try regular attribute access via __getattribute__, so that\u001b[39;00m\n\u001b[1;32m   5583\u001b[0m \u001b[38;5;66;03m# e.g. ``obj.x`` and ``obj.x = 4`` will always reference/modify\u001b[39;00m\n\u001b[1;32m   5584\u001b[0m \u001b[38;5;66;03m# the same attribute.\u001b[39;00m\n\u001b[0;32m-> 5586\u001b[0m \u001b[38;5;28;01mtry\u001b[39;00m:\n\u001b[1;32m   5587\u001b[0m     \u001b[38;5;28mobject\u001b[39m\u001b[38;5;241m.\u001b[39m\u001b[38;5;21m__getattribute__\u001b[39m(\u001b[38;5;28mself\u001b[39m, name)\n\u001b[1;32m   5588\u001b[0m     \u001b[38;5;28;01mreturn\u001b[39;00m \u001b[38;5;28mobject\u001b[39m\u001b[38;5;241m.\u001b[39m\u001b[38;5;21m__setattr__\u001b[39m(\u001b[38;5;28mself\u001b[39m, name, value)\n",
      "\u001b[0;31mKeyboardInterrupt\u001b[0m: "
     ]
    }
   ],
   "source": [
    "# Loop through each program in the 'mcmf' dataset\n",
    "for index, program in mcmf.iterrows():\n",
    "\n",
    "    # Initialize the minimum distance and nearest bus stop to None\n",
    "    min_distance = None\n",
    "    nearest_bus_stop = None\n",
    "\n",
    "    # Loop through each bus stop in the 'bus' dataset\n",
    "    for _, bus_stop in bus.iterrows():\n",
    "\n",
    "        # Calculate the distance between the program and the bus stop using the Haversine formula\n",
    "        distance = haversine((program['latitude'], program['longitude']), (bus_stop['latitude'], bus_stop['longitude']), unit=Unit.MILES)\n",
    "\n",
    "        # If the minimum distance is None or the current distance is less than the minimum distance, update the minimum distance and nearest bus stop\n",
    "        if min_distance is None or distance < min_distance:\n",
    "            min_distance = distance\n",
    "            nearest_bus_stop = bus_stop\n",
    "\n",
    "    # Set the distance to the nearest bus stop for the current program in the 'mcmf' dataset\n",
    "    mcmf.at[index, 'distance_to_bus_stop'] = min_distance"
   ]
  },
  {
   "cell_type": "code",
   "execution_count": null,
   "id": "860993b2",
   "metadata": {},
   "outputs": [],
   "source": [
    "mcmf"
   ]
  }
 ],
 "metadata": {
  "kernelspec": {
   "display_name": "Python 3 (ipykernel)",
   "language": "python",
   "name": "python3"
  },
  "language_info": {
   "codemirror_mode": {
    "name": "ipython",
    "version": 3
   },
   "file_extension": ".py",
   "mimetype": "text/x-python",
   "name": "python",
   "nbconvert_exporter": "python",
   "pygments_lexer": "ipython3",
   "version": "3.9.12"
  }
 },
 "nbformat": 4,
 "nbformat_minor": 5
}
