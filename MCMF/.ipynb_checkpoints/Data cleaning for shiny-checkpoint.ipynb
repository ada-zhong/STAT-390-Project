{
 "cells": [
  {
   "cell_type": "code",
   "execution_count": 1,
   "id": "b855f2da",
   "metadata": {},
   "outputs": [],
   "source": [
    "import pandas as pd\n",
    "import numpy as np\n",
    "import matplotlib.pyplot as plt\n",
    "import seaborn as sns\n",
    "import skimpy\n",
    "import string\n",
    "import re\n",
    "from skimpy import clean_columns"
   ]
  },
  {
   "cell_type": "code",
   "execution_count": null,
   "id": "8f6e0e4a",
   "metadata": {},
   "outputs": [],
   "source": [
    "def clean_data(data, bus_data):\n",
    "    # Clean column names\n",
    "    data = clean_columns(data)\n",
    "    \n",
    "    # Remove all programs where min age > 25\n",
    "    data = data[data[\"min_age\"] < 25]\n",
    "    \n",
    "    # Clean category names (program types)\n",
    "    # Make lowercase\n",
    "    data.category_name = data.category_name.apply(lambda x: x.lower() if isinstance(x, str) else x)\n",
    "\n",
    "    def remove_punctuation(text):\n",
    "        if isinstance(text, str):\n",
    "            return text.translate(str.maketrans('', '', string.punctuation))\n",
    "        else:\n",
    "            return text\n",
    "\n",
    "    def replace_spaces_with_underscore(text):\n",
    "        if isinstance(text, str):\n",
    "            # Replace one or more whitespace characters with a single underscore\n",
    "            return re.sub(r'\\s+', '_', text)\n",
    "        else:\n",
    "            return text\n",
    "\n",
    "    def remove_trailing_underscores(text):\n",
    "        if isinstance(text, str):\n",
    "            # Remove any trailing underscores\n",
    "            text = text.rstrip('_')\n",
    "            return text\n",
    "        else:\n",
    "            return text\n",
    "        \n",
    "    # Remove punctuation, replace spaces with underscores, remove trailing underscores for category names\n",
    "    data.category_name = data.category_name.apply(remove_punctuation)\n",
    "    data.category_name = data.category_name.apply(replace_spaces_with_underscore)\n",
    "    data.category_name = data.category_name.apply(remove_trailing_underscores)\n",
    "    \n",
    "    # Clean state + city\n",
    "    data[\"state\"] = data[\"state\"].replace(\"Illinois\", \"IL\")\n",
    "    data = data[data.city == \"Chicago\"]\n",
    "    \n",
    "    # Add age range col\n",
    "    data[\"age_range\"] = data.max_age - data.min_age\n",
    "    \n",
    "    # Add distance to nearest bus stop col\n",
    "    bus_coords = bus_data[['latitude', 'longitude']].to_numpy()\n",
    "    mcmf_coords = data[['latitude', 'longitude']].to_numpy()\n",
    "    \n",
    "    mcmf_in_radians = np.array([[radians(float(x)) for x in coord] for coord in mcmf_coords])\n",
    "    bus_in_radians = np.array([[radians(float(x)) for x in coord] for coord in bus_coords])\n",
    "     \n",
    "    dists = haversine_distances(mcmf_in_radians, bus_in_radians) # Calculate haversine dists then convert to km\n",
    "    dists_km = dists*6371 # multiply by radius of Earth\n",
    "    \n",
    "    min_dist = np.nanmin(dists_km, axis=1) # Minimum distances to each bus stop\n",
    "\n",
    "    data['km_to_bus_stop'] = min_dist"
   ]
  }
 ],
 "metadata": {
  "kernelspec": {
   "display_name": "Python 3 (ipykernel)",
   "language": "python",
   "name": "python3"
  },
  "language_info": {
   "codemirror_mode": {
    "name": "ipython",
    "version": 3
   },
   "file_extension": ".py",
   "mimetype": "text/x-python",
   "name": "python",
   "nbconvert_exporter": "python",
   "pygments_lexer": "ipython3",
   "version": "3.9.12"
  }
 },
 "nbformat": 4,
 "nbformat_minor": 5
}
