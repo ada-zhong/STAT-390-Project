{
 "cells": [
  {
   "cell_type": "code",
   "execution_count": 119,
   "id": "2fbbb467",
   "metadata": {},
   "outputs": [],
   "source": [
    "import pandas as pd\n",
    "import numpy as np\n",
    "import matplotlib.pyplot as plt\n",
    "from sklearn.model_selection import train_test_split\n",
    "from statsmodels.tsa.arima.model import ARIMA\n",
    "from sklearn.model_selection import GridSearchCV\n",
    "from pmdarima.arima import auto_arima"
   ]
  },
  {
   "cell_type": "code",
   "execution_count": 59,
   "id": "3d9244a0",
   "metadata": {},
   "outputs": [
    {
     "name": "stderr",
     "output_type": "stream",
     "text": [
      "/var/folders/tx/ccgvwwd562sfhw5ybj094vxc0000gn/T/ipykernel_94153/1202436076.py:1: DtypeWarning: Columns (14,28,37,38) have mixed types. Specify dtype option on import or set low_memory=False.\n",
      "  data = pd.read_csv('data_cleaned.csv')\n"
     ]
    },
    {
     "data": {
      "text/html": [
       "<div>\n",
       "<style scoped>\n",
       "    .dataframe tbody tr th:only-of-type {\n",
       "        vertical-align: middle;\n",
       "    }\n",
       "\n",
       "    .dataframe tbody tr th {\n",
       "        vertical-align: top;\n",
       "    }\n",
       "\n",
       "    .dataframe thead th {\n",
       "        text-align: right;\n",
       "    }\n",
       "</style>\n",
       "<table border=\"1\" class=\"dataframe\">\n",
       "  <thead>\n",
       "    <tr style=\"text-align: right;\">\n",
       "      <th></th>\n",
       "      <th>Unnamed: 0</th>\n",
       "      <th>index_row</th>\n",
       "      <th>id</th>\n",
       "      <th>program_name</th>\n",
       "      <th>description</th>\n",
       "      <th>org_name</th>\n",
       "      <th>category_name</th>\n",
       "      <th>capacity</th>\n",
       "      <th>min_age</th>\n",
       "      <th>max_age</th>\n",
       "      <th>...</th>\n",
       "      <th>wed_end_time</th>\n",
       "      <th>wed_start_time</th>\n",
       "      <th>program_price</th>\n",
       "      <th>geographic_cluster_name</th>\n",
       "      <th>program_pays_participants</th>\n",
       "      <th>program_has_scholarships</th>\n",
       "      <th>program_provides_transportation</th>\n",
       "      <th>latitude</th>\n",
       "      <th>longitude</th>\n",
       "      <th>program_provides_free_food</th>\n",
       "    </tr>\n",
       "  </thead>\n",
       "  <tbody>\n",
       "    <tr>\n",
       "      <th>0</th>\n",
       "      <td>0</td>\n",
       "      <td>4,568</td>\n",
       "      <td>78752</td>\n",
       "      <td>BBBS Community Based Mentoring (Year Round)</td>\n",
       "      <td>Community Based Mentoring is the traditional B...</td>\n",
       "      <td>Big Brothers Big Sisters</td>\n",
       "      <td>academic_support</td>\n",
       "      <td>2000.0</td>\n",
       "      <td>7</td>\n",
       "      <td>15</td>\n",
       "      <td>...</td>\n",
       "      <td>NaN</td>\n",
       "      <td>NaN</td>\n",
       "      <td>Free</td>\n",
       "      <td>NEAR WEST SIDE</td>\n",
       "      <td>Not Paid</td>\n",
       "      <td>YES</td>\n",
       "      <td>YES</td>\n",
       "      <td>41.886002</td>\n",
       "      <td>-87.642403</td>\n",
       "      <td>False</td>\n",
       "    </tr>\n",
       "    <tr>\n",
       "      <th>1</th>\n",
       "      <td>1</td>\n",
       "      <td>4,569</td>\n",
       "      <td>78752</td>\n",
       "      <td>BBBS Community Based Mentoring (Year Round)</td>\n",
       "      <td>Community Based Mentoring is the traditional B...</td>\n",
       "      <td>Big Brothers Big Sisters</td>\n",
       "      <td>work_career</td>\n",
       "      <td>2000.0</td>\n",
       "      <td>7</td>\n",
       "      <td>15</td>\n",
       "      <td>...</td>\n",
       "      <td>NaN</td>\n",
       "      <td>NaN</td>\n",
       "      <td>Free</td>\n",
       "      <td>NEAR WEST SIDE</td>\n",
       "      <td>Not Paid</td>\n",
       "      <td>YES</td>\n",
       "      <td>YES</td>\n",
       "      <td>41.886002</td>\n",
       "      <td>-87.642403</td>\n",
       "      <td>False</td>\n",
       "    </tr>\n",
       "  </tbody>\n",
       "</table>\n",
       "<p>2 rows × 53 columns</p>\n",
       "</div>"
      ],
      "text/plain": [
       "   Unnamed: 0 index_row     id                                 program_name  \\\n",
       "0           0     4,568  78752  BBBS Community Based Mentoring (Year Round)   \n",
       "1           1     4,569  78752  BBBS Community Based Mentoring (Year Round)   \n",
       "\n",
       "                                         description  \\\n",
       "0  Community Based Mentoring is the traditional B...   \n",
       "1  Community Based Mentoring is the traditional B...   \n",
       "\n",
       "                   org_name     category_name  capacity  min_age  max_age  \\\n",
       "0  Big Brothers Big Sisters  academic_support    2000.0        7       15   \n",
       "1  Big Brothers Big Sisters       work_career    2000.0        7       15   \n",
       "\n",
       "   ... wed_end_time wed_start_time program_price geographic_cluster_name  \\\n",
       "0  ...          NaN            NaN          Free          NEAR WEST SIDE   \n",
       "1  ...          NaN            NaN          Free          NEAR WEST SIDE   \n",
       "\n",
       "  program_pays_participants program_has_scholarships  \\\n",
       "0                  Not Paid                      YES   \n",
       "1                  Not Paid                      YES   \n",
       "\n",
       "  program_provides_transportation   latitude  longitude  \\\n",
       "0                             YES  41.886002 -87.642403   \n",
       "1                             YES  41.886002 -87.642403   \n",
       "\n",
       "  program_provides_free_food  \n",
       "0                      False  \n",
       "1                      False  \n",
       "\n",
       "[2 rows x 53 columns]"
      ]
     },
     "execution_count": 59,
     "metadata": {},
     "output_type": "execute_result"
    }
   ],
   "source": [
    "data = pd.read_csv('data_cleaned.csv')\n",
    "data.head(2)"
   ]
  },
  {
   "cell_type": "code",
   "execution_count": 60,
   "id": "de12e4c7",
   "metadata": {},
   "outputs": [],
   "source": [
    "def count_programs_by_features(data, features):\n",
    "    # Extract the month and year from the start_date column\n",
    "    data['start_date'] = pd.to_datetime(data['start_date'])\n",
    "    data['month'] = data['start_date'].dt.month\n",
    "    data['year'] = data['start_date'].dt.year\n",
    "    \n",
    "    features_with_month = features + ['month', 'year']\n",
    "    \n",
    "    program_counts = pd.DataFrame(data.groupby(features_with_month).size().reset_index(name='count'))\n",
    "    \n",
    "    return program_counts"
   ]
  },
  {
   "cell_type": "code",
   "execution_count": 61,
   "id": "c3d881c8",
   "metadata": {},
   "outputs": [
    {
     "data": {
      "text/html": [
       "<div>\n",
       "<style scoped>\n",
       "    .dataframe tbody tr th:only-of-type {\n",
       "        vertical-align: middle;\n",
       "    }\n",
       "\n",
       "    .dataframe tbody tr th {\n",
       "        vertical-align: top;\n",
       "    }\n",
       "\n",
       "    .dataframe thead th {\n",
       "        text-align: right;\n",
       "    }\n",
       "</style>\n",
       "<table border=\"1\" class=\"dataframe\">\n",
       "  <thead>\n",
       "    <tr style=\"text-align: right;\">\n",
       "      <th></th>\n",
       "      <th>category_name</th>\n",
       "      <th>month</th>\n",
       "      <th>year</th>\n",
       "      <th>count</th>\n",
       "    </tr>\n",
       "  </thead>\n",
       "  <tbody>\n",
       "    <tr>\n",
       "      <th>0</th>\n",
       "      <td>academic_support</td>\n",
       "      <td>1</td>\n",
       "      <td>2020</td>\n",
       "      <td>2</td>\n",
       "    </tr>\n",
       "    <tr>\n",
       "      <th>1</th>\n",
       "      <td>academic_support</td>\n",
       "      <td>1</td>\n",
       "      <td>2021</td>\n",
       "      <td>30</td>\n",
       "    </tr>\n",
       "    <tr>\n",
       "      <th>2</th>\n",
       "      <td>academic_support</td>\n",
       "      <td>1</td>\n",
       "      <td>2022</td>\n",
       "      <td>177</td>\n",
       "    </tr>\n",
       "    <tr>\n",
       "      <th>3</th>\n",
       "      <td>academic_support</td>\n",
       "      <td>1</td>\n",
       "      <td>2023</td>\n",
       "      <td>457</td>\n",
       "    </tr>\n",
       "    <tr>\n",
       "      <th>4</th>\n",
       "      <td>academic_support</td>\n",
       "      <td>2</td>\n",
       "      <td>2021</td>\n",
       "      <td>1</td>\n",
       "    </tr>\n",
       "    <tr>\n",
       "      <th>...</th>\n",
       "      <td>...</td>\n",
       "      <td>...</td>\n",
       "      <td>...</td>\n",
       "      <td>...</td>\n",
       "    </tr>\n",
       "    <tr>\n",
       "      <th>489</th>\n",
       "      <td>work_career</td>\n",
       "      <td>10</td>\n",
       "      <td>2022</td>\n",
       "      <td>16</td>\n",
       "    </tr>\n",
       "    <tr>\n",
       "      <th>490</th>\n",
       "      <td>work_career</td>\n",
       "      <td>11</td>\n",
       "      <td>2021</td>\n",
       "      <td>13</td>\n",
       "    </tr>\n",
       "    <tr>\n",
       "      <th>491</th>\n",
       "      <td>work_career</td>\n",
       "      <td>11</td>\n",
       "      <td>2022</td>\n",
       "      <td>9</td>\n",
       "    </tr>\n",
       "    <tr>\n",
       "      <th>492</th>\n",
       "      <td>work_career</td>\n",
       "      <td>12</td>\n",
       "      <td>2021</td>\n",
       "      <td>7</td>\n",
       "    </tr>\n",
       "    <tr>\n",
       "      <th>493</th>\n",
       "      <td>work_career</td>\n",
       "      <td>12</td>\n",
       "      <td>2022</td>\n",
       "      <td>3</td>\n",
       "    </tr>\n",
       "  </tbody>\n",
       "</table>\n",
       "<p>494 rows × 4 columns</p>\n",
       "</div>"
      ],
      "text/plain": [
       "        category_name  month  year  count\n",
       "0    academic_support      1  2020      2\n",
       "1    academic_support      1  2021     30\n",
       "2    academic_support      1  2022    177\n",
       "3    academic_support      1  2023    457\n",
       "4    academic_support      2  2021      1\n",
       "..                ...    ...   ...    ...\n",
       "489       work_career     10  2022     16\n",
       "490       work_career     11  2021     13\n",
       "491       work_career     11  2022      9\n",
       "492       work_career     12  2021      7\n",
       "493       work_career     12  2022      3\n",
       "\n",
       "[494 rows x 4 columns]"
      ]
     },
     "execution_count": 61,
     "metadata": {},
     "output_type": "execute_result"
    }
   ],
   "source": [
    "features = ['category_name']\n",
    "program_counts = count_programs_by_features(data, features)\n",
    "program_counts"
   ]
  },
  {
   "cell_type": "code",
   "execution_count": 62,
   "id": "344ee64c",
   "metadata": {},
   "outputs": [
    {
     "data": {
      "text/html": [
       "<div>\n",
       "<style scoped>\n",
       "    .dataframe tbody tr th:only-of-type {\n",
       "        vertical-align: middle;\n",
       "    }\n",
       "\n",
       "    .dataframe tbody tr th {\n",
       "        vertical-align: top;\n",
       "    }\n",
       "\n",
       "    .dataframe thead th {\n",
       "        text-align: right;\n",
       "    }\n",
       "</style>\n",
       "<table border=\"1\" class=\"dataframe\">\n",
       "  <thead>\n",
       "    <tr style=\"text-align: right;\">\n",
       "      <th></th>\n",
       "      <th>category_name</th>\n",
       "      <th>month</th>\n",
       "      <th>year</th>\n",
       "      <th>count</th>\n",
       "    </tr>\n",
       "    <tr>\n",
       "      <th>date</th>\n",
       "      <th></th>\n",
       "      <th></th>\n",
       "      <th></th>\n",
       "      <th></th>\n",
       "    </tr>\n",
       "  </thead>\n",
       "  <tbody>\n",
       "    <tr>\n",
       "      <th>2020-01-01</th>\n",
       "      <td>academic_support</td>\n",
       "      <td>1</td>\n",
       "      <td>2020</td>\n",
       "      <td>2</td>\n",
       "    </tr>\n",
       "    <tr>\n",
       "      <th>2021-01-01</th>\n",
       "      <td>academic_support</td>\n",
       "      <td>1</td>\n",
       "      <td>2021</td>\n",
       "      <td>30</td>\n",
       "    </tr>\n",
       "    <tr>\n",
       "      <th>2022-01-01</th>\n",
       "      <td>academic_support</td>\n",
       "      <td>1</td>\n",
       "      <td>2022</td>\n",
       "      <td>177</td>\n",
       "    </tr>\n",
       "    <tr>\n",
       "      <th>2023-01-01</th>\n",
       "      <td>academic_support</td>\n",
       "      <td>1</td>\n",
       "      <td>2023</td>\n",
       "      <td>457</td>\n",
       "    </tr>\n",
       "    <tr>\n",
       "      <th>2021-02-01</th>\n",
       "      <td>academic_support</td>\n",
       "      <td>2</td>\n",
       "      <td>2021</td>\n",
       "      <td>1</td>\n",
       "    </tr>\n",
       "  </tbody>\n",
       "</table>\n",
       "</div>"
      ],
      "text/plain": [
       "               category_name  month  year  count\n",
       "date                                            \n",
       "2020-01-01  academic_support      1  2020      2\n",
       "2021-01-01  academic_support      1  2021     30\n",
       "2022-01-01  academic_support      1  2022    177\n",
       "2023-01-01  academic_support      1  2023    457\n",
       "2021-02-01  academic_support      2  2021      1"
      ]
     },
     "execution_count": 62,
     "metadata": {},
     "output_type": "execute_result"
    }
   ],
   "source": [
    "program_counts['date'] = pd.to_datetime(program_counts[['year', 'month']].assign(day=1))\n",
    "program_counts.reset_index(drop=True, inplace=True)\n",
    "program_counts.set_index('date', inplace=True)\n",
    "program_counts.head()"
   ]
  },
  {
   "cell_type": "code",
   "execution_count": 124,
   "id": "8e6ff38a",
   "metadata": {},
   "outputs": [
    {
     "name": "stdout",
     "output_type": "stream",
     "text": [
      "               category_name  month  year  count\n",
      "date                                            \n",
      "2020-01-01  academic_support      1  2020      2\n",
      "2021-01-01  academic_support      1  2021     30\n",
      "2022-01-01  academic_support      1  2022    177\n",
      "2023-01-01  academic_support      1  2023    457\n",
      "2021-02-01  academic_support      2  2021      1\n",
      "...                      ...    ...   ...    ...\n",
      "2022-10-01       work_career     10  2022     16\n",
      "2021-11-01       work_career     11  2021     13\n",
      "2022-11-01       work_career     11  2022      9\n",
      "2021-12-01       work_career     12  2021      7\n",
      "2022-12-01       work_career     12  2022      3\n",
      "\n",
      "[494 rows x 4 columns]\n"
     ]
    }
   ],
   "source": [
    "print(program_counts)"
   ]
  },
  {
   "cell_type": "markdown",
   "id": "22313ba5",
   "metadata": {},
   "source": [
    "#### Split data"
   ]
  },
  {
   "cell_type": "code",
   "execution_count": 125,
   "id": "dd73d1cf",
   "metadata": {},
   "outputs": [],
   "source": [
    "train_size = 0.8  # Specify the desired train set size, e.g., 80% of the data\n",
    "train, test = train_test_split(program_counts, train_size=train_size, shuffle=True, random_state=42)"
   ]
  },
  {
   "cell_type": "code",
   "execution_count": 65,
   "id": "7c067ab5",
   "metadata": {},
   "outputs": [],
   "source": [
    "y = program_counts['count']\n",
    "X = program_counts.drop('count', axis=1)"
   ]
  },
  {
   "cell_type": "code",
   "execution_count": 82,
   "id": "aaf0696d",
   "metadata": {},
   "outputs": [],
   "source": [
    "X_train, X_test, y_train, y_test = train_test_split(X, y, test_size = 0.2, random_state = 45)"
   ]
  },
  {
   "cell_type": "markdown",
   "id": "6f9f6b96",
   "metadata": {},
   "source": [
    "#### ARIMA"
   ]
  },
  {
   "cell_type": "code",
   "execution_count": 127,
   "id": "a70825b4",
   "metadata": {
    "scrolled": true
   },
   "outputs": [
    {
     "data": {
      "text/html": [
       "<div>\n",
       "<style scoped>\n",
       "    .dataframe tbody tr th:only-of-type {\n",
       "        vertical-align: middle;\n",
       "    }\n",
       "\n",
       "    .dataframe tbody tr th {\n",
       "        vertical-align: top;\n",
       "    }\n",
       "\n",
       "    .dataframe thead th {\n",
       "        text-align: right;\n",
       "    }\n",
       "</style>\n",
       "<table border=\"1\" class=\"dataframe\">\n",
       "  <thead>\n",
       "    <tr style=\"text-align: right;\">\n",
       "      <th></th>\n",
       "      <th>category_name</th>\n",
       "      <th>month</th>\n",
       "      <th>year</th>\n",
       "      <th>count</th>\n",
       "    </tr>\n",
       "    <tr>\n",
       "      <th>date</th>\n",
       "      <th></th>\n",
       "      <th></th>\n",
       "      <th></th>\n",
       "      <th></th>\n",
       "    </tr>\n",
       "  </thead>\n",
       "  <tbody>\n",
       "    <tr>\n",
       "      <th>2020-12-01</th>\n",
       "      <td>sports_wellness</td>\n",
       "      <td>12</td>\n",
       "      <td>2020</td>\n",
       "      <td>49</td>\n",
       "    </tr>\n",
       "    <tr>\n",
       "      <th>2021-07-01</th>\n",
       "      <td>computers</td>\n",
       "      <td>7</td>\n",
       "      <td>2021</td>\n",
       "      <td>4</td>\n",
       "    </tr>\n",
       "    <tr>\n",
       "      <th>2023-01-01</th>\n",
       "      <td>performance</td>\n",
       "      <td>1</td>\n",
       "      <td>2023</td>\n",
       "      <td>29</td>\n",
       "    </tr>\n",
       "    <tr>\n",
       "      <th>2021-05-01</th>\n",
       "      <td>helping_your_community</td>\n",
       "      <td>5</td>\n",
       "      <td>2021</td>\n",
       "      <td>2</td>\n",
       "    </tr>\n",
       "    <tr>\n",
       "      <th>2021-10-01</th>\n",
       "      <td>performance</td>\n",
       "      <td>10</td>\n",
       "      <td>2021</td>\n",
       "      <td>6</td>\n",
       "    </tr>\n",
       "    <tr>\n",
       "      <th>...</th>\n",
       "      <td>...</td>\n",
       "      <td>...</td>\n",
       "      <td>...</td>\n",
       "      <td>...</td>\n",
       "    </tr>\n",
       "    <tr>\n",
       "      <th>2021-07-01</th>\n",
       "      <td>academic_support</td>\n",
       "      <td>7</td>\n",
       "      <td>2021</td>\n",
       "      <td>2</td>\n",
       "    </tr>\n",
       "    <tr>\n",
       "      <th>2022-12-01</th>\n",
       "      <td>science</td>\n",
       "      <td>12</td>\n",
       "      <td>2022</td>\n",
       "      <td>44</td>\n",
       "    </tr>\n",
       "    <tr>\n",
       "      <th>2021-05-01</th>\n",
       "      <td>science</td>\n",
       "      <td>5</td>\n",
       "      <td>2021</td>\n",
       "      <td>42</td>\n",
       "    </tr>\n",
       "    <tr>\n",
       "      <th>2022-08-01</th>\n",
       "      <td>academic_support</td>\n",
       "      <td>8</td>\n",
       "      <td>2022</td>\n",
       "      <td>275</td>\n",
       "    </tr>\n",
       "    <tr>\n",
       "      <th>2020-07-01</th>\n",
       "      <td>transportation</td>\n",
       "      <td>7</td>\n",
       "      <td>2020</td>\n",
       "      <td>6</td>\n",
       "    </tr>\n",
       "  </tbody>\n",
       "</table>\n",
       "<p>99 rows × 4 columns</p>\n",
       "</div>"
      ],
      "text/plain": [
       "                     category_name  month  year  count\n",
       "date                                                  \n",
       "2020-12-01         sports_wellness     12  2020     49\n",
       "2021-07-01               computers      7  2021      4\n",
       "2023-01-01             performance      1  2023     29\n",
       "2021-05-01  helping_your_community      5  2021      2\n",
       "2021-10-01             performance     10  2021      6\n",
       "...                            ...    ...   ...    ...\n",
       "2021-07-01        academic_support      7  2021      2\n",
       "2022-12-01                 science     12  2022     44\n",
       "2021-05-01                 science      5  2021     42\n",
       "2022-08-01        academic_support      8  2022    275\n",
       "2020-07-01          transportation      7  2020      6\n",
       "\n",
       "[99 rows x 4 columns]"
      ]
     },
     "execution_count": 127,
     "metadata": {},
     "output_type": "execute_result"
    }
   ],
   "source": [
    "test"
   ]
  },
  {
   "cell_type": "code",
   "execution_count": 131,
   "id": "28a66f0f",
   "metadata": {},
   "outputs": [
    {
     "data": {
      "text/plain": [
       "Timestamp('2023-09-01 00:00:00')"
      ]
     },
     "execution_count": 131,
     "metadata": {},
     "output_type": "execute_result"
    }
   ],
   "source": [
    "end_date"
   ]
  },
  {
   "cell_type": "code",
   "execution_count": 150,
   "id": "58b0061f",
   "metadata": {},
   "outputs": [
    {
     "name": "stderr",
     "output_type": "stream",
     "text": [
      "/Users/adazhong/opt/anaconda3/lib/python3.9/site-packages/statsmodels/tsa/base/tsa_model.py:471: ValueWarning: A date index has been provided, but it has no associated frequency information and so will be ignored when e.g. forecasting.\n",
      "  self._init_dates(dates, freq)\n",
      "/Users/adazhong/opt/anaconda3/lib/python3.9/site-packages/statsmodels/tsa/base/tsa_model.py:471: ValueWarning: A date index has been provided, but it is not monotonic and so will be ignored when e.g. forecasting.\n",
      "  self._init_dates(dates, freq)\n",
      "/Users/adazhong/opt/anaconda3/lib/python3.9/site-packages/statsmodels/tsa/base/tsa_model.py:471: ValueWarning: A date index has been provided, but it has no associated frequency information and so will be ignored when e.g. forecasting.\n",
      "  self._init_dates(dates, freq)\n",
      "/Users/adazhong/opt/anaconda3/lib/python3.9/site-packages/statsmodels/tsa/base/tsa_model.py:471: ValueWarning: A date index has been provided, but it is not monotonic and so will be ignored when e.g. forecasting.\n",
      "  self._init_dates(dates, freq)\n",
      "/Users/adazhong/opt/anaconda3/lib/python3.9/site-packages/statsmodels/tsa/base/tsa_model.py:471: ValueWarning: A date index has been provided, but it has no associated frequency information and so will be ignored when e.g. forecasting.\n",
      "  self._init_dates(dates, freq)\n",
      "/Users/adazhong/opt/anaconda3/lib/python3.9/site-packages/statsmodels/tsa/base/tsa_model.py:471: ValueWarning: A date index has been provided, but it is not monotonic and so will be ignored when e.g. forecasting.\n",
      "  self._init_dates(dates, freq)\n",
      "/Users/adazhong/opt/anaconda3/lib/python3.9/site-packages/statsmodels/tsa/statespace/sarimax.py:966: UserWarning: Non-stationary starting autoregressive parameters found. Using zeros as starting parameters.\n",
      "  warn('Non-stationary starting autoregressive parameters'\n",
      "/Users/adazhong/opt/anaconda3/lib/python3.9/site-packages/statsmodels/tsa/statespace/sarimax.py:978: UserWarning: Non-invertible starting MA parameters found. Using zeros as starting parameters.\n",
      "  warn('Non-invertible starting MA parameters found.'\n"
     ]
    }
   ],
   "source": [
    "arima_model = ARIMA(endog=train['count'], order=(1, 0, 1))  # Replace order values with your chosen hyperparameters\n",
    "arima_model_fit = arima_model.fit()\n",
    "\n",
    "\n",
    "start_date = test.index.min()\n",
    "end_date = test.index.max()\n",
    "predictions = arima_model_fit.predict(start=end_date, end=start_date)"
   ]
  },
  {
   "cell_type": "code",
   "execution_count": 151,
   "id": "076bad30",
   "metadata": {},
   "outputs": [
    {
     "data": {
      "text/plain": [
       "382.85064485621774"
      ]
     },
     "execution_count": 151,
     "metadata": {},
     "output_type": "execute_result"
    }
   ],
   "source": [
    "mae = (abs(predictions - test['count'])).mean()\n",
    "mae"
   ]
  },
  {
   "cell_type": "code",
   "execution_count": 68,
   "id": "b334322f",
   "metadata": {
    "scrolled": true
   },
   "outputs": [
    {
     "name": "stderr",
     "output_type": "stream",
     "text": [
      "/Users/adazhong/opt/anaconda3/lib/python3.9/site-packages/statsmodels/tsa/base/tsa_model.py:471: ValueWarning: A date index has been provided, but it has no associated frequency information and so will be ignored when e.g. forecasting.\n",
      "  self._init_dates(dates, freq)\n",
      "/Users/adazhong/opt/anaconda3/lib/python3.9/site-packages/statsmodels/tsa/base/tsa_model.py:471: ValueWarning: A date index has been provided, but it is not monotonic and so will be ignored when e.g. forecasting.\n",
      "  self._init_dates(dates, freq)\n",
      "/Users/adazhong/opt/anaconda3/lib/python3.9/site-packages/statsmodels/tsa/base/tsa_model.py:471: ValueWarning: A date index has been provided, but it has no associated frequency information and so will be ignored when e.g. forecasting.\n",
      "  self._init_dates(dates, freq)\n",
      "/Users/adazhong/opt/anaconda3/lib/python3.9/site-packages/statsmodels/tsa/base/tsa_model.py:471: ValueWarning: A date index has been provided, but it is not monotonic and so will be ignored when e.g. forecasting.\n",
      "  self._init_dates(dates, freq)\n",
      "/Users/adazhong/opt/anaconda3/lib/python3.9/site-packages/statsmodels/tsa/base/tsa_model.py:471: ValueWarning: A date index has been provided, but it has no associated frequency information and so will be ignored when e.g. forecasting.\n",
      "  self._init_dates(dates, freq)\n",
      "/Users/adazhong/opt/anaconda3/lib/python3.9/site-packages/statsmodels/tsa/base/tsa_model.py:471: ValueWarning: A date index has been provided, but it is not monotonic and so will be ignored when e.g. forecasting.\n",
      "  self._init_dates(dates, freq)\n",
      "/Users/adazhong/opt/anaconda3/lib/python3.9/site-packages/statsmodels/tsa/base/tsa_model.py:834: ValueWarning: No supported index is available. Prediction results will be given with an integer index beginning at `start`.\n",
      "  return get_prediction_index(\n"
     ]
    }
   ],
   "source": [
    "model = ARIMA(y_train, order=(1, 1, 1))  # Specify the order of the ARIMA model (p, d, q)\n",
    "model_fit = model.fit()\n",
    "\n",
    "# Predict on test data\n",
    "predictions = model_fit.predict(start=len(X_train), end=len(program_counts) - 1)"
   ]
  },
  {
   "cell_type": "code",
   "execution_count": 86,
   "id": "c2dce209",
   "metadata": {
    "scrolled": true
   },
   "outputs": [
    {
     "data": {
      "text/html": [
       "<div>\n",
       "<style scoped>\n",
       "    .dataframe tbody tr th:only-of-type {\n",
       "        vertical-align: middle;\n",
       "    }\n",
       "\n",
       "    .dataframe tbody tr th {\n",
       "        vertical-align: top;\n",
       "    }\n",
       "\n",
       "    .dataframe thead th {\n",
       "        text-align: right;\n",
       "    }\n",
       "</style>\n",
       "<table border=\"1\" class=\"dataframe\">\n",
       "  <thead>\n",
       "    <tr style=\"text-align: right;\">\n",
       "      <th></th>\n",
       "      <th>count</th>\n",
       "    </tr>\n",
       "    <tr>\n",
       "      <th>date</th>\n",
       "      <th></th>\n",
       "    </tr>\n",
       "  </thead>\n",
       "  <tbody>\n",
       "    <tr>\n",
       "      <th>2022-09-01</th>\n",
       "      <td>1864</td>\n",
       "    </tr>\n",
       "    <tr>\n",
       "      <th>2021-07-01</th>\n",
       "      <td>3</td>\n",
       "    </tr>\n",
       "    <tr>\n",
       "      <th>2022-07-01</th>\n",
       "      <td>6</td>\n",
       "    </tr>\n",
       "    <tr>\n",
       "      <th>2020-07-01</th>\n",
       "      <td>765</td>\n",
       "    </tr>\n",
       "    <tr>\n",
       "      <th>2021-02-01</th>\n",
       "      <td>17</td>\n",
       "    </tr>\n",
       "    <tr>\n",
       "      <th>...</th>\n",
       "      <td>...</td>\n",
       "    </tr>\n",
       "    <tr>\n",
       "      <th>2023-03-01</th>\n",
       "      <td>1</td>\n",
       "    </tr>\n",
       "    <tr>\n",
       "      <th>2022-03-01</th>\n",
       "      <td>8</td>\n",
       "    </tr>\n",
       "    <tr>\n",
       "      <th>2021-03-01</th>\n",
       "      <td>2</td>\n",
       "    </tr>\n",
       "    <tr>\n",
       "      <th>2021-08-01</th>\n",
       "      <td>1</td>\n",
       "    </tr>\n",
       "    <tr>\n",
       "      <th>2022-09-01</th>\n",
       "      <td>63</td>\n",
       "    </tr>\n",
       "  </tbody>\n",
       "</table>\n",
       "<p>99 rows × 1 columns</p>\n",
       "</div>"
      ],
      "text/plain": [
       "            count\n",
       "date             \n",
       "2022-09-01   1864\n",
       "2021-07-01      3\n",
       "2022-07-01      6\n",
       "2020-07-01    765\n",
       "2021-02-01     17\n",
       "...           ...\n",
       "2023-03-01      1\n",
       "2022-03-01      8\n",
       "2021-03-01      2\n",
       "2021-08-01      1\n",
       "2022-09-01     63\n",
       "\n",
       "[99 rows x 1 columns]"
      ]
     },
     "execution_count": 86,
     "metadata": {},
     "output_type": "execute_result"
    }
   ],
   "source": []
  },
  {
   "cell_type": "code",
   "execution_count": 93,
   "id": "9f78e2d4",
   "metadata": {},
   "outputs": [],
   "source": [
    "predictions=pd.DataFrame(predictions)\n",
    "y_test=pd.DataFrame(y_test)"
   ]
  },
  {
   "cell_type": "code",
   "execution_count": 106,
   "id": "ba44f80a",
   "metadata": {},
   "outputs": [
    {
     "data": {
      "text/plain": [
       "count    int64\n",
       "dtype: object"
      ]
     },
     "execution_count": 106,
     "metadata": {},
     "output_type": "execute_result"
    }
   ],
   "source": [
    "y_test.index = predictions.index\n",
    "y_test.dtypes"
   ]
  },
  {
   "cell_type": "code",
   "execution_count": 111,
   "id": "2383a92d",
   "metadata": {},
   "outputs": [],
   "source": [
    "predictions = predictions.rename(columns={'predicted_mean': 'count'})"
   ]
  },
  {
   "cell_type": "code",
   "execution_count": 113,
   "id": "db76ed16",
   "metadata": {},
   "outputs": [
    {
     "data": {
      "text/plain": [
       "count    618.546832\n",
       "dtype: float64"
      ]
     },
     "execution_count": 113,
     "metadata": {},
     "output_type": "execute_result"
    }
   ],
   "source": [
    "rmse = np.sqrt(np.mean((predictions - y_test) ** 2))\n",
    "rmse"
   ]
  },
  {
   "cell_type": "code",
   "execution_count": 114,
   "id": "d024d3d8",
   "metadata": {},
   "outputs": [
    {
     "data": {
      "text/html": [
       "<div>\n",
       "<style scoped>\n",
       "    .dataframe tbody tr th:only-of-type {\n",
       "        vertical-align: middle;\n",
       "    }\n",
       "\n",
       "    .dataframe tbody tr th {\n",
       "        vertical-align: top;\n",
       "    }\n",
       "\n",
       "    .dataframe thead th {\n",
       "        text-align: right;\n",
       "    }\n",
       "</style>\n",
       "<table border=\"1\" class=\"dataframe\">\n",
       "  <thead>\n",
       "    <tr style=\"text-align: right;\">\n",
       "      <th></th>\n",
       "      <th>count</th>\n",
       "    </tr>\n",
       "  </thead>\n",
       "  <tbody>\n",
       "    <tr>\n",
       "      <th>395</th>\n",
       "      <td>-1728.345975</td>\n",
       "    </tr>\n",
       "    <tr>\n",
       "      <th>396</th>\n",
       "      <td>130.138240</td>\n",
       "    </tr>\n",
       "    <tr>\n",
       "      <th>397</th>\n",
       "      <td>127.185243</td>\n",
       "    </tr>\n",
       "    <tr>\n",
       "      <th>398</th>\n",
       "      <td>-631.815635</td>\n",
       "    </tr>\n",
       "    <tr>\n",
       "      <th>399</th>\n",
       "      <td>116.184381</td>\n",
       "    </tr>\n",
       "    <tr>\n",
       "      <th>...</th>\n",
       "      <td>...</td>\n",
       "    </tr>\n",
       "    <tr>\n",
       "      <th>489</th>\n",
       "      <td>132.184381</td>\n",
       "    </tr>\n",
       "    <tr>\n",
       "      <th>490</th>\n",
       "      <td>125.184381</td>\n",
       "    </tr>\n",
       "    <tr>\n",
       "      <th>491</th>\n",
       "      <td>131.184381</td>\n",
       "    </tr>\n",
       "    <tr>\n",
       "      <th>492</th>\n",
       "      <td>132.184381</td>\n",
       "    </tr>\n",
       "    <tr>\n",
       "      <th>493</th>\n",
       "      <td>70.184381</td>\n",
       "    </tr>\n",
       "  </tbody>\n",
       "</table>\n",
       "<p>99 rows × 1 columns</p>\n",
       "</div>"
      ],
      "text/plain": [
       "           count\n",
       "395 -1728.345975\n",
       "396   130.138240\n",
       "397   127.185243\n",
       "398  -631.815635\n",
       "399   116.184381\n",
       "..           ...\n",
       "489   132.184381\n",
       "490   125.184381\n",
       "491   131.184381\n",
       "492   132.184381\n",
       "493    70.184381\n",
       "\n",
       "[99 rows x 1 columns]"
      ]
     },
     "execution_count": 114,
     "metadata": {},
     "output_type": "execute_result"
    }
   ],
   "source": [
    "predictions-y_test"
   ]
  }
 ],
 "metadata": {
  "kernelspec": {
   "display_name": "Python 3 (ipykernel)",
   "language": "python",
   "name": "python3"
  },
  "language_info": {
   "codemirror_mode": {
    "name": "ipython",
    "version": 3
   },
   "file_extension": ".py",
   "mimetype": "text/x-python",
   "name": "python",
   "nbconvert_exporter": "python",
   "pygments_lexer": "ipython3",
   "version": "3.9.12"
  }
 },
 "nbformat": 4,
 "nbformat_minor": 5
}
