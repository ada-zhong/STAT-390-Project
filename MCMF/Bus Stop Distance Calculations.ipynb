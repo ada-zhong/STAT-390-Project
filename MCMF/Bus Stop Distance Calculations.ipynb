{
 "cells": [
  {
   "cell_type": "code",
   "execution_count": 1,
   "id": "f82360e3",
   "metadata": {},
   "outputs": [],
   "source": [
    "import pandas as pd\n",
    "from haversine import haversine, Unit\n",
    "import numpy as np\n",
    "from scipy.spatial.distance import cdist\n",
    "import seaborn as sns\n",
    "from geopy.distance import great_circle\n",
    "from sklearn.metrics.pairwise import haversine_distances\n",
    "from math import radians"
   ]
  },
  {
   "cell_type": "code",
   "execution_count": 2,
   "id": "fb476568",
   "metadata": {},
   "outputs": [
    {
     "name": "stderr",
     "output_type": "stream",
     "text": [
      "/var/folders/tx/ccgvwwd562sfhw5ybj094vxc0000gn/T/ipykernel_16022/2349858161.py:2: DtypeWarning: Columns (14,28,37,38) have mixed types. Specify dtype option on import or set low_memory=False.\n",
      "  mcmf = pd.read_csv('data_cleaned.csv')\n"
     ]
    }
   ],
   "source": [
    "bus = pd.read_csv('CTA_BusStops_Cleaned.csv')\n",
    "mcmf = pd.read_csv('data_cleaned.csv')"
   ]
  },
  {
   "cell_type": "code",
   "execution_count": 33,
   "id": "b3c00f25",
   "metadata": {},
   "outputs": [],
   "source": [
    "train = pd.read_csv('CTA_TrainStops.csv')"
   ]
  },
  {
   "cell_type": "code",
   "execution_count": 3,
   "id": "bdad3a1c",
   "metadata": {},
   "outputs": [],
   "source": [
    "bus = bus.drop('Unnamed: 0', axis=1)\n",
    "mcmf = mcmf.drop('Unnamed: 0', axis=1)"
   ]
  },
  {
   "cell_type": "code",
   "execution_count": 4,
   "id": "316e6cce",
   "metadata": {},
   "outputs": [
    {
     "data": {
      "text/html": [
       "<div>\n",
       "<style scoped>\n",
       "    .dataframe tbody tr th:only-of-type {\n",
       "        vertical-align: middle;\n",
       "    }\n",
       "\n",
       "    .dataframe tbody tr th {\n",
       "        vertical-align: top;\n",
       "    }\n",
       "\n",
       "    .dataframe thead th {\n",
       "        text-align: right;\n",
       "    }\n",
       "</style>\n",
       "<table border=\"1\" class=\"dataframe\">\n",
       "  <thead>\n",
       "    <tr style=\"text-align: right;\">\n",
       "      <th></th>\n",
       "      <th>longitude</th>\n",
       "      <th>latitude</th>\n",
       "      <th>the_geom</th>\n",
       "      <th>SYSTEMSTOP</th>\n",
       "      <th>STREET</th>\n",
       "      <th>CROSS_ST</th>\n",
       "      <th>DIR</th>\n",
       "      <th>POS</th>\n",
       "      <th>ROUTESSTPG</th>\n",
       "      <th>OWLROUTES</th>\n",
       "      <th>CITY</th>\n",
       "      <th>PUBLIC_NAM</th>\n",
       "    </tr>\n",
       "  </thead>\n",
       "  <tbody>\n",
       "    <tr>\n",
       "      <th>0</th>\n",
       "      <td>-87.747509</td>\n",
       "      <td>41.956892</td>\n",
       "      <td>POINT (-87.74750923800002 41.956892084)</td>\n",
       "      <td>15189</td>\n",
       "      <td>CICERO</td>\n",
       "      <td>BERTEAU (north leg)</td>\n",
       "      <td>SB</td>\n",
       "      <td>FS</td>\n",
       "      <td>54,54A</td>\n",
       "      <td>NaN</td>\n",
       "      <td>CHICAGO</td>\n",
       "      <td>Cicero &amp; Berteau</td>\n",
       "    </tr>\n",
       "    <tr>\n",
       "      <th>1</th>\n",
       "      <td>-87.641786</td>\n",
       "      <td>41.677992</td>\n",
       "      <td>POINT (-87.64178572600002 41.67799153599998)</td>\n",
       "      <td>14545</td>\n",
       "      <td>HALSTED</td>\n",
       "      <td>119TH STREET</td>\n",
       "      <td>NB</td>\n",
       "      <td>FS</td>\n",
       "      <td>8A,108</td>\n",
       "      <td>NaN</td>\n",
       "      <td>CHICAGO</td>\n",
       "      <td>Halsted &amp; 119th Street</td>\n",
       "    </tr>\n",
       "  </tbody>\n",
       "</table>\n",
       "</div>"
      ],
      "text/plain": [
       "   longitude   latitude                                      the_geom  \\\n",
       "0 -87.747509  41.956892       POINT (-87.74750923800002 41.956892084)   \n",
       "1 -87.641786  41.677992  POINT (-87.64178572600002 41.67799153599998)   \n",
       "\n",
       "   SYSTEMSTOP   STREET             CROSS_ST DIR POS ROUTESSTPG OWLROUTES  \\\n",
       "0       15189   CICERO  BERTEAU (north leg)  SB  FS     54,54A       NaN   \n",
       "1       14545  HALSTED         119TH STREET  NB  FS     8A,108       NaN   \n",
       "\n",
       "      CITY              PUBLIC_NAM  \n",
       "0  CHICAGO        Cicero & Berteau  \n",
       "1  CHICAGO  Halsted & 119th Street  "
      ]
     },
     "execution_count": 4,
     "metadata": {},
     "output_type": "execute_result"
    }
   ],
   "source": [
    "bus = bus.rename(columns={'latitude': 'longitude', 'longitude': 'latitude'})\n",
    "bus.head(2)"
   ]
  },
  {
   "cell_type": "code",
   "execution_count": 5,
   "id": "98b6c4bd",
   "metadata": {},
   "outputs": [
    {
     "data": {
      "text/html": [
       "<div>\n",
       "<style scoped>\n",
       "    .dataframe tbody tr th:only-of-type {\n",
       "        vertical-align: middle;\n",
       "    }\n",
       "\n",
       "    .dataframe tbody tr th {\n",
       "        vertical-align: top;\n",
       "    }\n",
       "\n",
       "    .dataframe thead th {\n",
       "        text-align: right;\n",
       "    }\n",
       "</style>\n",
       "<table border=\"1\" class=\"dataframe\">\n",
       "  <thead>\n",
       "    <tr style=\"text-align: right;\">\n",
       "      <th></th>\n",
       "      <th>index_row</th>\n",
       "      <th>id</th>\n",
       "      <th>program_name</th>\n",
       "      <th>description</th>\n",
       "      <th>org_name</th>\n",
       "      <th>category_name</th>\n",
       "      <th>capacity</th>\n",
       "      <th>min_age</th>\n",
       "      <th>max_age</th>\n",
       "      <th>meeting_type</th>\n",
       "      <th>...</th>\n",
       "      <th>wed_end_time</th>\n",
       "      <th>wed_start_time</th>\n",
       "      <th>program_price</th>\n",
       "      <th>geographic_cluster_name</th>\n",
       "      <th>program_pays_participants</th>\n",
       "      <th>program_has_scholarships</th>\n",
       "      <th>program_provides_transportation</th>\n",
       "      <th>latitude</th>\n",
       "      <th>longitude</th>\n",
       "      <th>program_provides_free_food</th>\n",
       "    </tr>\n",
       "  </thead>\n",
       "  <tbody>\n",
       "    <tr>\n",
       "      <th>0</th>\n",
       "      <td>4,568</td>\n",
       "      <td>78752</td>\n",
       "      <td>BBBS Community Based Mentoring (Year Round)</td>\n",
       "      <td>Community Based Mentoring is the traditional B...</td>\n",
       "      <td>Big Brothers Big Sisters</td>\n",
       "      <td>academic_support</td>\n",
       "      <td>2000.0</td>\n",
       "      <td>7</td>\n",
       "      <td>15</td>\n",
       "      <td>face_to_face</td>\n",
       "      <td>...</td>\n",
       "      <td>NaN</td>\n",
       "      <td>NaN</td>\n",
       "      <td>Free</td>\n",
       "      <td>NEAR WEST SIDE</td>\n",
       "      <td>Not Paid</td>\n",
       "      <td>YES</td>\n",
       "      <td>YES</td>\n",
       "      <td>41.886002</td>\n",
       "      <td>-87.642403</td>\n",
       "      <td>False</td>\n",
       "    </tr>\n",
       "    <tr>\n",
       "      <th>1</th>\n",
       "      <td>4,569</td>\n",
       "      <td>78752</td>\n",
       "      <td>BBBS Community Based Mentoring (Year Round)</td>\n",
       "      <td>Community Based Mentoring is the traditional B...</td>\n",
       "      <td>Big Brothers Big Sisters</td>\n",
       "      <td>work_career</td>\n",
       "      <td>2000.0</td>\n",
       "      <td>7</td>\n",
       "      <td>15</td>\n",
       "      <td>face_to_face</td>\n",
       "      <td>...</td>\n",
       "      <td>NaN</td>\n",
       "      <td>NaN</td>\n",
       "      <td>Free</td>\n",
       "      <td>NEAR WEST SIDE</td>\n",
       "      <td>Not Paid</td>\n",
       "      <td>YES</td>\n",
       "      <td>YES</td>\n",
       "      <td>41.886002</td>\n",
       "      <td>-87.642403</td>\n",
       "      <td>False</td>\n",
       "    </tr>\n",
       "  </tbody>\n",
       "</table>\n",
       "<p>2 rows × 52 columns</p>\n",
       "</div>"
      ],
      "text/plain": [
       "  index_row     id                                 program_name  \\\n",
       "0     4,568  78752  BBBS Community Based Mentoring (Year Round)   \n",
       "1     4,569  78752  BBBS Community Based Mentoring (Year Round)   \n",
       "\n",
       "                                         description  \\\n",
       "0  Community Based Mentoring is the traditional B...   \n",
       "1  Community Based Mentoring is the traditional B...   \n",
       "\n",
       "                   org_name     category_name  capacity  min_age  max_age  \\\n",
       "0  Big Brothers Big Sisters  academic_support    2000.0        7       15   \n",
       "1  Big Brothers Big Sisters       work_career    2000.0        7       15   \n",
       "\n",
       "   meeting_type  ... wed_end_time wed_start_time program_price  \\\n",
       "0  face_to_face  ...          NaN            NaN          Free   \n",
       "1  face_to_face  ...          NaN            NaN          Free   \n",
       "\n",
       "  geographic_cluster_name program_pays_participants program_has_scholarships  \\\n",
       "0          NEAR WEST SIDE                  Not Paid                      YES   \n",
       "1          NEAR WEST SIDE                  Not Paid                      YES   \n",
       "\n",
       "  program_provides_transportation   latitude  longitude  \\\n",
       "0                             YES  41.886002 -87.642403   \n",
       "1                             YES  41.886002 -87.642403   \n",
       "\n",
       "  program_provides_free_food  \n",
       "0                      False  \n",
       "1                      False  \n",
       "\n",
       "[2 rows x 52 columns]"
      ]
     },
     "execution_count": 5,
     "metadata": {},
     "output_type": "execute_result"
    }
   ],
   "source": [
    "mcmf.head(2)\n",
    "\n",
    "# row1, col1 is dist of first program to first bus stop"
   ]
  },
  {
   "cell_type": "code",
   "execution_count": 6,
   "id": "e895de86",
   "metadata": {},
   "outputs": [],
   "source": [
    "bus_coords = bus[['latitude', 'longitude']].to_numpy()"
   ]
  },
  {
   "cell_type": "code",
   "execution_count": 7,
   "id": "75b9b98f",
   "metadata": {},
   "outputs": [],
   "source": [
    "mcmf_coords = mcmf[['latitude', 'longitude']].to_numpy()"
   ]
  },
  {
   "cell_type": "code",
   "execution_count": 8,
   "id": "80616e8c",
   "metadata": {},
   "outputs": [
    {
     "data": {
      "text/plain": [
       "array([[ 41.88600159, -87.64240265],\n",
       "       [ 41.88600159, -87.64240265],\n",
       "       [ 41.8647995 , -87.72480011],\n",
       "       ...,\n",
       "       [ 41.92909241, -87.73815155],\n",
       "       [ 41.92909241, -87.73815155],\n",
       "       [ 41.92909241, -87.73815155]])"
      ]
     },
     "execution_count": 8,
     "metadata": {},
     "output_type": "execute_result"
    }
   ],
   "source": [
    "mcmf_coords"
   ]
  },
  {
   "cell_type": "code",
   "execution_count": 9,
   "id": "e8938e5b",
   "metadata": {},
   "outputs": [],
   "source": [
    "# Convert to radians\n",
    "mcmf_in_radians = np.array([[radians(float(x)) for x in coord] for coord in mcmf_coords])\n",
    "bus_in_radians = np.array([[radians(float(x)) for x in coord] for coord in bus_coords])"
   ]
  },
  {
   "cell_type": "code",
   "execution_count": 10,
   "id": "d5ece6f2",
   "metadata": {},
   "outputs": [],
   "source": [
    "# Calculate haversine dists then convert to km\n",
    "dists = haversine_distances(mcmf_in_radians, bus_in_radians)\n",
    "dists_km = dists*6371 # multiply by radius of Earth"
   ]
  },
  {
   "cell_type": "code",
   "execution_count": 11,
   "id": "bc04638c",
   "metadata": {},
   "outputs": [],
   "source": [
    "# Indices of bus stops that are closest to each program\n",
    "min_idx = np.argmin(dists_km, axis=1)"
   ]
  },
  {
   "cell_type": "code",
   "execution_count": 12,
   "id": "8bf10246",
   "metadata": {
    "scrolled": true
   },
   "outputs": [
    {
     "name": "stderr",
     "output_type": "stream",
     "text": [
      "/var/folders/tx/ccgvwwd562sfhw5ybj094vxc0000gn/T/ipykernel_16022/2256880577.py:2: RuntimeWarning: All-NaN slice encountered\n",
      "  min_dist = np.nanmin(dists_km, axis=1)\n"
     ]
    },
    {
     "data": {
      "text/plain": [
       "array([0.04927228, 0.04927228, 0.04351932, ..., 0.29226811, 0.29226811,\n",
       "       0.29226811])"
      ]
     },
     "execution_count": 12,
     "metadata": {},
     "output_type": "execute_result"
    }
   ],
   "source": [
    "# Minimum distances to each bus stop\n",
    "min_dist = np.nanmin(dists_km, axis=1)\n",
    "min_dist"
   ]
  },
  {
   "cell_type": "code",
   "execution_count": 13,
   "id": "271ebdb6",
   "metadata": {},
   "outputs": [
    {
     "data": {
      "text/plain": [
       "(72790,)"
      ]
     },
     "execution_count": 13,
     "metadata": {},
     "output_type": "execute_result"
    }
   ],
   "source": [
    "# Shape is 72790, which is same as # cols of mcmf df\n",
    "min_dist.shape"
   ]
  },
  {
   "cell_type": "code",
   "execution_count": 14,
   "id": "ed8bd53c",
   "metadata": {},
   "outputs": [],
   "source": [
    "mcmf['km_to_bus_stop'] = min_dist"
   ]
  },
  {
   "cell_type": "code",
   "execution_count": 34,
   "id": "49cbfb0b",
   "metadata": {
    "scrolled": true
   },
   "outputs": [
    {
     "data": {
      "text/html": [
       "<div>\n",
       "<style scoped>\n",
       "    .dataframe tbody tr th:only-of-type {\n",
       "        vertical-align: middle;\n",
       "    }\n",
       "\n",
       "    .dataframe tbody tr th {\n",
       "        vertical-align: top;\n",
       "    }\n",
       "\n",
       "    .dataframe thead th {\n",
       "        text-align: right;\n",
       "    }\n",
       "</style>\n",
       "<table border=\"1\" class=\"dataframe\">\n",
       "  <thead>\n",
       "    <tr style=\"text-align: right;\">\n",
       "      <th></th>\n",
       "      <th>index_row</th>\n",
       "      <th>id</th>\n",
       "      <th>program_name</th>\n",
       "      <th>description</th>\n",
       "      <th>org_name</th>\n",
       "      <th>category_name</th>\n",
       "      <th>capacity</th>\n",
       "      <th>min_age</th>\n",
       "      <th>max_age</th>\n",
       "      <th>meeting_type</th>\n",
       "      <th>...</th>\n",
       "      <th>wed_start_time</th>\n",
       "      <th>program_price</th>\n",
       "      <th>geographic_cluster_name</th>\n",
       "      <th>program_pays_participants</th>\n",
       "      <th>program_has_scholarships</th>\n",
       "      <th>program_provides_transportation</th>\n",
       "      <th>latitude</th>\n",
       "      <th>longitude</th>\n",
       "      <th>program_provides_free_food</th>\n",
       "      <th>km_to_bus_stop</th>\n",
       "    </tr>\n",
       "  </thead>\n",
       "  <tbody>\n",
       "    <tr>\n",
       "      <th>0</th>\n",
       "      <td>4,568</td>\n",
       "      <td>78752</td>\n",
       "      <td>BBBS Community Based Mentoring (Year Round)</td>\n",
       "      <td>Community Based Mentoring is the traditional B...</td>\n",
       "      <td>Big Brothers Big Sisters</td>\n",
       "      <td>academic_support</td>\n",
       "      <td>2000.0</td>\n",
       "      <td>7</td>\n",
       "      <td>15</td>\n",
       "      <td>face_to_face</td>\n",
       "      <td>...</td>\n",
       "      <td>NaN</td>\n",
       "      <td>Free</td>\n",
       "      <td>NEAR WEST SIDE</td>\n",
       "      <td>Not Paid</td>\n",
       "      <td>YES</td>\n",
       "      <td>YES</td>\n",
       "      <td>41.886002</td>\n",
       "      <td>-87.642403</td>\n",
       "      <td>False</td>\n",
       "      <td>0.049272</td>\n",
       "    </tr>\n",
       "    <tr>\n",
       "      <th>1</th>\n",
       "      <td>4,569</td>\n",
       "      <td>78752</td>\n",
       "      <td>BBBS Community Based Mentoring (Year Round)</td>\n",
       "      <td>Community Based Mentoring is the traditional B...</td>\n",
       "      <td>Big Brothers Big Sisters</td>\n",
       "      <td>work_career</td>\n",
       "      <td>2000.0</td>\n",
       "      <td>7</td>\n",
       "      <td>15</td>\n",
       "      <td>face_to_face</td>\n",
       "      <td>...</td>\n",
       "      <td>NaN</td>\n",
       "      <td>Free</td>\n",
       "      <td>NEAR WEST SIDE</td>\n",
       "      <td>Not Paid</td>\n",
       "      <td>YES</td>\n",
       "      <td>YES</td>\n",
       "      <td>41.886002</td>\n",
       "      <td>-87.642403</td>\n",
       "      <td>False</td>\n",
       "      <td>0.049272</td>\n",
       "    </tr>\n",
       "  </tbody>\n",
       "</table>\n",
       "<p>2 rows × 53 columns</p>\n",
       "</div>"
      ],
      "text/plain": [
       "  index_row     id                                 program_name  \\\n",
       "0     4,568  78752  BBBS Community Based Mentoring (Year Round)   \n",
       "1     4,569  78752  BBBS Community Based Mentoring (Year Round)   \n",
       "\n",
       "                                         description  \\\n",
       "0  Community Based Mentoring is the traditional B...   \n",
       "1  Community Based Mentoring is the traditional B...   \n",
       "\n",
       "                   org_name     category_name  capacity  min_age  max_age  \\\n",
       "0  Big Brothers Big Sisters  academic_support    2000.0        7       15   \n",
       "1  Big Brothers Big Sisters       work_career    2000.0        7       15   \n",
       "\n",
       "   meeting_type  ... wed_start_time program_price geographic_cluster_name  \\\n",
       "0  face_to_face  ...            NaN          Free          NEAR WEST SIDE   \n",
       "1  face_to_face  ...            NaN          Free          NEAR WEST SIDE   \n",
       "\n",
       "  program_pays_participants program_has_scholarships  \\\n",
       "0                  Not Paid                      YES   \n",
       "1                  Not Paid                      YES   \n",
       "\n",
       "  program_provides_transportation   latitude  longitude  \\\n",
       "0                             YES  41.886002 -87.642403   \n",
       "1                             YES  41.886002 -87.642403   \n",
       "\n",
       "  program_provides_free_food km_to_bus_stop  \n",
       "0                      False       0.049272  \n",
       "1                      False       0.049272  \n",
       "\n",
       "[2 rows x 53 columns]"
      ]
     },
     "execution_count": 34,
     "metadata": {},
     "output_type": "execute_result"
    }
   ],
   "source": [
    "mcmf.head(2)"
   ]
  },
  {
   "cell_type": "markdown",
   "id": "5e61e1c2",
   "metadata": {},
   "source": [
    "#### Train"
   ]
  },
  {
   "cell_type": "code",
   "execution_count": 35,
   "id": "d191889a",
   "metadata": {},
   "outputs": [
    {
     "data": {
      "text/html": [
       "<div>\n",
       "<style scoped>\n",
       "    .dataframe tbody tr th:only-of-type {\n",
       "        vertical-align: middle;\n",
       "    }\n",
       "\n",
       "    .dataframe tbody tr th {\n",
       "        vertical-align: top;\n",
       "    }\n",
       "\n",
       "    .dataframe thead th {\n",
       "        text-align: right;\n",
       "    }\n",
       "</style>\n",
       "<table border=\"1\" class=\"dataframe\">\n",
       "  <thead>\n",
       "    <tr style=\"text-align: right;\">\n",
       "      <th></th>\n",
       "      <th>STOP_ID</th>\n",
       "      <th>STOP_NAME</th>\n",
       "      <th>STATION_NAME</th>\n",
       "      <th>MAP_ID</th>\n",
       "      <th>ADA</th>\n",
       "      <th>RED</th>\n",
       "      <th>BLUE</th>\n",
       "      <th>G</th>\n",
       "      <th>BRN</th>\n",
       "      <th>P</th>\n",
       "      <th>Pexp</th>\n",
       "      <th>Y</th>\n",
       "      <th>Pnk</th>\n",
       "      <th>O</th>\n",
       "      <th>Location</th>\n",
       "    </tr>\n",
       "  </thead>\n",
       "  <tbody>\n",
       "    <tr>\n",
       "      <th>0</th>\n",
       "      <td>30082</td>\n",
       "      <td>Cicero (Loop-bound)</td>\n",
       "      <td>Cicero</td>\n",
       "      <td>40420</td>\n",
       "      <td>True</td>\n",
       "      <td>False</td>\n",
       "      <td>False</td>\n",
       "      <td>False</td>\n",
       "      <td>False</td>\n",
       "      <td>False</td>\n",
       "      <td>False</td>\n",
       "      <td>False</td>\n",
       "      <td>True</td>\n",
       "      <td>False</td>\n",
       "      <td>(41.85182, -87.745336)</td>\n",
       "    </tr>\n",
       "    <tr>\n",
       "      <th>1</th>\n",
       "      <td>30151</td>\n",
       "      <td>Central Park (Loop-bound)</td>\n",
       "      <td>Central Park</td>\n",
       "      <td>40780</td>\n",
       "      <td>True</td>\n",
       "      <td>False</td>\n",
       "      <td>False</td>\n",
       "      <td>False</td>\n",
       "      <td>False</td>\n",
       "      <td>False</td>\n",
       "      <td>False</td>\n",
       "      <td>False</td>\n",
       "      <td>True</td>\n",
       "      <td>False</td>\n",
       "      <td>(41.853839, -87.714842)</td>\n",
       "    </tr>\n",
       "  </tbody>\n",
       "</table>\n",
       "</div>"
      ],
      "text/plain": [
       "   STOP_ID                  STOP_NAME  STATION_NAME  MAP_ID   ADA    RED  \\\n",
       "0    30082        Cicero (Loop-bound)        Cicero   40420  True  False   \n",
       "1    30151  Central Park (Loop-bound)  Central Park   40780  True  False   \n",
       "\n",
       "    BLUE      G    BRN      P   Pexp      Y   Pnk      O  \\\n",
       "0  False  False  False  False  False  False  True  False   \n",
       "1  False  False  False  False  False  False  True  False   \n",
       "\n",
       "                  Location  \n",
       "0   (41.85182, -87.745336)  \n",
       "1  (41.853839, -87.714842)  "
      ]
     },
     "execution_count": 35,
     "metadata": {},
     "output_type": "execute_result"
    }
   ],
   "source": [
    "train.head(2)"
   ]
  },
  {
   "cell_type": "code",
   "execution_count": 39,
   "id": "37a83f57",
   "metadata": {},
   "outputs": [],
   "source": [
    "def extract_latitude_longitude(location):\n",
    "    if isinstance(location, str):\n",
    "        # Extract latitude and longitude from string format\n",
    "        lat, lon = location.split(',')\n",
    "        lat = lat.strip().replace('(', '')\n",
    "        lon = lon.strip().replace(')', '')\n",
    "        return float(lat), float(lon)\n",
    "    elif isinstance(location, tuple):\n",
    "        # Assuming the tuple format is (latitude, longitude)\n",
    "        return float(location[0]), float(location[1])\n",
    "    else:\n",
    "        # Handle other cases if needed\n",
    "        return None\n",
    "\n",
    "train['latitude'], train['longitude'] = zip(*train['Location'].apply(extract_latitude_longitude))\n"
   ]
  },
  {
   "cell_type": "code",
   "execution_count": 40,
   "id": "10cb1190",
   "metadata": {
    "scrolled": true
   },
   "outputs": [
    {
     "data": {
      "text/html": [
       "<div>\n",
       "<style scoped>\n",
       "    .dataframe tbody tr th:only-of-type {\n",
       "        vertical-align: middle;\n",
       "    }\n",
       "\n",
       "    .dataframe tbody tr th {\n",
       "        vertical-align: top;\n",
       "    }\n",
       "\n",
       "    .dataframe thead th {\n",
       "        text-align: right;\n",
       "    }\n",
       "</style>\n",
       "<table border=\"1\" class=\"dataframe\">\n",
       "  <thead>\n",
       "    <tr style=\"text-align: right;\">\n",
       "      <th></th>\n",
       "      <th>STOP_ID</th>\n",
       "      <th>STOP_NAME</th>\n",
       "      <th>STATION_NAME</th>\n",
       "      <th>MAP_ID</th>\n",
       "      <th>ADA</th>\n",
       "      <th>RED</th>\n",
       "      <th>BLUE</th>\n",
       "      <th>G</th>\n",
       "      <th>BRN</th>\n",
       "      <th>P</th>\n",
       "      <th>Pexp</th>\n",
       "      <th>Y</th>\n",
       "      <th>Pnk</th>\n",
       "      <th>O</th>\n",
       "      <th>Location</th>\n",
       "      <th>latitude</th>\n",
       "      <th>longitude</th>\n",
       "    </tr>\n",
       "  </thead>\n",
       "  <tbody>\n",
       "    <tr>\n",
       "      <th>0</th>\n",
       "      <td>30082</td>\n",
       "      <td>Cicero (Loop-bound)</td>\n",
       "      <td>Cicero</td>\n",
       "      <td>40420</td>\n",
       "      <td>True</td>\n",
       "      <td>False</td>\n",
       "      <td>False</td>\n",
       "      <td>False</td>\n",
       "      <td>False</td>\n",
       "      <td>False</td>\n",
       "      <td>False</td>\n",
       "      <td>False</td>\n",
       "      <td>True</td>\n",
       "      <td>False</td>\n",
       "      <td>(41.85182, -87.745336)</td>\n",
       "      <td>41.851820</td>\n",
       "      <td>-87.745336</td>\n",
       "    </tr>\n",
       "    <tr>\n",
       "      <th>1</th>\n",
       "      <td>30151</td>\n",
       "      <td>Central Park (Loop-bound)</td>\n",
       "      <td>Central Park</td>\n",
       "      <td>40780</td>\n",
       "      <td>True</td>\n",
       "      <td>False</td>\n",
       "      <td>False</td>\n",
       "      <td>False</td>\n",
       "      <td>False</td>\n",
       "      <td>False</td>\n",
       "      <td>False</td>\n",
       "      <td>False</td>\n",
       "      <td>True</td>\n",
       "      <td>False</td>\n",
       "      <td>(41.853839, -87.714842)</td>\n",
       "      <td>41.853839</td>\n",
       "      <td>-87.714842</td>\n",
       "    </tr>\n",
       "    <tr>\n",
       "      <th>2</th>\n",
       "      <td>30184</td>\n",
       "      <td>Halsted/63rd (Ashland-bound)</td>\n",
       "      <td>Halsted</td>\n",
       "      <td>40940</td>\n",
       "      <td>True</td>\n",
       "      <td>False</td>\n",
       "      <td>False</td>\n",
       "      <td>True</td>\n",
       "      <td>False</td>\n",
       "      <td>False</td>\n",
       "      <td>False</td>\n",
       "      <td>False</td>\n",
       "      <td>False</td>\n",
       "      <td>False</td>\n",
       "      <td>(41.778943, -87.644244)</td>\n",
       "      <td>41.778943</td>\n",
       "      <td>-87.644244</td>\n",
       "    </tr>\n",
       "    <tr>\n",
       "      <th>3</th>\n",
       "      <td>30044</td>\n",
       "      <td>Cumberland (O'Hare-bound)</td>\n",
       "      <td>Cumberland</td>\n",
       "      <td>40230</td>\n",
       "      <td>True</td>\n",
       "      <td>False</td>\n",
       "      <td>True</td>\n",
       "      <td>False</td>\n",
       "      <td>False</td>\n",
       "      <td>False</td>\n",
       "      <td>False</td>\n",
       "      <td>False</td>\n",
       "      <td>False</td>\n",
       "      <td>False</td>\n",
       "      <td>(41.984246, -87.838028)</td>\n",
       "      <td>41.984246</td>\n",
       "      <td>-87.838028</td>\n",
       "    </tr>\n",
       "    <tr>\n",
       "      <th>4</th>\n",
       "      <td>30092</td>\n",
       "      <td>Racine (O'Hare-bound)</td>\n",
       "      <td>Racine</td>\n",
       "      <td>40470</td>\n",
       "      <td>False</td>\n",
       "      <td>False</td>\n",
       "      <td>True</td>\n",
       "      <td>False</td>\n",
       "      <td>False</td>\n",
       "      <td>False</td>\n",
       "      <td>False</td>\n",
       "      <td>False</td>\n",
       "      <td>False</td>\n",
       "      <td>False</td>\n",
       "      <td>(41.87592, -87.659458)</td>\n",
       "      <td>41.875920</td>\n",
       "      <td>-87.659458</td>\n",
       "    </tr>\n",
       "  </tbody>\n",
       "</table>\n",
       "</div>"
      ],
      "text/plain": [
       "   STOP_ID                     STOP_NAME  STATION_NAME  MAP_ID    ADA    RED  \\\n",
       "0    30082           Cicero (Loop-bound)        Cicero   40420   True  False   \n",
       "1    30151     Central Park (Loop-bound)  Central Park   40780   True  False   \n",
       "2    30184  Halsted/63rd (Ashland-bound)       Halsted   40940   True  False   \n",
       "3    30044     Cumberland (O'Hare-bound)    Cumberland   40230   True  False   \n",
       "4    30092         Racine (O'Hare-bound)        Racine   40470  False  False   \n",
       "\n",
       "    BLUE      G    BRN      P   Pexp      Y    Pnk      O  \\\n",
       "0  False  False  False  False  False  False   True  False   \n",
       "1  False  False  False  False  False  False   True  False   \n",
       "2  False   True  False  False  False  False  False  False   \n",
       "3   True  False  False  False  False  False  False  False   \n",
       "4   True  False  False  False  False  False  False  False   \n",
       "\n",
       "                  Location   latitude  longitude  \n",
       "0   (41.85182, -87.745336)  41.851820 -87.745336  \n",
       "1  (41.853839, -87.714842)  41.853839 -87.714842  \n",
       "2  (41.778943, -87.644244)  41.778943 -87.644244  \n",
       "3  (41.984246, -87.838028)  41.984246 -87.838028  \n",
       "4   (41.87592, -87.659458)  41.875920 -87.659458  "
      ]
     },
     "execution_count": 40,
     "metadata": {},
     "output_type": "execute_result"
    }
   ],
   "source": [
    "train.head()"
   ]
  },
  {
   "cell_type": "code",
   "execution_count": 41,
   "id": "ce3b434f",
   "metadata": {},
   "outputs": [],
   "source": [
    "train_coords = train[['latitude', 'longitude']].to_numpy()"
   ]
  },
  {
   "cell_type": "code",
   "execution_count": 42,
   "id": "76ab4d60",
   "metadata": {},
   "outputs": [],
   "source": [
    "mcmf_coords = mcmf[['latitude', 'longitude']].to_numpy()"
   ]
  },
  {
   "cell_type": "code",
   "execution_count": 43,
   "id": "e4fdd021",
   "metadata": {},
   "outputs": [
    {
     "data": {
      "text/plain": [
       "array([[ 41.88600159, -87.64240265],\n",
       "       [ 41.88600159, -87.64240265],\n",
       "       [ 41.8647995 , -87.72480011],\n",
       "       ...,\n",
       "       [ 41.92909241, -87.73815155],\n",
       "       [ 41.92909241, -87.73815155],\n",
       "       [ 41.92909241, -87.73815155]])"
      ]
     },
     "execution_count": 43,
     "metadata": {},
     "output_type": "execute_result"
    }
   ],
   "source": [
    "mcmf_coords"
   ]
  },
  {
   "cell_type": "code",
   "execution_count": 44,
   "id": "7f27d8e7",
   "metadata": {},
   "outputs": [],
   "source": [
    "# Convert to radians\n",
    "mcmf_in_radians = np.array([[radians(float(x)) for x in coord] for coord in mcmf_coords])\n",
    "train_in_radians = np.array([[radians(float(x)) for x in coord] for coord in train_coords])"
   ]
  },
  {
   "cell_type": "code",
   "execution_count": 45,
   "id": "2e9ad11f",
   "metadata": {},
   "outputs": [],
   "source": [
    "# Calculate haversine dists then convert to km\n",
    "trdists = haversine_distances(mcmf_in_radians, train_in_radians)\n",
    "trdists_km = dists*6371 # multiply by radius of Earth"
   ]
  },
  {
   "cell_type": "code",
   "execution_count": 46,
   "id": "fe86306f",
   "metadata": {},
   "outputs": [],
   "source": [
    "# Indices of bus stops that are closest to each program\n",
    "min_idx = np.argmin(trdists_km, axis=1)"
   ]
  },
  {
   "cell_type": "code",
   "execution_count": 47,
   "id": "657bcb71",
   "metadata": {
    "scrolled": true
   },
   "outputs": [
    {
     "name": "stderr",
     "output_type": "stream",
     "text": [
      "/var/folders/tx/ccgvwwd562sfhw5ybj094vxc0000gn/T/ipykernel_16022/3641500881.py:2: RuntimeWarning: All-NaN slice encountered\n",
      "  trmin_dist = np.nanmin(trdists_km, axis=1)\n"
     ]
    },
    {
     "data": {
      "text/plain": [
       "array([0.04927228, 0.04927228, 0.04351932, ..., 0.29226811, 0.29226811,\n",
       "       0.29226811])"
      ]
     },
     "execution_count": 47,
     "metadata": {},
     "output_type": "execute_result"
    }
   ],
   "source": [
    "# Minimum distances to each bus stop\n",
    "trmin_dist = np.nanmin(trdists_km, axis=1)\n",
    "trmin_dist"
   ]
  },
  {
   "cell_type": "code",
   "execution_count": 48,
   "id": "91be1877",
   "metadata": {},
   "outputs": [
    {
     "data": {
      "text/plain": [
       "(72790,)"
      ]
     },
     "execution_count": 48,
     "metadata": {},
     "output_type": "execute_result"
    }
   ],
   "source": [
    "# Shape is 72790, which is same as # cols of mcmf df\n",
    "trmin_dist.shape"
   ]
  },
  {
   "cell_type": "code",
   "execution_count": 49,
   "id": "c0f169f3",
   "metadata": {},
   "outputs": [],
   "source": [
    "mcmf['km_to_train_stop'] = trmin_dist"
   ]
  },
  {
   "cell_type": "code",
   "execution_count": 50,
   "id": "d1e458c1",
   "metadata": {
    "scrolled": true
   },
   "outputs": [
    {
     "data": {
      "text/html": [
       "<div>\n",
       "<style scoped>\n",
       "    .dataframe tbody tr th:only-of-type {\n",
       "        vertical-align: middle;\n",
       "    }\n",
       "\n",
       "    .dataframe tbody tr th {\n",
       "        vertical-align: top;\n",
       "    }\n",
       "\n",
       "    .dataframe thead th {\n",
       "        text-align: right;\n",
       "    }\n",
       "</style>\n",
       "<table border=\"1\" class=\"dataframe\">\n",
       "  <thead>\n",
       "    <tr style=\"text-align: right;\">\n",
       "      <th></th>\n",
       "      <th>index_row</th>\n",
       "      <th>id</th>\n",
       "      <th>program_name</th>\n",
       "      <th>description</th>\n",
       "      <th>org_name</th>\n",
       "      <th>category_name</th>\n",
       "      <th>capacity</th>\n",
       "      <th>min_age</th>\n",
       "      <th>max_age</th>\n",
       "      <th>meeting_type</th>\n",
       "      <th>...</th>\n",
       "      <th>program_price</th>\n",
       "      <th>geographic_cluster_name</th>\n",
       "      <th>program_pays_participants</th>\n",
       "      <th>program_has_scholarships</th>\n",
       "      <th>program_provides_transportation</th>\n",
       "      <th>latitude</th>\n",
       "      <th>longitude</th>\n",
       "      <th>program_provides_free_food</th>\n",
       "      <th>km_to_bus_stop</th>\n",
       "      <th>km_to_train_stop</th>\n",
       "    </tr>\n",
       "  </thead>\n",
       "  <tbody>\n",
       "    <tr>\n",
       "      <th>0</th>\n",
       "      <td>4,568</td>\n",
       "      <td>78752</td>\n",
       "      <td>BBBS Community Based Mentoring (Year Round)</td>\n",
       "      <td>Community Based Mentoring is the traditional B...</td>\n",
       "      <td>Big Brothers Big Sisters</td>\n",
       "      <td>academic_support</td>\n",
       "      <td>2000.0</td>\n",
       "      <td>7</td>\n",
       "      <td>15</td>\n",
       "      <td>face_to_face</td>\n",
       "      <td>...</td>\n",
       "      <td>Free</td>\n",
       "      <td>NEAR WEST SIDE</td>\n",
       "      <td>Not Paid</td>\n",
       "      <td>YES</td>\n",
       "      <td>YES</td>\n",
       "      <td>41.886002</td>\n",
       "      <td>-87.642403</td>\n",
       "      <td>False</td>\n",
       "      <td>0.049272</td>\n",
       "      <td>0.049272</td>\n",
       "    </tr>\n",
       "    <tr>\n",
       "      <th>1</th>\n",
       "      <td>4,569</td>\n",
       "      <td>78752</td>\n",
       "      <td>BBBS Community Based Mentoring (Year Round)</td>\n",
       "      <td>Community Based Mentoring is the traditional B...</td>\n",
       "      <td>Big Brothers Big Sisters</td>\n",
       "      <td>work_career</td>\n",
       "      <td>2000.0</td>\n",
       "      <td>7</td>\n",
       "      <td>15</td>\n",
       "      <td>face_to_face</td>\n",
       "      <td>...</td>\n",
       "      <td>Free</td>\n",
       "      <td>NEAR WEST SIDE</td>\n",
       "      <td>Not Paid</td>\n",
       "      <td>YES</td>\n",
       "      <td>YES</td>\n",
       "      <td>41.886002</td>\n",
       "      <td>-87.642403</td>\n",
       "      <td>False</td>\n",
       "      <td>0.049272</td>\n",
       "      <td>0.049272</td>\n",
       "    </tr>\n",
       "  </tbody>\n",
       "</table>\n",
       "<p>2 rows × 54 columns</p>\n",
       "</div>"
      ],
      "text/plain": [
       "  index_row     id                                 program_name  \\\n",
       "0     4,568  78752  BBBS Community Based Mentoring (Year Round)   \n",
       "1     4,569  78752  BBBS Community Based Mentoring (Year Round)   \n",
       "\n",
       "                                         description  \\\n",
       "0  Community Based Mentoring is the traditional B...   \n",
       "1  Community Based Mentoring is the traditional B...   \n",
       "\n",
       "                   org_name     category_name  capacity  min_age  max_age  \\\n",
       "0  Big Brothers Big Sisters  academic_support    2000.0        7       15   \n",
       "1  Big Brothers Big Sisters       work_career    2000.0        7       15   \n",
       "\n",
       "   meeting_type  ... program_price geographic_cluster_name  \\\n",
       "0  face_to_face  ...          Free          NEAR WEST SIDE   \n",
       "1  face_to_face  ...          Free          NEAR WEST SIDE   \n",
       "\n",
       "  program_pays_participants program_has_scholarships  \\\n",
       "0                  Not Paid                      YES   \n",
       "1                  Not Paid                      YES   \n",
       "\n",
       "  program_provides_transportation   latitude  longitude  \\\n",
       "0                             YES  41.886002 -87.642403   \n",
       "1                             YES  41.886002 -87.642403   \n",
       "\n",
       "  program_provides_free_food km_to_bus_stop km_to_train_stop  \n",
       "0                      False       0.049272         0.049272  \n",
       "1                      False       0.049272         0.049272  \n",
       "\n",
       "[2 rows x 54 columns]"
      ]
     },
     "execution_count": 50,
     "metadata": {},
     "output_type": "execute_result"
    }
   ],
   "source": [
    "mcmf.head(2)"
   ]
  },
  {
   "cell_type": "code",
   "execution_count": null,
   "id": "b68648e4",
   "metadata": {},
   "outputs": [],
   "source": []
  },
  {
   "cell_type": "markdown",
   "id": "3c2b4c8b",
   "metadata": {},
   "source": [
    "# SPACER\n",
    "\n",
    "#### Past Attempts"
   ]
  },
  {
   "cell_type": "code",
   "execution_count": 46,
   "id": "323ca2dd",
   "metadata": {},
   "outputs": [
    {
     "data": {
      "text/plain": [
       "array([[183.30527632, 183.03336319, 183.31702946, ..., 183.38949148,\n",
       "        183.3241517 , 183.13685659],\n",
       "       [183.30527632, 183.03336319, 183.31702946, ..., 183.38949148,\n",
       "        183.3241517 , 183.13685659],\n",
       "       [183.34855294, 183.07659081, 183.36033255, ..., 183.43276141,\n",
       "        183.3674755 , 183.18012331],\n",
       "       ...,\n",
       "       [183.40344969, 183.13151163, 183.41521628, ..., 183.48766145,\n",
       "        183.42234903, 183.23502492],\n",
       "       [183.40344969, 183.13151163, 183.41521628, ..., 183.48766145,\n",
       "        183.42234903, 183.23502492],\n",
       "       [183.40344969, 183.13151163, 183.41521628, ..., 183.48766145,\n",
       "        183.42234903, 183.23502492]])"
      ]
     },
     "execution_count": 46,
     "metadata": {},
     "output_type": "execute_result"
    }
   ],
   "source": [
    "distances = cdist(mcmf_coords, bus_coords, metric='euclidean')\n",
    "distances = np.where(distances == 0, np.nan, distances)\n",
    "distances"
   ]
  },
  {
   "cell_type": "code",
   "execution_count": 34,
   "id": "bba9bd49",
   "metadata": {
    "scrolled": true
   },
   "outputs": [
    {
     "name": "stderr",
     "output_type": "stream",
     "text": [
      "/var/folders/tx/ccgvwwd562sfhw5ybj094vxc0000gn/T/ipykernel_85165/2966846855.py:1: RuntimeWarning: All-NaN slice encountered\n",
      "  min_distances = np.nanmin(distances, axis=1)\n"
     ]
    },
    {
     "data": {
      "text/plain": [
       "array([182.93726688, 182.93726688, 182.98051379, ..., 183.03542513,\n",
       "       183.03542513, 183.03542513])"
      ]
     },
     "execution_count": 34,
     "metadata": {},
     "output_type": "execute_result"
    }
   ],
   "source": [
    "min_distances = np.nanmin(distances, axis=1)\n",
    "min_distances"
   ]
  },
  {
   "cell_type": "code",
   "execution_count": 36,
   "id": "fd21ab90",
   "metadata": {},
   "outputs": [
    {
     "data": {
      "text/html": [
       "<div>\n",
       "<style scoped>\n",
       "    .dataframe tbody tr th:only-of-type {\n",
       "        vertical-align: middle;\n",
       "    }\n",
       "\n",
       "    .dataframe tbody tr th {\n",
       "        vertical-align: top;\n",
       "    }\n",
       "\n",
       "    .dataframe thead th {\n",
       "        text-align: right;\n",
       "    }\n",
       "</style>\n",
       "<table border=\"1\" class=\"dataframe\">\n",
       "  <thead>\n",
       "    <tr style=\"text-align: right;\">\n",
       "      <th></th>\n",
       "      <th>index_row</th>\n",
       "      <th>id</th>\n",
       "      <th>program_name</th>\n",
       "      <th>description</th>\n",
       "      <th>org_name</th>\n",
       "      <th>category_name</th>\n",
       "      <th>capacity</th>\n",
       "      <th>min_age</th>\n",
       "      <th>max_age</th>\n",
       "      <th>meeting_type</th>\n",
       "      <th>...</th>\n",
       "      <th>wed_start_time</th>\n",
       "      <th>program_price</th>\n",
       "      <th>geographic_cluster_name</th>\n",
       "      <th>program_pays_participants</th>\n",
       "      <th>program_has_scholarships</th>\n",
       "      <th>program_provides_transportation</th>\n",
       "      <th>latitude</th>\n",
       "      <th>longitude</th>\n",
       "      <th>program_provides_free_food</th>\n",
       "      <th>dist_to_bus_stop</th>\n",
       "    </tr>\n",
       "  </thead>\n",
       "  <tbody>\n",
       "    <tr>\n",
       "      <th>0</th>\n",
       "      <td>4,568</td>\n",
       "      <td>78752</td>\n",
       "      <td>BBBS Community Based Mentoring (Year Round)</td>\n",
       "      <td>Community Based Mentoring is the traditional B...</td>\n",
       "      <td>Big Brothers Big Sisters</td>\n",
       "      <td>academic_support</td>\n",
       "      <td>2000.0</td>\n",
       "      <td>7</td>\n",
       "      <td>15</td>\n",
       "      <td>face_to_face</td>\n",
       "      <td>...</td>\n",
       "      <td>NaN</td>\n",
       "      <td>Free</td>\n",
       "      <td>NEAR WEST SIDE</td>\n",
       "      <td>Not Paid</td>\n",
       "      <td>YES</td>\n",
       "      <td>YES</td>\n",
       "      <td>41.886002</td>\n",
       "      <td>-87.642403</td>\n",
       "      <td>False</td>\n",
       "      <td>182.937267</td>\n",
       "    </tr>\n",
       "    <tr>\n",
       "      <th>1</th>\n",
       "      <td>4,569</td>\n",
       "      <td>78752</td>\n",
       "      <td>BBBS Community Based Mentoring (Year Round)</td>\n",
       "      <td>Community Based Mentoring is the traditional B...</td>\n",
       "      <td>Big Brothers Big Sisters</td>\n",
       "      <td>work_career</td>\n",
       "      <td>2000.0</td>\n",
       "      <td>7</td>\n",
       "      <td>15</td>\n",
       "      <td>face_to_face</td>\n",
       "      <td>...</td>\n",
       "      <td>NaN</td>\n",
       "      <td>Free</td>\n",
       "      <td>NEAR WEST SIDE</td>\n",
       "      <td>Not Paid</td>\n",
       "      <td>YES</td>\n",
       "      <td>YES</td>\n",
       "      <td>41.886002</td>\n",
       "      <td>-87.642403</td>\n",
       "      <td>False</td>\n",
       "      <td>182.937267</td>\n",
       "    </tr>\n",
       "    <tr>\n",
       "      <th>2</th>\n",
       "      <td>4,562</td>\n",
       "      <td>78749</td>\n",
       "      <td>Youth Mentoring and Academic Supports</td>\n",
       "      <td>Young Men's Educational Network provides mento...</td>\n",
       "      <td>Youth Mentoring and Academic Supports</td>\n",
       "      <td>academic_support</td>\n",
       "      <td>100.0</td>\n",
       "      <td>12</td>\n",
       "      <td>18</td>\n",
       "      <td>face_to_face</td>\n",
       "      <td>...</td>\n",
       "      <td>NaN</td>\n",
       "      <td>Free</td>\n",
       "      <td>NORTH LAWNDALE</td>\n",
       "      <td>Not Paid</td>\n",
       "      <td>NO</td>\n",
       "      <td>NO</td>\n",
       "      <td>41.864799</td>\n",
       "      <td>-87.724800</td>\n",
       "      <td>True</td>\n",
       "      <td>182.980514</td>\n",
       "    </tr>\n",
       "    <tr>\n",
       "      <th>3</th>\n",
       "      <td>4,563</td>\n",
       "      <td>78749</td>\n",
       "      <td>Youth Mentoring and Academic Supports</td>\n",
       "      <td>Young Men's Educational Network provides mento...</td>\n",
       "      <td>Youth Mentoring and Academic Supports</td>\n",
       "      <td>music_art</td>\n",
       "      <td>100.0</td>\n",
       "      <td>12</td>\n",
       "      <td>18</td>\n",
       "      <td>face_to_face</td>\n",
       "      <td>...</td>\n",
       "      <td>NaN</td>\n",
       "      <td>Free</td>\n",
       "      <td>NORTH LAWNDALE</td>\n",
       "      <td>Not Paid</td>\n",
       "      <td>NO</td>\n",
       "      <td>NO</td>\n",
       "      <td>41.864799</td>\n",
       "      <td>-87.724800</td>\n",
       "      <td>True</td>\n",
       "      <td>182.980514</td>\n",
       "    </tr>\n",
       "    <tr>\n",
       "      <th>4</th>\n",
       "      <td>4,557</td>\n",
       "      <td>78746</td>\n",
       "      <td>Refugee Youth Career Pathways</td>\n",
       "      <td>Refugee Youth Career Pathways (RYCP) provides ...</td>\n",
       "      <td>RefugeeOne</td>\n",
       "      <td>managing_money</td>\n",
       "      <td>15.0</td>\n",
       "      <td>16</td>\n",
       "      <td>24</td>\n",
       "      <td>face_to_face</td>\n",
       "      <td>...</td>\n",
       "      <td>NaN</td>\n",
       "      <td>Free</td>\n",
       "      <td>NaN</td>\n",
       "      <td>Not Paid</td>\n",
       "      <td>YES</td>\n",
       "      <td>YES</td>\n",
       "      <td>NaN</td>\n",
       "      <td>NaN</td>\n",
       "      <td>False</td>\n",
       "      <td>NaN</td>\n",
       "    </tr>\n",
       "  </tbody>\n",
       "</table>\n",
       "<p>5 rows × 53 columns</p>\n",
       "</div>"
      ],
      "text/plain": [
       "  index_row     id                                 program_name  \\\n",
       "0     4,568  78752  BBBS Community Based Mentoring (Year Round)   \n",
       "1     4,569  78752  BBBS Community Based Mentoring (Year Round)   \n",
       "2     4,562  78749        Youth Mentoring and Academic Supports   \n",
       "3     4,563  78749        Youth Mentoring and Academic Supports   \n",
       "4     4,557  78746                Refugee Youth Career Pathways   \n",
       "\n",
       "                                         description  \\\n",
       "0  Community Based Mentoring is the traditional B...   \n",
       "1  Community Based Mentoring is the traditional B...   \n",
       "2  Young Men's Educational Network provides mento...   \n",
       "3  Young Men's Educational Network provides mento...   \n",
       "4  Refugee Youth Career Pathways (RYCP) provides ...   \n",
       "\n",
       "                                org_name     category_name  capacity  min_age  \\\n",
       "0               Big Brothers Big Sisters  academic_support    2000.0        7   \n",
       "1               Big Brothers Big Sisters       work_career    2000.0        7   \n",
       "2  Youth Mentoring and Academic Supports  academic_support     100.0       12   \n",
       "3  Youth Mentoring and Academic Supports         music_art     100.0       12   \n",
       "4                             RefugeeOne    managing_money      15.0       16   \n",
       "\n",
       "   max_age  meeting_type  ... wed_start_time program_price  \\\n",
       "0       15  face_to_face  ...            NaN          Free   \n",
       "1       15  face_to_face  ...            NaN          Free   \n",
       "2       18  face_to_face  ...            NaN          Free   \n",
       "3       18  face_to_face  ...            NaN          Free   \n",
       "4       24  face_to_face  ...            NaN          Free   \n",
       "\n",
       "  geographic_cluster_name program_pays_participants program_has_scholarships  \\\n",
       "0          NEAR WEST SIDE                  Not Paid                      YES   \n",
       "1          NEAR WEST SIDE                  Not Paid                      YES   \n",
       "2          NORTH LAWNDALE                  Not Paid                       NO   \n",
       "3          NORTH LAWNDALE                  Not Paid                       NO   \n",
       "4                     NaN                  Not Paid                      YES   \n",
       "\n",
       "  program_provides_transportation   latitude  longitude  \\\n",
       "0                             YES  41.886002 -87.642403   \n",
       "1                             YES  41.886002 -87.642403   \n",
       "2                              NO  41.864799 -87.724800   \n",
       "3                              NO  41.864799 -87.724800   \n",
       "4                             YES        NaN        NaN   \n",
       "\n",
       "  program_provides_free_food dist_to_bus_stop  \n",
       "0                      False       182.937267  \n",
       "1                      False       182.937267  \n",
       "2                       True       182.980514  \n",
       "3                       True       182.980514  \n",
       "4                      False              NaN  \n",
       "\n",
       "[5 rows x 53 columns]"
      ]
     },
     "execution_count": 36,
     "metadata": {},
     "output_type": "execute_result"
    }
   ],
   "source": [
    "mcmf['dist_to_bus_stop'] = min_distances\n",
    "mcmf.head()"
   ]
  },
  {
   "cell_type": "code",
   "execution_count": 39,
   "id": "7d6907f5",
   "metadata": {},
   "outputs": [
    {
     "data": {
      "text/plain": [
       "<AxesSubplot:xlabel='dist_to_bus_stop', ylabel='Count'>"
      ]
     },
     "execution_count": 39,
     "metadata": {},
     "output_type": "execute_result"
    },
    {
     "data": {
      "image/png": "[encoded data removed]",
      "text/plain": [
       "<Figure size 432x288 with 1 Axes>"
      ]
     },
     "metadata": {
      "needs_background": "light"
     },
     "output_type": "display_data"
    }
   ],
   "source": [
    "sns.histplot(mcmf.dist_to_bus_stop)"
   ]
  },
  {
   "cell_type": "code",
   "execution_count": 26,
   "id": "70954d89",
   "metadata": {},
   "outputs": [],
   "source": [
    "distances = cdist(mcmf_coords, bus_coords, metric='euclidean')"
   ]
  },
  {
   "cell_type": "code",
   "execution_count": 28,
   "id": "8c2df9ad",
   "metadata": {},
   "outputs": [
    {
     "data": {
      "text/plain": [
       "(72790, 52)"
      ]
     },
     "execution_count": 28,
     "metadata": {},
     "output_type": "execute_result"
    }
   ],
   "source": [
    "mcmf.shape"
   ]
  },
  {
   "cell_type": "code",
   "execution_count": 23,
   "id": "50803379",
   "metadata": {},
   "outputs": [
    {
     "data": {
      "text/plain": [
       "(10760, 12)"
      ]
     },
     "execution_count": 23,
     "metadata": {},
     "output_type": "execute_result"
    }
   ],
   "source": [
    "bus.shape"
   ]
  },
  {
   "cell_type": "markdown",
   "id": "a57047db",
   "metadata": {},
   "source": [
    "## Old version"
   ]
  },
  {
   "cell_type": "code",
   "execution_count": 4,
   "id": "16e29556",
   "metadata": {},
   "outputs": [],
   "source": [
    "mcmf['distance_to_bus_stop'] = None"
   ]
  },
  {
   "cell_type": "code",
   "execution_count": 5,
   "id": "02456ff9",
   "metadata": {},
   "outputs": [
    {
     "ename": "KeyboardInterrupt",
     "evalue": "",
     "output_type": "error",
     "traceback": [
      "\u001b[0;31m---------------------------------------------------------------------------\u001b[0m",
      "\u001b[0;31mKeyboardInterrupt\u001b[0m                         Traceback (most recent call last)",
      "Input \u001b[0;32mIn [5]\u001b[0m, in \u001b[0;36m<cell line: 2>\u001b[0;34m()\u001b[0m\n\u001b[1;32m      6\u001b[0m nearest_bus_stop \u001b[38;5;241m=\u001b[39m \u001b[38;5;28;01mNone\u001b[39;00m\n\u001b[1;32m      8\u001b[0m \u001b[38;5;66;03m# Loop through each bus stop in the 'bus' dataset\u001b[39;00m\n\u001b[0;32m----> 9\u001b[0m \u001b[38;5;28;01mfor\u001b[39;00m _, bus_stop \u001b[38;5;129;01min\u001b[39;00m bus\u001b[38;5;241m.\u001b[39miterrows():\n\u001b[1;32m     10\u001b[0m \n\u001b[1;32m     11\u001b[0m     \u001b[38;5;66;03m# Calculate the distance between the program and the bus stop using the Haversine formula\u001b[39;00m\n\u001b[1;32m     12\u001b[0m     distance \u001b[38;5;241m=\u001b[39m haversine((program[\u001b[38;5;124m'\u001b[39m\u001b[38;5;124mlatitude\u001b[39m\u001b[38;5;124m'\u001b[39m], program[\u001b[38;5;124m'\u001b[39m\u001b[38;5;124mlongitude\u001b[39m\u001b[38;5;124m'\u001b[39m]), (bus_stop[\u001b[38;5;124m'\u001b[39m\u001b[38;5;124mlatitude\u001b[39m\u001b[38;5;124m'\u001b[39m], bus_stop[\u001b[38;5;124m'\u001b[39m\u001b[38;5;124mlongitude\u001b[39m\u001b[38;5;124m'\u001b[39m]), unit\u001b[38;5;241m=\u001b[39mUnit\u001b[38;5;241m.\u001b[39mMILES)\n\u001b[1;32m     14\u001b[0m     \u001b[38;5;66;03m# If the minimum distance is None or the current distance is less than the minimum distance, update the minimum distance and nearest bus stop\u001b[39;00m\n",
      "File \u001b[0;32m~/opt/anaconda3/lib/python3.9/site-packages/pandas/core/frame.py:1324\u001b[0m, in \u001b[0;36mDataFrame.iterrows\u001b[0;34m(self)\u001b[0m\n\u001b[1;32m   1322\u001b[0m klass \u001b[38;5;241m=\u001b[39m \u001b[38;5;28mself\u001b[39m\u001b[38;5;241m.\u001b[39m_constructor_sliced\n\u001b[1;32m   1323\u001b[0m \u001b[38;5;28;01mfor\u001b[39;00m k, v \u001b[38;5;129;01min\u001b[39;00m \u001b[38;5;28mzip\u001b[39m(\u001b[38;5;28mself\u001b[39m\u001b[38;5;241m.\u001b[39mindex, \u001b[38;5;28mself\u001b[39m\u001b[38;5;241m.\u001b[39mvalues):\n\u001b[0;32m-> 1324\u001b[0m     s \u001b[38;5;241m=\u001b[39m \u001b[43mklass\u001b[49m\u001b[43m(\u001b[49m\u001b[43mv\u001b[49m\u001b[43m,\u001b[49m\u001b[43m \u001b[49m\u001b[43mindex\u001b[49m\u001b[38;5;241;43m=\u001b[39;49m\u001b[43mcolumns\u001b[49m\u001b[43m,\u001b[49m\u001b[43m \u001b[49m\u001b[43mname\u001b[49m\u001b[38;5;241;43m=\u001b[39;49m\u001b[43mk\u001b[49m\u001b[43m)\u001b[49m\n\u001b[1;32m   1325\u001b[0m     \u001b[38;5;28;01myield\u001b[39;00m k, s\n",
      "File \u001b[0;32m~/opt/anaconda3/lib/python3.9/site-packages/pandas/core/series.py:460\u001b[0m, in \u001b[0;36mSeries.__init__\u001b[0;34m(self, data, index, dtype, name, copy, fastpath)\u001b[0m\n\u001b[1;32m    457\u001b[0m             data \u001b[38;5;241m=\u001b[39m SingleArrayManager\u001b[38;5;241m.\u001b[39mfrom_array(data, index)\n\u001b[1;32m    459\u001b[0m NDFrame\u001b[38;5;241m.\u001b[39m\u001b[38;5;21m__init__\u001b[39m(\u001b[38;5;28mself\u001b[39m, data)\n\u001b[0;32m--> 460\u001b[0m \u001b[38;5;28mself\u001b[39m\u001b[38;5;241m.\u001b[39mname \u001b[38;5;241m=\u001b[39m name\n\u001b[1;32m    461\u001b[0m \u001b[38;5;28mself\u001b[39m\u001b[38;5;241m.\u001b[39m_set_axis(\u001b[38;5;241m0\u001b[39m, index, fastpath\u001b[38;5;241m=\u001b[39m\u001b[38;5;28;01mTrue\u001b[39;00m)\n",
      "File \u001b[0;32m~/opt/anaconda3/lib/python3.9/site-packages/pandas/core/generic.py:5586\u001b[0m, in \u001b[0;36mNDFrame.__setattr__\u001b[0;34m(self, name, value)\u001b[0m\n\u001b[1;32m   5578\u001b[0m \u001b[38;5;124;03m\"\"\"\u001b[39;00m\n\u001b[1;32m   5579\u001b[0m \u001b[38;5;124;03mAfter regular attribute access, try setting the name\u001b[39;00m\n\u001b[1;32m   5580\u001b[0m \u001b[38;5;124;03mThis allows simpler access to columns for interactive use.\u001b[39;00m\n\u001b[1;32m   5581\u001b[0m \u001b[38;5;124;03m\"\"\"\u001b[39;00m\n\u001b[1;32m   5582\u001b[0m \u001b[38;5;66;03m# first try regular attribute access via __getattribute__, so that\u001b[39;00m\n\u001b[1;32m   5583\u001b[0m \u001b[38;5;66;03m# e.g. ``obj.x`` and ``obj.x = 4`` will always reference/modify\u001b[39;00m\n\u001b[1;32m   5584\u001b[0m \u001b[38;5;66;03m# the same attribute.\u001b[39;00m\n\u001b[0;32m-> 5586\u001b[0m \u001b[38;5;28;01mtry\u001b[39;00m:\n\u001b[1;32m   5587\u001b[0m     \u001b[38;5;28mobject\u001b[39m\u001b[38;5;241m.\u001b[39m\u001b[38;5;21m__getattribute__\u001b[39m(\u001b[38;5;28mself\u001b[39m, name)\n\u001b[1;32m   5588\u001b[0m     \u001b[38;5;28;01mreturn\u001b[39;00m \u001b[38;5;28mobject\u001b[39m\u001b[38;5;241m.\u001b[39m\u001b[38;5;21m__setattr__\u001b[39m(\u001b[38;5;28mself\u001b[39m, name, value)\n",
      "\u001b[0;31mKeyboardInterrupt\u001b[0m: "
     ]
    }
   ],
   "source": [
    "# Loop through each program in the 'mcmf' dataset\n",
    "for index, program in mcmf.iterrows():\n",
    "\n",
    "    # Initialize the minimum distance and nearest bus stop to None\n",
    "    min_distance = None\n",
    "    nearest_bus_stop = None\n",
    "\n",
    "    # Loop through each bus stop in the 'bus' dataset\n",
    "    for _, bus_stop in bus.iterrows():\n",
    "\n",
    "        # Calculate the distance between the program and the bus stop using the Haversine formula\n",
    "        distance = haversine((program['latitude'], program['longitude']), (bus_stop['latitude'], bus_stop['longitude']), unit=Unit.MILES)\n",
    "\n",
    "        # If the minimum distance is None or the current distance is less than the minimum distance, update the minimum distance and nearest bus stop\n",
    "        if min_distance is None or distance < min_distance:\n",
    "            min_distance = distance\n",
    "            nearest_bus_stop = bus_stop\n",
    "\n",
    "    # Set the distance to the nearest bus stop for the current program in the 'mcmf' dataset\n",
    "    mcmf.at[index, 'distance_to_bus_stop'] = min_distance"
   ]
  }
 ],
 "metadata": {
  "kernelspec": {
   "display_name": "Python 3 (ipykernel)",
   "language": "python",
   "name": "python3"
  },
  "language_info": {
   "codemirror_mode": {
    "name": "ipython",
    "version": 3
   },
   "file_extension": ".py",
   "mimetype": "text/x-python",
   "name": "python",
   "nbconvert_exporter": "python",
   "pygments_lexer": "ipython3",
   "version": "3.9.12"
  }
 },
 "nbformat": 4,
 "nbformat_minor": 5
}
