{
 "cells": [
  {
   "cell_type": "code",
   "execution_count": null,
   "id": "538c1ed8",
   "metadata": {},
   "outputs": [],
   "source": []
  },
  {
   "cell_type": "markdown",
   "id": "dbfe9378",
   "metadata": {},
   "source": [
    "# ORIGINAL SOURCE CODE"
   ]
  },
  {
   "cell_type": "markdown",
   "id": "dbbce746",
   "metadata": {},
   "source": [
    "Link in case you want to see from where it's from: https://discourse.bokeh.org/t/is-there-an-example-on-how-to-use-lod-on-patches/5757/2"
   ]
  },
  {
   "cell_type": "markdown",
   "id": "96d94089",
   "metadata": {},
   "source": [
    "Also note that the models can throw and error if you rerun them : Models must be owned by only a single document, GeoJSONDataSource(id='p1271', ...) is already in a doc\n",
    "\n",
    "To fix, just restart the kernel and run the code again"
   ]
  },
  {
   "cell_type": "code",
   "execution_count": 2,
   "id": "508383ea",
   "metadata": {},
   "outputs": [],
   "source": [
    "import geopandas as gpd\n",
    "from bokeh.io import show, output_file\n",
    "from bokeh.plotting import figure\n",
    "from bokeh.models import HoverTool\n",
    "from bokeh.palettes import PRGn, RdYlGn\n",
    "from bokeh.models import GeoJSONDataSource, LinearColorMapper, ColorBar, NumeralTickFormatter, BasicTicker\n",
    "\n",
    "GeoData= gpd.read_file(\"test.geojson\")\n",
    "geosource = GeoJSONDataSource(geojson = GeoData.to_json())\n",
    "\n",
    "TOOLTIPS = [\n",
    "    (\"Value\", \"@Range\")\n",
    "    ]\n",
    "tools = 'wheel_zoom,pan,reset'\n",
    "\n",
    "palette = PRGn[11]\n",
    "\n",
    "color_mapper = LinearColorMapper(palette = palette, low = GeoData['Range'].min(), high = GeoData['Range'].max())\n",
    "\n",
    "p = figure(title = \"Test\", width=800, \n",
    "           height=870, toolbar_location='right', tooltips=TOOLTIPS, tools=tools,\n",
    "          x_axis_type=\"mercator\", y_axis_type=\"mercator\")\n",
    "p.add_tile(Vendors.OSM)\n",
    "p.patches('xs','ys', source = geosource,fill_color = {'field' :'Range', 'transform' : color_mapper},\n",
    "          line_color = 'black', line_width = 0.25, fill_alpha = 1)\n",
    "\n",
    "\n",
    "color_bar = ColorBar(color_mapper=color_mapper,  ticker= BasicTicker(),\n",
    "formatter = NumeralTickFormatter(format='0.0[0000]'), \n",
    "label_standoff = 20, width=8, location=(0,0), padding = 5, title = \"Price\", major_tick_line_color = \"black\",major_tick_out = 8, major_label_text_font_size = \"15px\")\n",
    "# Set color_bar location\n",
    "p.add_layout(color_bar, 'right')\n",
    "\n",
    "#p.lod_factor=8\n",
    "#p.lod_interval=20\n",
    "#p.lod_threshold=5\n",
    "#p.lod_timeout=2\n",
    "\n",
    "show(p)"
   ]
  },
  {
   "cell_type": "code",
   "execution_count": 9,
   "id": "2d9f5a55",
   "metadata": {},
   "outputs": [
    {
     "data": {
      "text/plain": [
       "Range          int64\n",
       "geometry    geometry\n",
       "dtype: object"
      ]
     },
     "execution_count": 9,
     "metadata": {},
     "output_type": "execute_result"
    }
   ],
   "source": [
    "GeoData.dtypes"
   ]
  },
  {
   "cell_type": "code",
   "execution_count": 11,
   "id": "6e066b54",
   "metadata": {},
   "outputs": [
    {
     "data": {
      "text/plain": [
       "community                    object\n",
       "NID                           int64\n",
       "POP2010                       int64\n",
       "POP2000                       int64\n",
       "POPCH                         int64\n",
       "POPPERCH                    float64\n",
       "popplus                       int64\n",
       "popneg                        int64\n",
       "geometry                   geometry\n",
       "geographic_cluster_name      object\n",
       "km_to_bus_stop              float64\n",
       "dtype: object"
      ]
     },
     "execution_count": 11,
     "metadata": {},
     "output_type": "execute_result"
    }
   ],
   "source": [
    "chicago_df.dtypes"
   ]
  },
  {
   "cell_type": "markdown",
   "id": "ce616781",
   "metadata": {},
   "source": [
    "# CHANGE INTO MY CODE"
   ]
  },
  {
   "cell_type": "code",
   "execution_count": 3,
   "id": "7950ce45",
   "metadata": {},
   "outputs": [],
   "source": [
    "import json\n",
    "from bokeh.io import show\n",
    "from bokeh.models import (CDSView, ColorBar, ColumnDataSource,\n",
    "                          CustomJS, CustomJSFilter, \n",
    "                          GeoJSONDataSource, HoverTool,\n",
    "                          LinearColorMapper, Slider)\n",
    "from bokeh.layouts import column, row\n",
    "from bokeh.palettes import brewer\n",
    "from bokeh.plotting import figure\n",
    "\n",
    "from bokeh.io import output_notebook, show, output_file\n",
    "from bokeh.plotting import figure, ColumnDataSource\n",
    "from bokeh.tile_providers import get_provider, Vendors\n",
    "from bokeh.palettes import PRGn, RdYlGn\n",
    "from bokeh.transform import linear_cmap,factor_cmap\n",
    "from bokeh.layouts import row, column\n",
    "from bokeh.models import GeoJSONDataSource, LinearColorMapper, ColorBar, NumeralTickFormatter, BasicTicker\n",
    "import numpy as np\n",
    "import pandas as pd\n",
    "import geopandas as gpd\n",
    "import geodatasets\n",
    "from bokeh.io import show, output_notebook, output_file\n",
    "from bokeh.models import (\n",
    "    GeoJSONDataSource,\n",
    "    HoverTool,\n",
    "    LinearColorMapper\n",
    ")\n",
    "from bokeh.plotting import figure\n",
    "from bokeh.palettes import Viridis6\n",
    "from bokeh.models import ColumnDataSource, Grid, LinearAxis, MultiPolygons, Plot"
   ]
  },
  {
   "cell_type": "code",
   "execution_count": 5,
   "id": "e85b432f",
   "metadata": {},
   "outputs": [
    {
     "name": "stderr",
     "output_type": "stream",
     "text": [
      "/var/folders/3v/6br22y3x30q_cgj59k5b387w0000gn/T/ipykernel_46290/3730479445.py:1: DtypeWarning: Columns (14,28,37,38) have mixed types. Specify dtype option on import or set low_memory=False.\n",
      "  data2 = pd.read_csv(\"mcmf.csv\")\n",
      "/var/folders/3v/6br22y3x30q_cgj59k5b387w0000gn/T/ipykernel_46290/3730479445.py:11: FutureWarning: Currently, index_parts defaults to True, but in the future, it will default to False to be consistent with Pandas. Use `index_parts=True` to keep the current behavior and True/False to silence the warning.\n",
      "  testing = chicago_df.explode()\n"
     ]
    }
   ],
   "source": [
    "data2 = pd.read_csv(\"mcmf.csv\")\n",
    "chicago = gpd.read_file(geodatasets.get_path(\"geoda.chicago_commpop\"))\n",
    "chicago['community'] = chicago['community'].apply(str.lower)\n",
    "gdf = gpd.GeoDataFrame(data2, geometry=gpd.points_from_xy(data2.longitude, data2.latitude), crs=\"EPSG:4326\")\n",
    "gdf_grouped = gdf.groupby('geographic_cluster_name')['km_to_bus_stop'].mean().reset_index()\n",
    "gdf_grouped = pd.DataFrame(gdf_grouped)\n",
    "gdf_grouped['geographic_cluster_name'] = gdf_grouped['geographic_cluster_name'].apply(str.lower)\n",
    "gdf_grouped['community'] = gdf_grouped['geographic_cluster_name']\n",
    "chicago_df = pd.merge(chicago, gdf_grouped, on = 'community')\n",
    "chicago_df = chicago_df.drop(columns = [\"NID\", \"POP2010\", \"POP2000\", \"POPCH\", \"POPPERCH\", \"popplus\", \"popneg\", \"geographic_cluster_name\"])\n",
    "testing = chicago_df.explode()\n",
    "\n",
    "\n",
    "# removed unncessary columns to see if that was a problem\n",
    "# this testing dataframe was just to see if I needed to convert the MultiPolygon type column (geometry) into a Polygon type"
   ]
  },
  {
   "cell_type": "code",
   "execution_count": null,
   "id": "df79ce77",
   "metadata": {},
   "outputs": [],
   "source": []
  },
  {
   "cell_type": "code",
   "execution_count": 7,
   "id": "b2729e02",
   "metadata": {},
   "outputs": [],
   "source": [
    "geosource = GeoJSONDataSource(geojson = testing.to_json())\n",
    "\n",
    "# converts dataframe into a json that can be used with bokeh"
   ]
  },
  {
   "cell_type": "code",
   "execution_count": null,
   "id": "24eea760",
   "metadata": {},
   "outputs": [],
   "source": []
  },
  {
   "cell_type": "code",
   "execution_count": 9,
   "id": "01ac3028",
   "metadata": {},
   "outputs": [
    {
     "ename": "RuntimeError",
     "evalue": "Models must be owned by only a single document, GeoJSONDataSource(id='p1271', ...) is already in a doc",
     "output_type": "error",
     "traceback": [
      "\u001b[0;31m---------------------------------------------------------------------------\u001b[0m",
      "\u001b[0;31mRuntimeError\u001b[0m                              Traceback (most recent call last)",
      "Cell \u001b[0;32mIn[9], line 44\u001b[0m\n\u001b[1;32m     37\u001b[0m p\u001b[38;5;241m.\u001b[39madd_layout(color_bar, \u001b[38;5;124m'\u001b[39m\u001b[38;5;124mright\u001b[39m\u001b[38;5;124m'\u001b[39m)\n\u001b[1;32m     39\u001b[0m \u001b[38;5;66;03m#p.lod_factor=8\u001b[39;00m\n\u001b[1;32m     40\u001b[0m \u001b[38;5;66;03m#p.lod_interval=20\u001b[39;00m\n\u001b[1;32m     41\u001b[0m \u001b[38;5;66;03m#p.lod_threshold=5\u001b[39;00m\n\u001b[1;32m     42\u001b[0m \u001b[38;5;66;03m#p.lod_timeout=2\u001b[39;00m\n\u001b[0;32m---> 44\u001b[0m \u001b[43mshow\u001b[49m\u001b[43m(\u001b[49m\u001b[43mp\u001b[49m\u001b[43m)\u001b[49m\n",
      "File \u001b[0;32m~/anaconda3/lib/python3.10/site-packages/bokeh/io/showing.py:143\u001b[0m, in \u001b[0;36mshow\u001b[0;34m(obj, browser, new, notebook_handle, notebook_url, **kwargs)\u001b[0m\n\u001b[1;32m    140\u001b[0m state \u001b[38;5;241m=\u001b[39m curstate()\n\u001b[1;32m    142\u001b[0m \u001b[38;5;28;01mif\u001b[39;00m \u001b[38;5;28misinstance\u001b[39m(obj, UIElement):\n\u001b[0;32m--> 143\u001b[0m     \u001b[38;5;28;01mreturn\u001b[39;00m \u001b[43m_show_with_state\u001b[49m\u001b[43m(\u001b[49m\u001b[43mobj\u001b[49m\u001b[43m,\u001b[49m\u001b[43m \u001b[49m\u001b[43mstate\u001b[49m\u001b[43m,\u001b[49m\u001b[43m \u001b[49m\u001b[43mbrowser\u001b[49m\u001b[43m,\u001b[49m\u001b[43m \u001b[49m\u001b[43mnew\u001b[49m\u001b[43m,\u001b[49m\u001b[43m \u001b[49m\u001b[43mnotebook_handle\u001b[49m\u001b[38;5;241;43m=\u001b[39;49m\u001b[43mnotebook_handle\u001b[49m\u001b[43m)\u001b[49m\n\u001b[1;32m    145\u001b[0m \u001b[38;5;28;01mdef\u001b[39;00m \u001b[38;5;21mis_application\u001b[39m(obj: Any) \u001b[38;5;241m-\u001b[39m\u001b[38;5;241m>\u001b[39m TypeGuard[Application]:\n\u001b[1;32m    146\u001b[0m     \u001b[38;5;28;01mreturn\u001b[39;00m \u001b[38;5;28mgetattr\u001b[39m(obj, \u001b[38;5;124m'\u001b[39m\u001b[38;5;124m_is_a_bokeh_application_class\u001b[39m\u001b[38;5;124m'\u001b[39m, \u001b[38;5;28;01mFalse\u001b[39;00m)\n",
      "File \u001b[0;32m~/anaconda3/lib/python3.10/site-packages/bokeh/io/showing.py:194\u001b[0m, in \u001b[0;36m_show_with_state\u001b[0;34m(obj, state, browser, new, notebook_handle)\u001b[0m\n\u001b[1;32m    191\u001b[0m     shown \u001b[38;5;241m=\u001b[39m \u001b[38;5;28;01mTrue\u001b[39;00m\n\u001b[1;32m    193\u001b[0m \u001b[38;5;28;01mif\u001b[39;00m state\u001b[38;5;241m.\u001b[39mfile \u001b[38;5;129;01mor\u001b[39;00m \u001b[38;5;129;01mnot\u001b[39;00m shown:\n\u001b[0;32m--> 194\u001b[0m     \u001b[43m_show_file_with_state\u001b[49m\u001b[43m(\u001b[49m\u001b[43mobj\u001b[49m\u001b[43m,\u001b[49m\u001b[43m \u001b[49m\u001b[43mstate\u001b[49m\u001b[43m,\u001b[49m\u001b[43m \u001b[49m\u001b[43mnew\u001b[49m\u001b[43m,\u001b[49m\u001b[43m \u001b[49m\u001b[43mcontroller\u001b[49m\u001b[43m)\u001b[49m\n\u001b[1;32m    196\u001b[0m \u001b[38;5;28;01mreturn\u001b[39;00m comms_handle\n",
      "File \u001b[0;32m~/anaconda3/lib/python3.10/site-packages/bokeh/io/showing.py:175\u001b[0m, in \u001b[0;36m_show_file_with_state\u001b[0;34m(obj, state, new, controller)\u001b[0m\n\u001b[1;32m    171\u001b[0m \u001b[38;5;28;01mdef\u001b[39;00m \u001b[38;5;21m_show_file_with_state\u001b[39m(obj: UIElement, state: State, new: BrowserTarget, controller: BrowserLike) \u001b[38;5;241m-\u001b[39m\u001b[38;5;241m>\u001b[39m \u001b[38;5;28;01mNone\u001b[39;00m:\n\u001b[1;32m    172\u001b[0m     \u001b[38;5;124;03m'''\u001b[39;00m\n\u001b[1;32m    173\u001b[0m \n\u001b[1;32m    174\u001b[0m \u001b[38;5;124;03m    '''\u001b[39;00m\n\u001b[0;32m--> 175\u001b[0m     filename \u001b[38;5;241m=\u001b[39m \u001b[43msave\u001b[49m\u001b[43m(\u001b[49m\u001b[43mobj\u001b[49m\u001b[43m,\u001b[49m\u001b[43m \u001b[49m\u001b[43mstate\u001b[49m\u001b[38;5;241;43m=\u001b[39;49m\u001b[43mstate\u001b[49m\u001b[43m)\u001b[49m\n\u001b[1;32m    176\u001b[0m     controller\u001b[38;5;241m.\u001b[39mopen(\u001b[38;5;124m\"\u001b[39m\u001b[38;5;124mfile://\u001b[39m\u001b[38;5;124m\"\u001b[39m \u001b[38;5;241m+\u001b[39m filename, new\u001b[38;5;241m=\u001b[39mNEW_PARAM[new])\n",
      "File \u001b[0;32m~/anaconda3/lib/python3.10/site-packages/bokeh/io/saving.py:98\u001b[0m, in \u001b[0;36msave\u001b[0;34m(obj, filename, resources, title, template, state)\u001b[0m\n\u001b[1;32m     95\u001b[0m theme \u001b[38;5;241m=\u001b[39m state\u001b[38;5;241m.\u001b[39mdocument\u001b[38;5;241m.\u001b[39mtheme\n\u001b[1;32m     97\u001b[0m filename, resources, title \u001b[38;5;241m=\u001b[39m _get_save_args(state, filename, resources, title)\n\u001b[0;32m---> 98\u001b[0m \u001b[43m_save_helper\u001b[49m\u001b[43m(\u001b[49m\u001b[43mobj\u001b[49m\u001b[43m,\u001b[49m\u001b[43m \u001b[49m\u001b[43mfilename\u001b[49m\u001b[43m,\u001b[49m\u001b[43m \u001b[49m\u001b[43mresources\u001b[49m\u001b[43m,\u001b[49m\u001b[43m \u001b[49m\u001b[43mtitle\u001b[49m\u001b[43m,\u001b[49m\u001b[43m \u001b[49m\u001b[43mtemplate\u001b[49m\u001b[43m,\u001b[49m\u001b[43m \u001b[49m\u001b[43mtheme\u001b[49m\u001b[43m)\u001b[49m\n\u001b[1;32m     99\u001b[0m \u001b[38;5;28;01mreturn\u001b[39;00m abspath(expanduser(filename))\n",
      "File \u001b[0;32m~/anaconda3/lib/python3.10/site-packages/bokeh/io/saving.py:164\u001b[0m, in \u001b[0;36m_save_helper\u001b[0;34m(obj, filename, resources, title, template, theme)\u001b[0m\n\u001b[1;32m    160\u001b[0m \u001b[38;5;124;03m'''\u001b[39;00m\n\u001b[1;32m    161\u001b[0m \n\u001b[1;32m    162\u001b[0m \u001b[38;5;124;03m'''\u001b[39;00m\n\u001b[1;32m    163\u001b[0m \u001b[38;5;28;01mfrom\u001b[39;00m \u001b[38;5;21;01m.\u001b[39;00m\u001b[38;5;21;01m.\u001b[39;00m\u001b[38;5;21;01membed\u001b[39;00m \u001b[38;5;28;01mimport\u001b[39;00m file_html\n\u001b[0;32m--> 164\u001b[0m html \u001b[38;5;241m=\u001b[39m \u001b[43mfile_html\u001b[49m\u001b[43m(\u001b[49m\u001b[43mobj\u001b[49m\u001b[43m,\u001b[49m\u001b[43m \u001b[49m\u001b[43mresources\u001b[49m\u001b[43m,\u001b[49m\u001b[43m \u001b[49m\u001b[43mtitle\u001b[49m\u001b[38;5;241;43m=\u001b[39;49m\u001b[43mtitle\u001b[49m\u001b[43m,\u001b[49m\u001b[43m \u001b[49m\u001b[43mtemplate\u001b[49m\u001b[38;5;241;43m=\u001b[39;49m\u001b[43mtemplate\u001b[49m\u001b[43m \u001b[49m\u001b[38;5;129;43;01mor\u001b[39;49;00m\u001b[43m \u001b[49m\u001b[43mFILE\u001b[49m\u001b[43m,\u001b[49m\u001b[43m \u001b[49m\u001b[43mtheme\u001b[49m\u001b[38;5;241;43m=\u001b[39;49m\u001b[43mtheme\u001b[49m\u001b[43m)\u001b[49m\n\u001b[1;32m    166\u001b[0m \u001b[38;5;28;01mwith\u001b[39;00m \u001b[38;5;28mopen\u001b[39m(filename, mode\u001b[38;5;241m=\u001b[39m\u001b[38;5;124m\"\u001b[39m\u001b[38;5;124mw\u001b[39m\u001b[38;5;124m\"\u001b[39m, encoding\u001b[38;5;241m=\u001b[39m\u001b[38;5;124m\"\u001b[39m\u001b[38;5;124mutf-8\u001b[39m\u001b[38;5;124m\"\u001b[39m) \u001b[38;5;28;01mas\u001b[39;00m f:\n\u001b[1;32m    167\u001b[0m     f\u001b[38;5;241m.\u001b[39mwrite(html)\n",
      "File \u001b[0;32m~/anaconda3/lib/python3.10/site-packages/bokeh/embed/standalone.py:356\u001b[0m, in \u001b[0;36mfile_html\u001b[0;34m(models, resources, title, template, template_variables, theme, suppress_callback_warning, _always_new)\u001b[0m\n\u001b[1;32m    353\u001b[0m \u001b[38;5;28;01melse\u001b[39;00m:\n\u001b[1;32m    354\u001b[0m     models_seq \u001b[38;5;241m=\u001b[39m models\n\u001b[0;32m--> 356\u001b[0m \u001b[38;5;28;01mwith\u001b[39;00m OutputDocumentFor(models_seq, apply_theme\u001b[38;5;241m=\u001b[39mtheme, always_new\u001b[38;5;241m=\u001b[39m_always_new) \u001b[38;5;28;01mas\u001b[39;00m doc:\n\u001b[1;32m    357\u001b[0m     (docs_json, render_items) \u001b[38;5;241m=\u001b[39m standalone_docs_json_and_render_items(models_seq, suppress_callback_warning\u001b[38;5;241m=\u001b[39msuppress_callback_warning)\n\u001b[1;32m    358\u001b[0m     title \u001b[38;5;241m=\u001b[39m _title_from_models(models_seq, title)\n",
      "File \u001b[0;32m~/anaconda3/lib/python3.10/contextlib.py:135\u001b[0m, in \u001b[0;36m_GeneratorContextManager.__enter__\u001b[0;34m(self)\u001b[0m\n\u001b[1;32m    133\u001b[0m \u001b[38;5;28;01mdel\u001b[39;00m \u001b[38;5;28mself\u001b[39m\u001b[38;5;241m.\u001b[39margs, \u001b[38;5;28mself\u001b[39m\u001b[38;5;241m.\u001b[39mkwds, \u001b[38;5;28mself\u001b[39m\u001b[38;5;241m.\u001b[39mfunc\n\u001b[1;32m    134\u001b[0m \u001b[38;5;28;01mtry\u001b[39;00m:\n\u001b[0;32m--> 135\u001b[0m     \u001b[38;5;28;01mreturn\u001b[39;00m \u001b[38;5;28;43mnext\u001b[39;49m\u001b[43m(\u001b[49m\u001b[38;5;28;43mself\u001b[39;49m\u001b[38;5;241;43m.\u001b[39;49m\u001b[43mgen\u001b[49m\u001b[43m)\u001b[49m\n\u001b[1;32m    136\u001b[0m \u001b[38;5;28;01mexcept\u001b[39;00m \u001b[38;5;167;01mStopIteration\u001b[39;00m:\n\u001b[1;32m    137\u001b[0m     \u001b[38;5;28;01mraise\u001b[39;00m \u001b[38;5;167;01mRuntimeError\u001b[39;00m(\u001b[38;5;124m\"\u001b[39m\u001b[38;5;124mgenerator didn\u001b[39m\u001b[38;5;124m'\u001b[39m\u001b[38;5;124mt yield\u001b[39m\u001b[38;5;124m\"\u001b[39m) \u001b[38;5;28;01mfrom\u001b[39;00m \u001b[38;5;28mNone\u001b[39m\n",
      "File \u001b[0;32m~/anaconda3/lib/python3.10/site-packages/bokeh/embed/util.py:150\u001b[0m, in \u001b[0;36mOutputDocumentFor\u001b[0;34m(objs, apply_theme, always_new)\u001b[0m\n\u001b[1;32m    148\u001b[0m     doc \u001b[38;5;241m=\u001b[39m _new_doc()\n\u001b[1;32m    149\u001b[0m     \u001b[38;5;28;01mfor\u001b[39;00m model \u001b[38;5;129;01min\u001b[39;00m objs:\n\u001b[0;32m--> 150\u001b[0m         \u001b[43mdoc\u001b[49m\u001b[38;5;241;43m.\u001b[39;49m\u001b[43madd_root\u001b[49m\u001b[43m(\u001b[49m\u001b[43mmodel\u001b[49m\u001b[43m)\u001b[49m\n\u001b[1;32m    152\u001b[0m \u001b[38;5;66;03m# handle a single shared document\u001b[39;00m\n\u001b[1;32m    153\u001b[0m \u001b[38;5;28;01melif\u001b[39;00m \u001b[38;5;28mlen\u001b[39m(docs) \u001b[38;5;241m==\u001b[39m \u001b[38;5;241m1\u001b[39m:\n",
      "File \u001b[0;32m~/anaconda3/lib/python3.10/site-packages/bokeh/document/document.py:318\u001b[0m, in \u001b[0;36mDocument.add_root\u001b[0;34m(self, model, setter)\u001b[0m\n\u001b[1;32m    315\u001b[0m \u001b[38;5;28;01mif\u001b[39;00m model \u001b[38;5;129;01min\u001b[39;00m \u001b[38;5;28mself\u001b[39m\u001b[38;5;241m.\u001b[39m_roots:\n\u001b[1;32m    316\u001b[0m     \u001b[38;5;28;01mreturn\u001b[39;00m\n\u001b[0;32m--> 318\u001b[0m \u001b[38;5;28;01mwith\u001b[39;00m \u001b[38;5;28mself\u001b[39m\u001b[38;5;241m.\u001b[39mmodels\u001b[38;5;241m.\u001b[39mfreeze():\n\u001b[1;32m    319\u001b[0m     \u001b[38;5;28mself\u001b[39m\u001b[38;5;241m.\u001b[39m_roots\u001b[38;5;241m.\u001b[39mappend(model)\n\u001b[1;32m    321\u001b[0m \u001b[38;5;28mself\u001b[39m\u001b[38;5;241m.\u001b[39mcallbacks\u001b[38;5;241m.\u001b[39mtrigger_on_change(RootAddedEvent(\u001b[38;5;28mself\u001b[39m, model, setter))\n",
      "File \u001b[0;32m~/anaconda3/lib/python3.10/contextlib.py:142\u001b[0m, in \u001b[0;36m_GeneratorContextManager.__exit__\u001b[0;34m(self, typ, value, traceback)\u001b[0m\n\u001b[1;32m    140\u001b[0m \u001b[38;5;28;01mif\u001b[39;00m typ \u001b[38;5;129;01mis\u001b[39;00m \u001b[38;5;28;01mNone\u001b[39;00m:\n\u001b[1;32m    141\u001b[0m     \u001b[38;5;28;01mtry\u001b[39;00m:\n\u001b[0;32m--> 142\u001b[0m         \u001b[38;5;28;43mnext\u001b[39;49m\u001b[43m(\u001b[49m\u001b[38;5;28;43mself\u001b[39;49m\u001b[38;5;241;43m.\u001b[39;49m\u001b[43mgen\u001b[49m\u001b[43m)\u001b[49m\n\u001b[1;32m    143\u001b[0m     \u001b[38;5;28;01mexcept\u001b[39;00m \u001b[38;5;167;01mStopIteration\u001b[39;00m:\n\u001b[1;32m    144\u001b[0m         \u001b[38;5;28;01mreturn\u001b[39;00m \u001b[38;5;28;01mFalse\u001b[39;00m\n",
      "File \u001b[0;32m~/anaconda3/lib/python3.10/site-packages/bokeh/document/models.py:135\u001b[0m, in \u001b[0;36mDocumentModelManager.freeze\u001b[0;34m(self)\u001b[0m\n\u001b[1;32m    133\u001b[0m \u001b[38;5;28mself\u001b[39m\u001b[38;5;241m.\u001b[39m_push_freeze()\n\u001b[1;32m    134\u001b[0m \u001b[38;5;28;01myield\u001b[39;00m\n\u001b[0;32m--> 135\u001b[0m \u001b[38;5;28;43mself\u001b[39;49m\u001b[38;5;241;43m.\u001b[39;49m\u001b[43m_pop_freeze\u001b[49m\u001b[43m(\u001b[49m\u001b[43m)\u001b[49m\n",
      "File \u001b[0;32m~/anaconda3/lib/python3.10/site-packages/bokeh/document/models.py:288\u001b[0m, in \u001b[0;36mDocumentModelManager._pop_freeze\u001b[0;34m(self)\u001b[0m\n\u001b[1;32m    286\u001b[0m \u001b[38;5;28mself\u001b[39m\u001b[38;5;241m.\u001b[39m_freeze_count \u001b[38;5;241m-\u001b[39m\u001b[38;5;241m=\u001b[39m \u001b[38;5;241m1\u001b[39m\n\u001b[1;32m    287\u001b[0m \u001b[38;5;28;01mif\u001b[39;00m \u001b[38;5;28mself\u001b[39m\u001b[38;5;241m.\u001b[39m_freeze_count \u001b[38;5;241m==\u001b[39m \u001b[38;5;241m0\u001b[39m:\n\u001b[0;32m--> 288\u001b[0m     \u001b[38;5;28;43mself\u001b[39;49m\u001b[38;5;241;43m.\u001b[39;49m\u001b[43mrecompute\u001b[49m\u001b[43m(\u001b[49m\u001b[43m)\u001b[49m\n",
      "File \u001b[0;32m~/anaconda3/lib/python3.10/site-packages/bokeh/document/models.py:235\u001b[0m, in \u001b[0;36mDocumentModelManager.recompute\u001b[0;34m(self)\u001b[0m\n\u001b[1;32m    232\u001b[0m     md\u001b[38;5;241m.\u001b[39m_detach_document()\n\u001b[1;32m    234\u001b[0m \u001b[38;5;28;01mfor\u001b[39;00m ma \u001b[38;5;129;01min\u001b[39;00m to_attach:\n\u001b[0;32m--> 235\u001b[0m     \u001b[43mma\u001b[49m\u001b[38;5;241;43m.\u001b[39;49m\u001b[43m_attach_document\u001b[49m\u001b[43m(\u001b[49m\u001b[43mdocument\u001b[49m\u001b[43m)\u001b[49m\n\u001b[1;32m    236\u001b[0m     \u001b[38;5;28mself\u001b[39m\u001b[38;5;241m.\u001b[39m_new_models\u001b[38;5;241m.\u001b[39madd(ma)\n\u001b[1;32m    238\u001b[0m \u001b[38;5;28mself\u001b[39m\u001b[38;5;241m.\u001b[39m_models \u001b[38;5;241m=\u001b[39m recomputed\n",
      "File \u001b[0;32m~/anaconda3/lib/python3.10/site-packages/bokeh/model/model.py:575\u001b[0m, in \u001b[0;36mModel._attach_document\u001b[0;34m(self, doc)\u001b[0m\n\u001b[1;32m    572\u001b[0m     \u001b[38;5;28;01mreturn\u001b[39;00m\n\u001b[1;32m    574\u001b[0m \u001b[38;5;28;01mif\u001b[39;00m \u001b[38;5;28mself\u001b[39m\u001b[38;5;241m.\u001b[39mdocument \u001b[38;5;129;01mis\u001b[39;00m \u001b[38;5;129;01mnot\u001b[39;00m \u001b[38;5;28;01mNone\u001b[39;00m:\n\u001b[0;32m--> 575\u001b[0m     \u001b[38;5;28;01mraise\u001b[39;00m \u001b[38;5;167;01mRuntimeError\u001b[39;00m(\u001b[38;5;124mf\u001b[39m\u001b[38;5;124m\"\u001b[39m\u001b[38;5;124mModels must be owned by only a single document, \u001b[39m\u001b[38;5;132;01m{\u001b[39;00m\u001b[38;5;28mself\u001b[39m\u001b[38;5;132;01m!r}\u001b[39;00m\u001b[38;5;124m is already in a doc\u001b[39m\u001b[38;5;124m\"\u001b[39m)\n\u001b[1;32m    577\u001b[0m doc\u001b[38;5;241m.\u001b[39mtheme\u001b[38;5;241m.\u001b[39mapply_to_model(\u001b[38;5;28mself\u001b[39m)\n\u001b[1;32m    578\u001b[0m \u001b[38;5;28mself\u001b[39m\u001b[38;5;241m.\u001b[39mdocument \u001b[38;5;241m=\u001b[39m doc\n",
      "\u001b[0;31mRuntimeError\u001b[0m: Models must be owned by only a single document, GeoJSONDataSource(id='p1271', ...) is already in a doc"
     ]
    }
   ],
   "source": [
    "import geopandas as gpd\n",
    "from bokeh.io import show, output_file\n",
    "from bokeh.plotting import figure\n",
    "from bokeh.models import HoverTool\n",
    "from bokeh.palettes import PRGn, RdYlGn\n",
    "from bokeh.models import GeoJSONDataSource, LinearColorMapper, ColorBar, NumeralTickFormatter, BasicTicker\n",
    "\n",
    "\n",
    "TOOLTIPS = [\n",
    "    (\"Community\", \"@community\"),\n",
    "    (\"Km to Bus Stop\", \"@km_to_bus_stop\")\n",
    "    ]\n",
    "tools = 'wheel_zoom,pan,reset'\n",
    "\n",
    "palette = PRGn[11]\n",
    "\n",
    "color_mapper = LinearColorMapper(palette = palette, low = chicago_df['km_to_bus_stop'].min(), high = chicago_df['km_to_bus_stop'].max())\n",
    "\n",
    "p = figure(title = \"Test\", width=800, \n",
    "           height=870, toolbar_location='right', tooltips=TOOLTIPS, tools=tools,\n",
    "          x_axis_type=\"mercator\", y_axis_type=\"mercator\")\n",
    "p.add_tile(Vendors.OSM)\n",
    "\n",
    "# This Vendors.OSM is the Open Street Map tile that basically puts the OSM map over the figure --> this is what's \n",
    "# not working on this code but works on the other one\n",
    "\n",
    "p.patches('xs','ys', source = geosource,fill_color = {'field' :'km_to_bus_stop', 'transform' : color_mapper},\n",
    "          line_color = 'black', line_width = 0.25, fill_alpha = 1)\n",
    "# the p.patches is how you include the chicago clusters into the figure\n",
    "\n",
    "\n",
    "\n",
    "color_bar = ColorBar(color_mapper=color_mapper,  ticker= BasicTicker(),\n",
    "formatter = NumeralTickFormatter(format='0.0[0000]'), \n",
    "label_standoff = 20, width=8, location=(0,0), padding = 5, title = \"Price\", major_tick_line_color = \"black\",major_tick_out = 8, major_label_text_font_size = \"15px\")\n",
    "# Set color_bar location\n",
    "p.add_layout(color_bar, 'right')\n",
    "\n",
    "#p.lod_factor=8\n",
    "#p.lod_interval=20\n",
    "#p.lod_threshold=5\n",
    "#p.lod_timeout=2\n",
    "\n",
    "show(p)"
   ]
  },
  {
   "cell_type": "code",
   "execution_count": null,
   "id": "63115772",
   "metadata": {},
   "outputs": [],
   "source": []
  },
  {
   "cell_type": "code",
   "execution_count": null,
   "id": "5b3e8e8f",
   "metadata": {},
   "outputs": [],
   "source": []
  }
 ],
 "metadata": {
  "kernelspec": {
   "display_name": "Python 3 (ipykernel)",
   "language": "python",
   "name": "python3"
  },
  "language_info": {
   "codemirror_mode": {
    "name": "ipython",
    "version": 3
   },
   "file_extension": ".py",
   "mimetype": "text/x-python",
   "name": "python",
   "nbconvert_exporter": "python",
   "pygments_lexer": "ipython3",
   "version": "3.10.10"
  }
 },
 "nbformat": 4,
 "nbformat_minor": 5
}
