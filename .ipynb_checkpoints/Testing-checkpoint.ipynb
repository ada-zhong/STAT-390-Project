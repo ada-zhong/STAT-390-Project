{
 "cells": [
  {
   "cell_type": "code",
   "execution_count": null,
   "id": "f89ce02e",
   "metadata": {},
   "outputs": [],
   "source": [
    "# notebook for reading and exploring the data"
   ]
  },
  {
   "cell_type": "code",
   "execution_count": 1,
   "id": "f40d28c8",
   "metadata": {},
   "outputs": [],
   "source": [
    "import pandas as pd\n",
    "import numpy as np\n",
    "import matplotlib.pyplot as plt\n",
    "import seaborn as sns"
   ]
  },
  {
   "cell_type": "code",
   "execution_count": 2,
   "id": "60c8f692",
   "metadata": {},
   "outputs": [
    {
     "name": "stdout",
     "output_type": "stream",
     "text": [
      "testing initial commit (uploading .ipynb file)\n"
     ]
    }
   ],
   "source": [
    "print(\"testing initial commit (uploading .ipynb file)\")"
   ]
  },
  {
   "cell_type": "code",
   "execution_count": 4,
   "id": "6dd72f9c",
   "metadata": {},
   "outputs": [
    {
     "name": "stdout",
     "output_type": "stream",
     "text": [
      "Hello GitHub\n"
     ]
    }
   ],
   "source": [
    "print(\"Hello GitHub\")"
   ]
  },
  {
   "cell_type": "code",
   "execution_count": null,
   "id": "0f2e6801",
   "metadata": {},
   "outputs": [],
   "source": []
  }
 ],
 "metadata": {
  "kernelspec": {
   "display_name": "Python 3",
   "language": "python",
   "name": "python3"
  },
  "language_info": {
   "codemirror_mode": {
    "name": "ipython",
    "version": 3
   },
   "file_extension": ".py",
   "mimetype": "text/x-python",
   "name": "python",
   "nbconvert_exporter": "python",
   "pygments_lexer": "ipython3",
   "version": "3.8.8"
  }
 },
 "nbformat": 4,
 "nbformat_minor": 5
}
