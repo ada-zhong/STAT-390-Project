{
 "cells": [
  {
   "cell_type": "code",
   "execution_count": null,
   "id": "f89ce02e",
   "metadata": {},
   "outputs": [],
   "source": [
    "# notebook for reading and exploring the data"
   ]
  },
  {
   "cell_type": "code",
   "execution_count": 2,
   "id": "f40d28c8",
   "metadata": {},
   "outputs": [],
   "source": [
    "import pandas as pd\n",
    "import numpy as np\n",
    "import matplotlib.pyplot as plt\n",
    "import seaborn as sns"
   ]
  },
  {
   "cell_type": "code",
   "execution_count": 6,
   "id": "e85148fb",
   "metadata": {},
   "outputs": [
    {
     "name": "stderr",
     "output_type": "stream",
     "text": [
      "/var/folders/tx/ccgvwwd562sfhw5ybj094vxc0000gn/T/ipykernel_40956/2399304131.py:1: DtypeWarning: Columns (14,28,37,38) have mixed types. Specify dtype option on import or set low_memory=False.\n",
      "  data = pd.read_csv('convert_MCMF_ALL_TIME_DATA.csv', sep='\\t')\n"
     ]
    },
    {
     "data": {
      "text/html": [
       "<div>\n",
       "<style scoped>\n",
       "    .dataframe tbody tr th:only-of-type {\n",
       "        vertical-align: middle;\n",
       "    }\n",
       "\n",
       "    .dataframe tbody tr th {\n",
       "        vertical-align: top;\n",
       "    }\n",
       "\n",
       "    .dataframe thead th {\n",
       "        text-align: right;\n",
       "    }\n",
       "</style>\n",
       "<table border=\"1\" class=\"dataframe\">\n",
       "  <thead>\n",
       "    <tr style=\"text-align: right;\">\n",
       "      <th></th>\n",
       "      <th>IndexRow</th>\n",
       "      <th>Id</th>\n",
       "      <th>Logo Url</th>\n",
       "      <th>Program Name</th>\n",
       "      <th>Description</th>\n",
       "      <th>Org Name</th>\n",
       "      <th>Category Name</th>\n",
       "      <th>Capacity</th>\n",
       "      <th>Min Age</th>\n",
       "      <th>Max Age</th>\n",
       "      <th>...</th>\n",
       "      <th>Contact Email</th>\n",
       "      <th>Contact Phone</th>\n",
       "      <th>Program Price</th>\n",
       "      <th>Geographic Cluster Name</th>\n",
       "      <th>Program Pays Participants</th>\n",
       "      <th>Program Has Scholarships</th>\n",
       "      <th>Program Provides Transportation</th>\n",
       "      <th>Latitude</th>\n",
       "      <th>Longitude</th>\n",
       "      <th>Program Provides Free Food</th>\n",
       "    </tr>\n",
       "  </thead>\n",
       "  <tbody>\n",
       "    <tr>\n",
       "      <th>0</th>\n",
       "      <td>4,568</td>\n",
       "      <td>78752</td>\n",
       "      <td>NaN</td>\n",
       "      <td>BBBS Community Based Mentoring (Year Round)</td>\n",
       "      <td>Community Based Mentoring is the traditional B...</td>\n",
       "      <td>Big Brothers Big Sisters</td>\n",
       "      <td>Academic Support</td>\n",
       "      <td>2000.0</td>\n",
       "      <td>7</td>\n",
       "      <td>15</td>\n",
       "      <td>...</td>\n",
       "      <td>recruitment@bbbschgo.org</td>\n",
       "      <td>NaN</td>\n",
       "      <td>Free</td>\n",
       "      <td>NEAR WEST SIDE</td>\n",
       "      <td>Not Paid</td>\n",
       "      <td>YES</td>\n",
       "      <td>YES</td>\n",
       "      <td>41.886002</td>\n",
       "      <td>-87.642403</td>\n",
       "      <td>False</td>\n",
       "    </tr>\n",
       "    <tr>\n",
       "      <th>1</th>\n",
       "      <td>4,569</td>\n",
       "      <td>78752</td>\n",
       "      <td>NaN</td>\n",
       "      <td>BBBS Community Based Mentoring (Year Round)</td>\n",
       "      <td>Community Based Mentoring is the traditional B...</td>\n",
       "      <td>Big Brothers Big Sisters</td>\n",
       "      <td>Work + Career</td>\n",
       "      <td>2000.0</td>\n",
       "      <td>7</td>\n",
       "      <td>15</td>\n",
       "      <td>...</td>\n",
       "      <td>recruitment@bbbschgo.org</td>\n",
       "      <td>NaN</td>\n",
       "      <td>Free</td>\n",
       "      <td>NEAR WEST SIDE</td>\n",
       "      <td>Not Paid</td>\n",
       "      <td>YES</td>\n",
       "      <td>YES</td>\n",
       "      <td>41.886002</td>\n",
       "      <td>-87.642403</td>\n",
       "      <td>False</td>\n",
       "    </tr>\n",
       "    <tr>\n",
       "      <th>2</th>\n",
       "      <td>4,562</td>\n",
       "      <td>78749</td>\n",
       "      <td>https://cityoflearning-uploads.s3.amazonaws.co...</td>\n",
       "      <td>Youth Mentoring and Academic Supports</td>\n",
       "      <td>Young Men's Educational Network provides mento...</td>\n",
       "      <td>Youth Mentoring and Academic Supports</td>\n",
       "      <td>Academic Support</td>\n",
       "      <td>100.0</td>\n",
       "      <td>12</td>\n",
       "      <td>18</td>\n",
       "      <td>...</td>\n",
       "      <td>wchatman@ymenchicago.com</td>\n",
       "      <td>NaN</td>\n",
       "      <td>Free</td>\n",
       "      <td>NORTH LAWNDALE</td>\n",
       "      <td>Not Paid</td>\n",
       "      <td>NO</td>\n",
       "      <td>NO</td>\n",
       "      <td>41.864799</td>\n",
       "      <td>-87.724800</td>\n",
       "      <td>True</td>\n",
       "    </tr>\n",
       "    <tr>\n",
       "      <th>3</th>\n",
       "      <td>4,563</td>\n",
       "      <td>78749</td>\n",
       "      <td>https://cityoflearning-uploads.s3.amazonaws.co...</td>\n",
       "      <td>Youth Mentoring and Academic Supports</td>\n",
       "      <td>Young Men's Educational Network provides mento...</td>\n",
       "      <td>Youth Mentoring and Academic Supports</td>\n",
       "      <td>Music &amp; Art.</td>\n",
       "      <td>100.0</td>\n",
       "      <td>12</td>\n",
       "      <td>18</td>\n",
       "      <td>...</td>\n",
       "      <td>wchatman@ymenchicago.com</td>\n",
       "      <td>NaN</td>\n",
       "      <td>Free</td>\n",
       "      <td>NORTH LAWNDALE</td>\n",
       "      <td>Not Paid</td>\n",
       "      <td>NO</td>\n",
       "      <td>NO</td>\n",
       "      <td>41.864799</td>\n",
       "      <td>-87.724800</td>\n",
       "      <td>True</td>\n",
       "    </tr>\n",
       "    <tr>\n",
       "      <th>4</th>\n",
       "      <td>4,557</td>\n",
       "      <td>78746</td>\n",
       "      <td>https://cityoflearning-uploads.s3.amazonaws.co...</td>\n",
       "      <td>Refugee Youth Career Pathways</td>\n",
       "      <td>Refugee Youth Career Pathways (RYCP) provides ...</td>\n",
       "      <td>RefugeeOne</td>\n",
       "      <td>Managing Money.</td>\n",
       "      <td>15.0</td>\n",
       "      <td>16</td>\n",
       "      <td>24</td>\n",
       "      <td>...</td>\n",
       "      <td>NaN</td>\n",
       "      <td>NaN</td>\n",
       "      <td>Free</td>\n",
       "      <td>NaN</td>\n",
       "      <td>Not Paid</td>\n",
       "      <td>YES</td>\n",
       "      <td>YES</td>\n",
       "      <td>NaN</td>\n",
       "      <td>NaN</td>\n",
       "      <td>False</td>\n",
       "    </tr>\n",
       "  </tbody>\n",
       "</table>\n",
       "<p>5 rows × 56 columns</p>\n",
       "</div>"
      ],
      "text/plain": [
       "  IndexRow     Id                                           Logo Url  \\\n",
       "0    4,568  78752                                                NaN   \n",
       "1    4,569  78752                                                NaN   \n",
       "2    4,562  78749  https://cityoflearning-uploads.s3.amazonaws.co...   \n",
       "3    4,563  78749  https://cityoflearning-uploads.s3.amazonaws.co...   \n",
       "4    4,557  78746  https://cityoflearning-uploads.s3.amazonaws.co...   \n",
       "\n",
       "                                  Program Name  \\\n",
       "0  BBBS Community Based Mentoring (Year Round)   \n",
       "1  BBBS Community Based Mentoring (Year Round)   \n",
       "2        Youth Mentoring and Academic Supports   \n",
       "3        Youth Mentoring and Academic Supports   \n",
       "4                Refugee Youth Career Pathways   \n",
       "\n",
       "                                         Description  \\\n",
       "0  Community Based Mentoring is the traditional B...   \n",
       "1  Community Based Mentoring is the traditional B...   \n",
       "2  Young Men's Educational Network provides mento...   \n",
       "3  Young Men's Educational Network provides mento...   \n",
       "4  Refugee Youth Career Pathways (RYCP) provides ...   \n",
       "\n",
       "                                Org Name     Category Name  Capacity  Min Age  \\\n",
       "0               Big Brothers Big Sisters  Academic Support    2000.0        7   \n",
       "1               Big Brothers Big Sisters    Work + Career     2000.0        7   \n",
       "2  Youth Mentoring and Academic Supports  Academic Support     100.0       12   \n",
       "3  Youth Mentoring and Academic Supports      Music & Art.     100.0       12   \n",
       "4                             RefugeeOne   Managing Money.      15.0       16   \n",
       "\n",
       "   Max Age  ...             Contact Email Contact Phone Program Price  \\\n",
       "0       15  ...  recruitment@bbbschgo.org           NaN          Free   \n",
       "1       15  ...  recruitment@bbbschgo.org           NaN          Free   \n",
       "2       18  ...  wchatman@ymenchicago.com           NaN          Free   \n",
       "3       18  ...  wchatman@ymenchicago.com           NaN          Free   \n",
       "4       24  ...                       NaN           NaN          Free   \n",
       "\n",
       "  Geographic Cluster Name Program Pays Participants Program Has Scholarships  \\\n",
       "0          NEAR WEST SIDE                  Not Paid                      YES   \n",
       "1          NEAR WEST SIDE                  Not Paid                      YES   \n",
       "2          NORTH LAWNDALE                  Not Paid                       NO   \n",
       "3          NORTH LAWNDALE                  Not Paid                       NO   \n",
       "4                     NaN                  Not Paid                      YES   \n",
       "\n",
       "  Program Provides Transportation   Latitude  Longitude  \\\n",
       "0                             YES  41.886002 -87.642403   \n",
       "1                             YES  41.886002 -87.642403   \n",
       "2                              NO  41.864799 -87.724800   \n",
       "3                              NO  41.864799 -87.724800   \n",
       "4                             YES        NaN        NaN   \n",
       "\n",
       "  Program Provides Free Food  \n",
       "0                      False  \n",
       "1                      False  \n",
       "2                       True  \n",
       "3                       True  \n",
       "4                      False  \n",
       "\n",
       "[5 rows x 56 columns]"
      ]
     },
     "execution_count": 6,
     "metadata": {},
     "output_type": "execute_result"
    }
   ],
   "source": [
    "data = pd.read_csv('convert_MCMF_ALL_TIME_DATA.csv', sep='\\t')\n",
    "data.head()"
   ]
  },
  {
   "cell_type": "code",
   "execution_count": 7,
   "id": "adf901e1",
   "metadata": {},
   "outputs": [
    {
     "data": {
      "text/plain": [
       "Index(['IndexRow', 'Logo Url', 'Program Name', 'Description', 'Org Name',\n",
       "       'Category Name', 'Meeting Type', 'Address', 'City', 'State', 'Zipcode',\n",
       "       'Online Address', 'Program Url', 'Registration Url',\n",
       "       'Registration Open', 'Registration Deadline', 'Start Date', 'End Date',\n",
       "       'Start Time', 'End Time', 'Scheduled Mon', 'Scheduled Tues',\n",
       "       'Scheduled Fri', 'Scheduled Sat', 'Scheduled Sun', 'Scheduled Thurs',\n",
       "       'Scheduled Wed', 'Fri End Time', 'Fri Start Time', 'Mon End Time',\n",
       "       'Mon Start Time', 'Sat End Time', 'Sat Start Time', 'Sun End Time',\n",
       "       'Sun Start Time', 'Thurs End Time', 'Thurs Start Time', 'Tues End Time',\n",
       "       'Tues Start Time', 'Wed End Time', 'Wed Start Time', 'Contact Name',\n",
       "       'Contact Email', 'Contact Phone', 'Program Price',\n",
       "       'Geographic Cluster Name', 'Program Pays Participants',\n",
       "       'Program Has Scholarships', 'Program Provides Transportation',\n",
       "       'Program Provides Free Food'],\n",
       "      dtype='object')"
      ]
     },
     "execution_count": 7,
     "metadata": {},
     "output_type": "execute_result"
    }
   ],
   "source": [
    "data.select_dtypes(include=['object']).columns"
   ]
  },
  {
   "cell_type": "code",
   "execution_count": 8,
   "id": "c1a4e8b7",
   "metadata": {},
   "outputs": [
    {
     "data": {
      "text/plain": [
       "Index(['Id', 'Capacity', 'Min Age', 'Max Age', 'Latitude', 'Longitude'], dtype='object')"
      ]
     },
     "execution_count": 8,
     "metadata": {},
     "output_type": "execute_result"
    }
   ],
   "source": [
    "data.select_dtypes(exclude=['object']).columns"
   ]
  },
  {
   "cell_type": "code",
   "execution_count": 9,
   "id": "ace7f236",
   "metadata": {},
   "outputs": [
    {
     "data": {
      "text/plain": [
       "array([[<AxesSubplot:title={'center':'Id'}>,\n",
       "        <AxesSubplot:title={'center':'Capacity'}>,\n",
       "        <AxesSubplot:title={'center':'Min Age'}>],\n",
       "       [<AxesSubplot:title={'center':'Max Age'}>,\n",
       "        <AxesSubplot:title={'center':'Latitude'}>,\n",
       "        <AxesSubplot:title={'center':'Longitude'}>],\n",
       "       [<AxesSubplot:>, <AxesSubplot:>, <AxesSubplot:>],\n",
       "       [<AxesSubplot:>, <AxesSubplot:>, <AxesSubplot:>],\n",
       "       [<AxesSubplot:>, <AxesSubplot:>, <AxesSubplot:>],\n",
       "       [<AxesSubplot:>, <AxesSubplot:>, <AxesSubplot:>],\n",
       "       [<AxesSubplot:>, <AxesSubplot:>, <AxesSubplot:>],\n",
       "       [<AxesSubplot:>, <AxesSubplot:>, <AxesSubplot:>],\n",
       "       [<AxesSubplot:>, <AxesSubplot:>, <AxesSubplot:>]], dtype=object)"
      ]
     },
     "execution_count": 9,
     "metadata": {},
     "output_type": "execute_result"
    },
    {
     "data": {
      "image/png": "[encoded data removed]",
      "text/plain": [
       "<Figure size 1080x2160 with 27 Axes>"
      ]
     },
     "metadata": {
      "needs_background": "light"
     },
     "output_type": "display_data"
    }
   ],
   "source": [
    "data.hist(figsize=(15,30),layout=(9,3))"
   ]
  },
  {
   "cell_type": "code",
   "execution_count": 10,
   "id": "091d8cb6",
   "metadata": {},
   "outputs": [
    {
     "data": {
      "text/plain": [
       "IRVING PARK                    7312\n",
       "NEAR WEST SIDE                 3512\n",
       "MORGAN PARK                    3310\n",
       "Bronzeville/South Lakefront    2815\n",
       "PULLMAN                        2751\n",
       "                               ... \n",
       "FULLER PARK                     177\n",
       "HYDE PARK                       116\n",
       "CALUMET HEIGHTS                  81\n",
       "OHARE                             5\n",
       "BURNSIDE                          2\n",
       "Name: Geographic Cluster Name, Length: 79, dtype: int64"
      ]
     },
     "execution_count": 10,
     "metadata": {},
     "output_type": "execute_result"
    }
   ],
   "source": [
    "data['Geographic Cluster Name'].value_counts()"
   ]
  },
  {
   "cell_type": "code",
   "execution_count": null,
   "id": "6c29d252",
   "metadata": {},
   "outputs": [],
   "source": []
  }
 ],
 "metadata": {
  "kernelspec": {
   "display_name": "Python 3 (ipykernel)",
   "language": "python",
   "name": "python3"
  },
  "language_info": {
   "codemirror_mode": {
    "name": "ipython",
    "version": 3
   },
   "file_extension": ".py",
   "mimetype": "text/x-python",
   "name": "python",
   "nbconvert_exporter": "python",
   "pygments_lexer": "ipython3",
   "version": "3.9.12"
  }
 },
 "nbformat": 4,
 "nbformat_minor": 5
}
